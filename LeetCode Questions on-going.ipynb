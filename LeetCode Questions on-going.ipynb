{
 "cells": [
  {
   "cell_type": "markdown",
   "metadata": {},
   "source": [
    "# 两数之和"
   ]
  },
  {
   "cell_type": "code",
   "execution_count": null,
   "metadata": {},
   "outputs": [],
   "source": [
    "'''给定一个整数数组 nums 和一个目标值 target，请你在该数组中找出和为目标值的那 两个 整数，并返回他们的数组下标。\n",
    "\n",
    "你可以假设每种输入只会对应一个答案。但是，你不能重复利用这个数组中同样的元素。\n",
    "\n",
    "示例:\n",
    "\n",
    "给定 nums = [2, 7, 11, 15], target = 9\n",
    "\n",
    "因为 nums[0] + nums[1] = 2 + 7 = 9\n",
    "所以返回 [0, 1]\n",
    "'''\n",
    "\n"
   ]
  },
  {
   "cell_type": "code",
   "execution_count": null,
   "metadata": {},
   "outputs": [],
   "source": [
    "#我的代码\n",
    "class Solution:\n",
    "    def twoSum(self, nums: List[int], target: int) -> List[int]:\n",
    "        res = []\n",
    "        rest_nums = nums.copy()\n",
    "        index_i = -1\n",
    "        for i in nums:\n",
    "            index_i = index_i + 1\n",
    "            rest_nums.remove( i )\n",
    "            index_j = index_i\n",
    "            for j in rest_nums:\n",
    "                index_j = index_j + 1\n",
    "                if i + j == target:\n",
    "                    res = [index_i, index_j]\n",
    "                    return res\n",
    "                "
   ]
  },
  {
   "cell_type": "code",
   "execution_count": null,
   "metadata": {},
   "outputs": [],
   "source": [
    "#最佳答案：\n",
    "class Solution:\n",
    "    def twoSum(self, nums, target):\n",
    "        \"\"\"\n",
    "        :type nums: List[int]\n",
    "        :type target: int\n",
    "        :rtype: List[int]\n",
    "        \"\"\"\n",
    "        hashmap = {}\n",
    "        for index, num in enumerate(nums):\n",
    "            another_num = target - num\n",
    "            if another_num in hashmap:\n",
    "                return [hashmap[another_num], index]\n",
    "            hashmap[num] = index\n",
    "        return None\n",
    "    "
   ]
  },
  {
   "cell_type": "markdown",
   "metadata": {},
   "source": [
    "# 两数相加"
   ]
  },
  {
   "cell_type": "code",
   "execution_count": null,
   "metadata": {},
   "outputs": [],
   "source": [
    "'''\n",
    "给出两个 非空 的链表用来表示两个非负的整数。其中，它们各自的位数是按照 逆序 的方式存储的，并且它们的每个节点只能存储 一位 数字。\n",
    "\n",
    "如果，我们将这两个数相加起来，则会返回一个新的链表来表示它们的和。\n",
    "\n",
    "您可以假设除了数字 0 之外，这两个数都不会以 0 开头。\n",
    "\n",
    "输入：(2 -> 4 -> 3) + (5 -> 6 -> 4)\n",
    "输出：7 -> 0 -> 8\n",
    "原因：342 + 465 = 807\n",
    "'''"
   ]
  },
  {
   "cell_type": "code",
   "execution_count": null,
   "metadata": {},
   "outputs": [],
   "source": [
    "# 我的代码（未完成）---链表是什么？？？\n",
    "# Definition for singly-linked list.\n",
    "class ListNode:\n",
    "    def __init__(self, x):\n",
    "        self.val = x\n",
    "        self.next = None\n",
    "\n",
    "class Solution:\n",
    "    def addTwoNumbers(self, l1: ListNode, l2: ListNode) -> ListNode:\n",
    "        c: int = l1.val+l2.val\n",
    "        l3 :ListNode\n",
    "        l3.val = c\n",
    "        return l3"
   ]
  },
  {
   "cell_type": "code",
   "execution_count": null,
   "metadata": {},
   "outputs": [],
   "source": [
    "#最佳答案\n",
    "'''解题思路\n",
    "\n",
    "分析：链表操作、相加进位\n",
    "\n",
    "按节点相加\n",
    "注意保留起始节点指针\n",
    "循环递归都能完成\n",
    "\n",
    "骚操作：全部转换为字符串，进位默认隐藏在转换过程中，但我觉得意义不大，复杂度没有降低，常规算法封装一下就是操作符重载\n",
    "'''\n",
    "\n",
    "# Definition for singly-linked list.\n",
    "# class ListNode:\n",
    "#     def __init__(self, x):\n",
    "#         self.val = x\n",
    "#         self.next = None\n",
    "\n",
    "class Solution:\n",
    "    def addTwoNumbers(self, l1: ListNode, l2: ListNode) -> ListNode:\n",
    "        newNode=ListNode(0)\n",
    "        ansNode=newNode\n",
    "        flag=-1\n",
    "        while l1 or l2 or flag:\n",
    "            if flag!=-1:\n",
    "                newNode.next=ListNode(0)\n",
    "                newNode=newNode.next\n",
    "            else:\n",
    "                flag=0\n",
    "            if l1 and l2:\n",
    "                sum=l1.val+l2.val\n",
    "                l1=l1.next\n",
    "                l2=l2.next\n",
    "            elif l1:\n",
    "                sum=l1.val\n",
    "                l1=l1.next\n",
    "            elif l2:\n",
    "                sum=l2.val\n",
    "                l2=l2.next\n",
    "            else:\n",
    "                sum=0\n",
    "            newNode.val=(sum+1)%10 if flag==1 else sum%10\n",
    "            flag=1 if sum+flag>9 else 0 \n",
    "        return ansNode\n"
   ]
  },
  {
   "cell_type": "markdown",
   "metadata": {},
   "source": [
    "# 无重复字符的最长子串"
   ]
  },
  {
   "cell_type": "code",
   "execution_count": null,
   "metadata": {},
   "outputs": [],
   "source": [
    "'''给定一个字符串，请你找出其中不含有重复字符的 最长子串 的长度。\n",
    "\n",
    "示例 1:\n",
    "\n",
    "输入: \"abcabcbb\"\n",
    "输出: 3 \n",
    "解释: 因为无重复字符的最长子串是 \"abc\"，所以其长度为 3。\n",
    "示例 2:\n",
    "\n",
    "输入: \"bbbbb\"\n",
    "输出: 1\n",
    "解释: 因为无重复字符的最长子串是 \"b\"，所以其长度为 1。\n",
    "示例 3:\n",
    "\n",
    "输入: \"pwwkew\"\n",
    "输出: 3\n",
    "解释: 因为无重复字符的最长子串是 \"wke\"，所以其长度为 3。\n",
    "     请注意，你的答案必须是 子串 的长度，\"pwke\" 是一个子序列，不是子串。\n",
    "'''"
   ]
  },
  {
   "cell_type": "code",
   "execution_count": null,
   "metadata": {},
   "outputs": [],
   "source": [
    "#我的代码\n",
    "class Solution:\n",
    "    #def lengthOfLongestSubstring(self, s: str) -> int:\n",
    "    def lengthOfLongestSubstring(self, s: str):\n",
    "        if s == '':\n",
    "            max_len = 0\n",
    "        else:\n",
    "            save: str = s[0]\n",
    "            max_len = 1\n",
    "            for i in s:                \n",
    "                if i in save:\n",
    "                    b = save.split(i)\n",
    "                    save = b[1] + i\n",
    "                else:\n",
    "                    save = save + i         \n",
    "\n",
    "                temp_len=len(save)\n",
    "                if temp_len>max_len:\n",
    "                    max_len = temp_len       \n",
    "        return max_len"
   ]
  },
  {
   "cell_type": "markdown",
   "metadata": {},
   "source": [
    "# 4. 寻找两个有序数组的中位数"
   ]
  },
  {
   "cell_type": "code",
   "execution_count": null,
   "metadata": {},
   "outputs": [],
   "source": [
    "'''给定两个大小为 m 和 n 的有序数组 nums1 和 nums2。\n",
    "\n",
    "请你找出这两个有序数组的中位数，并且要求算法的时间复杂度为 O(log(m + n))。\n",
    "\n",
    "你可以假设 nums1 和 nums2 不会同时为空。\n",
    "\n",
    "示例 1:\n",
    "\n",
    "nums1 = [1, 3]\n",
    "nums2 = [2]\n",
    "\n",
    "则中位数是 2.0\n",
    "示例 2:\n",
    "\n",
    "nums1 = [1, 2]\n",
    "nums2 = [3, 4]\n",
    "\n",
    "则中位数是 (2 + 3)/2 = 2.5'''"
   ]
  },
  {
   "cell_type": "code",
   "execution_count": null,
   "metadata": {},
   "outputs": [],
   "source": [
    "#我的答案---虽然成功了，但是不太符合题意\n",
    "class Solution:\n",
    "    def findMedianSortedArrays(self, nums1: List[int], nums2: List[int]) -> float:\n",
    "        nums = nums1 + nums2\n",
    "        nums = sorted(nums)\n",
    "        l = len(nums)\n",
    "        if l%2 == 0:\n",
    "            ind1 = int(l/2 - 1)\n",
    "            mid = 0.5*(nums[ind1]+nums[ind1 + 1])\n",
    "        else:\n",
    "            ind = int((l-1)/2)\n",
    "            mid = nums[ind]\n",
    "        return mid\n"
   ]
  },
  {
   "cell_type": "code",
   "execution_count": null,
   "metadata": {},
   "outputs": [],
   "source": [
    "#最佳答案\n",
    "class Solution:\n",
    "    #这题很自然地想到归并排序，再取中间数，但是是nlogn的复杂度，题目要求logn\n",
    "    #所以要用二分法来巧妙地进一步降低时间复杂度\n",
    "    #思想就是利用总体中位数的性质和左右中位数之间的关系来把所有的数先分成两堆，然后再在两堆的边界返回答案\n",
    "    def findMedianSortedArrays(self, nums1: List[int], nums2: List[int]) -> float:\n",
    "        m = len(nums1)\n",
    "        n = len(nums2)\n",
    "        # 让nums2成为更长的那一个数组\n",
    "        if m>n:\n",
    "            nums1,nums2,m,n = nums2,nums1,n,m\n",
    "        \n",
    "        # 如果两个都为空的异常处理\n",
    "        if n == 0:\n",
    "            raise ValueError\n",
    "\n",
    "        # nums1中index在imid左边的都被分到左堆，nums2中jmid左边的都被分到左堆\n",
    "        imin,imax = 0,m\n",
    "        \n",
    "        # 二分答案\n",
    "        while(imin<=imax):\n",
    "            imid = imin + (imax-imin)//2\n",
    "            # 左堆最大的只有可能是nums1[imid-1],nums2[jmid-1]\n",
    "            # 右堆最小只有可能是nums1[imid],nums2[jmid]\n",
    "            # 让左右堆大致相等需要满足的条件是imid+jmid = m-imid+n-jmid 即 jmid = (m+n-2imid)//2\n",
    "            # 为什么是大致呢？因为有总数为奇数的情况，这里用向下取整数操作，所以如果是奇数，右堆会多1\n",
    "            jmid = (m+n-2*imid)//2 \n",
    "            \n",
    "            # 前面的判断条件只是为了保证不会index out of range\n",
    "            if(imid>0 and nums1[imid-1] > nums2[jmid]):\n",
    "                # imid太大了，这是里精确查找，不是左闭右开，而是双闭区间，所以直接移动一位\n",
    "                imax = imid-1\n",
    "            elif(imid<m and nums2[jmid-1] > nums1[imid]):\n",
    "                imin = imid+1\n",
    "            # 满足条件\n",
    "            else:\n",
    "                # 边界情况处理，都是为了不out of index\n",
    "                # 依次得到左堆最大和右堆最小\n",
    "                if(imid == m): minright = nums2[jmid]\n",
    "                elif(jmid == n): minright = nums1[imid]\n",
    "                else:\n",
    "                    minright = min(nums1[imid],nums2[jmid])        \n",
    "                    \n",
    "                if(imid == 0): maxleft = nums2[jmid-1]\n",
    "                elif(jmid == 0): maxleft = nums1[imid-1]\n",
    "                else:\n",
    "                    maxleft = max(nums1[imid-1],nums2[jmid-1])\n",
    "                \n",
    "                # 前面也提过，因为取中间的时候用的是向下取整，所以如果总数是奇数的话，\n",
    "                # 应该是右边个数多一些，边界的minright就是中位数\n",
    "                if((m+n)%2) == 1:\n",
    "                    return minright \n",
    "     \n",
    "                # 否则我们在两个值中间做个平均\n",
    "                return (maxleft + minright)/2"
   ]
  },
  {
   "cell_type": "markdown",
   "metadata": {},
   "source": [
    "# 5. 最长回文子串"
   ]
  },
  {
   "cell_type": "code",
   "execution_count": null,
   "metadata": {},
   "outputs": [],
   "source": [
    "'''给定一个字符串 s，找到 s 中最长的回文子串。你可以假设 s 的最大长度为 1000。\n",
    "\n",
    "示例 1：\n",
    "\n",
    "输入: \"babad\"\n",
    "输出: \"bab\"\n",
    "注意: \"aba\" 也是一个有效答案。\n",
    "示例 2：\n",
    "\n",
    "输入: \"cbbd\"\n",
    "输出: \"bb\"'''"
   ]
  },
  {
   "cell_type": "code",
   "execution_count": null,
   "metadata": {},
   "outputs": [],
   "source": [
    "# my code:\n",
    "class Solution:\n",
    "    def longestPalindrome(self, s: str) -> str:\n",
    "        res = '' if s=='' else s[0] \n",
    "        max_sub = len(res)                \n",
    "        for j in range(0,len(s)):\n",
    "            for k in range(j,len(s)):\n",
    "                sub = s[j:k+1]\n",
    "                if len(sub) <= max_sub:\n",
    "                    continue\n",
    "                else:\n",
    "                    if sub == sub[::-1]:\n",
    "                        max_sub = len(sub)\n",
    "                        res = sub\n",
    "        return res\n",
    "\n"
   ]
  },
  {
   "cell_type": "markdown",
   "metadata": {},
   "source": [
    "#best answer：https://leetcode-cn.com/problems/longest-palindromic-substring/solution/zhong-xin-kuo-san-dong-tai-gui-hua-by-liweiwei1419/274371\n",
    "“暴力匹配”，“动态规划”，“中心扩散”，“Manacher 算法”"
   ]
  },
  {
   "cell_type": "markdown",
   "metadata": {},
   "source": [
    "# 6. Z 字形变换"
   ]
  },
  {
   "cell_type": "code",
   "execution_count": null,
   "metadata": {},
   "outputs": [],
   "source": [
    "'''将一个给定字符串根据给定的行数，以从上往下、从左到右进行 Z 字形排列。\n",
    "\n",
    "比如输入字符串为 \"LEETCODEISHIRING\" 行数为 3 时，排列如下：\n",
    "\n",
    "L   C   I   R\n",
    "E T O E S I I G\n",
    "E   D   H   N\n",
    "之后，你的输出需要从左往右逐行读取，产生出一个新的字符串，比如：\"LCIRETOESIIGEDHN\"。\n",
    "\n",
    "请你实现这个将字符串进行指定行数变换的函数：\n",
    "\n",
    "string convert(string s, int numRows);\n",
    "示例 1:\n",
    "\n",
    "输入: s = \"LEETCODEISHIRING\", numRows = 3\n",
    "输出: \"LCIRETOESIIGEDHN\"\n",
    "示例 2:\n",
    "\n",
    "输入: s = \"LEETCODEISHIRING\", numRows = 4\n",
    "输出: \"LDREOEIIECIHNTSG\"\n",
    "解释:\n",
    "\n",
    "L     D     R\n",
    "E   O E   I I\n",
    "E C   I H   N\n",
    "T     S     G\n",
    "'''"
   ]
  },
  {
   "cell_type": "code",
   "execution_count": 75,
   "metadata": {},
   "outputs": [],
   "source": [
    "#wrong answer\n",
    "\n",
    "s = \"PAYPALISHIRING\"\n",
    "numRows = 3\n",
    "\n",
    "l = len(s)\n",
    "d = int(l / (2 * numRows -2))\n",
    "r = int(l % (2 * numRows - 2))\n",
    "if r <= numRows:\n",
    "    numCols = int(d *(numRows - 1) + 1)\n",
    "else:\n",
    "    numCols = int(d *(numRows - 1) + 1 + (r - numRows))\n",
    "    \n",
    "#print('numCols = ',numCols)\n",
    "A = [['']*numCols]*numRows\n",
    "print(A)\n",
    "for i in range(len(s)):\n",
    "    print('i = ', i)\n",
    "    di = int(i / (2 * numRows - 2))\n",
    "    #print('di = ', di)\n",
    "    ri = int(i % (2 * numRows - 2))\n",
    "    #print('ri = ', ri)\n",
    "    row = int(ri) if ri <= numRows - 1 else int(numRows * 2 - ri - 1)\n",
    "    print('row = ', row)\n",
    "    col = int(di*(numRows - 1)) if ri <= numRows - 1 else int(di*(numRows - 1) + (ri - numRows))\n",
    "    print('col = ', col)\n",
    "    A[row][col] = s[i]\n",
    "#print(A)\n",
    "print(\"\".join(A[0]+A[1]+A[2]))"
   ]
  },
  {
   "cell_type": "code",
   "execution_count": null,
   "metadata": {},
   "outputs": [],
   "source": [
    "#wrong answer\n",
    "class Solution:\n",
    "    def convert(self, s: str, numRows: int) -> str:\n",
    "        l = len(s)\n",
    "        d = int(l / (2 * numRows -2))\n",
    "        r = int(l % (2 * numRows - 2))\n",
    "        if r <= numRows:\n",
    "            numCols = int(d *(numRows - 1) + 1)\n",
    "        else:\n",
    "            numCols = int(d *(numRows - 1) + 1 + (r - numRows))\n",
    "            \n",
    "        print('numCols = ',numCols)\n",
    "        A = [['']*numCols]*numRows\n",
    "        for i in range(len(s)):\n",
    "            di = int(i / (2 * numRows - 2))\n",
    "            ri = int(i % (2 * numRows - 2))\n",
    "            row = int(ri) if ri <= numRows - 1 else int(numRows * 2 - ri - 1)\n",
    "            col = int(di*(numRows - 1)) if ri <= numRows - 1 else int(di*(numRows - 1) + (ri - numRows))\n",
    "            A[row][col] = s[i]\n",
    "        return \"\".join(A[0]+A[1]+A[2])\n"
   ]
  },
  {
   "cell_type": "code",
   "execution_count": null,
   "metadata": {},
   "outputs": [],
   "source": [
    "#best answer\n",
    "'''\n",
    "链接：https://leetcode-cn.com/problems/zigzag-conversion/solution/zzi-xing-bian-huan-by-jyd/'''\n",
    "class Solution:\n",
    "    def convert(self, s: str, numRows: int) -> str:\n",
    "        if numRows < 2: return s\n",
    "        res = [\"\" for _ in range(numRows)]\n",
    "        i, flag = 0, -1\n",
    "        for c in s:\n",
    "            res[i] += c\n",
    "            if i == 0 or i == numRows - 1: flag = -flag\n",
    "            i += flag\n",
    "        return \"\".join(res)"
   ]
  },
  {
   "cell_type": "markdown",
   "metadata": {},
   "source": [
    "# 7. 整数反转"
   ]
  },
  {
   "cell_type": "code",
   "execution_count": null,
   "metadata": {},
   "outputs": [],
   "source": [
    "'''给出一个 32 位的有符号整数，你需要将这个整数中每位上的数字进行反转。\n",
    "\n",
    "示例 1:\n",
    "\n",
    "输入: 123\n",
    "输出: 321\n",
    " 示例 2:\n",
    "\n",
    "输入: -123\n",
    "输出: -321\n",
    "示例 3:\n",
    "\n",
    "输入: 120\n",
    "输出: 21\n",
    "注意:\n",
    "\n",
    "假设我们的环境只能存储得下 32 位的有符号整数，则其数值范围为 [−2^31,  2^31 − 1]。请根据这个假设，如果反转后整数溢出那么就返回 0。\n",
    "'''"
   ]
  },
  {
   "cell_type": "code",
   "execution_count": null,
   "metadata": {},
   "outputs": [],
   "source": [
    "#My answer\n",
    "class Solution:\n",
    "    def reverse(self, x: int) -> int:\n",
    "        if x < -2**31 or x > 2**31-1 or x == 0:\n",
    "            return 0\n",
    "        else:\n",
    "            xx = abs(x)\n",
    "            res = int(x/abs(x) * int(str(xx)[::-1]))\n",
    "            if res > 2**31-1 or res < -2**31:\n",
    "                return 0\n",
    "            else:\n",
    "                return res\n",
    "            "
   ]
  },
  {
   "cell_type": "code",
   "execution_count": 25,
   "metadata": {},
   "outputs": [],
   "source": [
    "#Best answer\n",
    "'''优化解\n",
    "我们可以一次构建反转整数的一位数字。在这样做的时候，我们可以预先检查向原整数附加另一位数字是否会导致溢出。\n",
    "反转整数的方法可以与反转字符串进行类比。\n",
    "\n",
    "我们想重复“弹出” x 的最后一位数字，并将它“推入”到 res 的后面。最后，res 将与 x 相反。\n",
    "\n",
    "优化解：\n",
    "时间复杂度：O(log(x))，x中大约有log10(x) 位数字。\n",
    "空间复杂度：O(1)'''\n",
    "\n",
    "def reverse_better(\n",
    "        self, \n",
    "        x: int) -> int:\n",
    "               \n",
    "        y, res = abs(x), 0\n",
    "        # 则其数值范围为 [−2^31,  2^31 − 1]\n",
    "        boundry = (1<<31) -1 if x>0 else 1<<31\n",
    "        while y != 0:\n",
    "            res = res*10 +y%10\n",
    "            if res > boundry :\n",
    "                return 0\n",
    "            y //=10\n",
    "        return res if x >0 else -res\n"
   ]
  },
  {
   "cell_type": "markdown",
   "metadata": {},
   "source": [
    "复习一下python的位运算符：\n",
    "\n",
    "(a & b)\n",
    "按位与运算符：参与运算的两个值,如果两个相应位都为1,则该位的结果为1,否则为0 \n",
    "输出结果 12 ，二进制解释： 0000 1100\n",
    "\n",
    "(a | b)\n",
    "按位或运算符：只要对应的二个二进位有一个为1时，结果位就为1。 \n",
    "输出结果 61 ，二进制解释： 0011 1101\n",
    "\n",
    "(a ^ b)\n",
    "按位异或运算符：当两对应的二进位相异时，结果为1 \n",
    "输出结果 49 ，二进制解释： 0011 0001\n",
    "\n",
    "(~a )\n",
    "按位取反运算符：对数据的每个二进制位取反,即把1变为0,把0变为1 。~x 类似于 -x-1 \n",
    "输出结果 -61 ，二进制解释： 1100 0011，在一个有符号二进制数的补码形式。\n",
    "\n",
    "a << 2 \n",
    "左移动运算符：运算数的各二进位全部左移若干位，由 << 右边的数字指定了移动的位数，高位丢弃，低位补0。\n",
    "输出结果 240 ，二进制解释： 1111 0000\n",
    "\n",
    "a >> 2\n",
    "右移动运算符：把\">>\"左边的运算数的各二进位全部右移若干位，>> 右边的数字指定了移动的位数 \n",
    "输出结果 15 ，二进制解释： 0000 1111\n",
    "\n",
    "python赋值运算符：\n",
    "\n",
    "*= 乘法赋值运算符 c *= a 等效于 c = c * a\n",
    "/= 除法赋值运算符 c /= a 等效于 c = c / a\n",
    "%= 取模赋值运算符 c %= a 等效于 c = c % a\n",
    "**= 幂赋值运算符 c **= a 等效于 c = c ** a\n",
    "//= 取整除赋值运算符 c //= a 等效于 c = c // a\n",
    "\n",
    "链接：https://leetcode-cn.com/problems/reverse-integer/solution/pythondan-chu-he-tui-ru-shu-zi-yi-chu-qian-jin-xin/"
   ]
  },
  {
   "cell_type": "markdown",
   "metadata": {},
   "source": [
    "# 8. 字符串转换整数 (atoi)"
   ]
  },
  {
   "cell_type": "code",
   "execution_count": null,
   "metadata": {},
   "outputs": [],
   "source": [
    "'''请你来实现一个 atoi 函数，使其能将字符串转换成整数。\n",
    "\n",
    "首先，该函数会根据需要丢弃无用的开头空格字符，直到寻找到第一个非空格的字符为止。接下来的转化规则如下：\n",
    "\n",
    "如果第一个非空字符为正或者负号时，则将该符号与之后面尽可能多的连续数字字符组合起来，形成一个有符号整数。\n",
    "假如第一个非空字符是数字，则直接将其与之后连续的数字字符组合起来，形成一个整数。\n",
    "该字符串在有效的整数部分之后也可能会存在多余的字符，那么这些字符可以被忽略，它们对函数不应该造成影响。\n",
    "注意：假如该字符串中的第一个非空格字符不是一个有效整数字符、字符串为空或字符串仅包含空白字符时，则你的函数不需要进行转换，即无法进行有效转换。\n",
    "\n",
    "在任何情况下，若函数不能进行有效的转换时，请返回 0 。\n",
    "\n",
    "提示：\n",
    "\n",
    "本题中的空白字符只包括空格字符 ' ' 。\n",
    "假设我们的环境只能存储 32 位大小的有符号整数，那么其数值范围为 [−2^31,  2^31 − 1]。如果数值超过这个范围，请返回  INT_MAX (2^31 − 1) 或 INT_MIN (−2^31) 。\n",
    " \n",
    "\n",
    "示例 1:\n",
    "\n",
    "输入: \"42\"\n",
    "输出: 42\n",
    "示例 2:\n",
    "\n",
    "输入: \"   -42\"\n",
    "输出: -42\n",
    "解释: 第一个非空白字符为 '-', 它是一个负号。\n",
    "     我们尽可能将负号与后面所有连续出现的数字组合起来，最后得到 -42 。\n",
    "示例 3:\n",
    "\n",
    "输入: \"4193 with words\"\n",
    "输出: 4193\n",
    "解释: 转换截止于数字 '3' ，因为它的下一个字符不为数字。\n",
    "示例 4:\n",
    "\n",
    "输入: \"words and 987\"\n",
    "输出: 0\n",
    "解释: 第一个非空字符是 'w', 但它不是数字或正、负号。\n",
    "     因此无法执行有效的转换。\n",
    "示例 5:\n",
    "\n",
    "输入: \"-91283472332\"\n",
    "输出: -2147483648\n",
    "解释: 数字 \"-91283472332\" 超过 32 位有符号整数范围。 \n",
    "     因此返回 INT_MIN (−2^31) 。\n",
    "'''"
   ]
  },
  {
   "cell_type": "code",
   "execution_count": 3,
   "metadata": {},
   "outputs": [
    {
     "name": "stdout",
     "output_type": "stream",
     "text": [
      "0\n"
     ]
    }
   ],
   "source": [
    "#st = '42-568m'\n",
    "#st = \"words and 987\"\n",
    "#st = \"    -42\"\n",
    "st = '-'\n",
    "\n",
    "st.strip(' ')\n",
    "save = []\n",
    "for i in st:\n",
    "    if i == ' ':\n",
    "        continue\n",
    "    elif i in ('0','1','2','3','4','5','6','7','8','9','-'):\n",
    "        save.append(i)\n",
    "    else:\n",
    "        break\n",
    "\n",
    "if save == [] or save == ['-']:\n",
    "    print(0) \n",
    "else:\n",
    "    res2 = ''\n",
    "    try:\n",
    "        res = int(\"\".join(save))\n",
    "    except (ValueError, TypeError):\n",
    "        for j in save:\n",
    "            if j == '-':\n",
    "                break\n",
    "            else:\n",
    "                res2 = res2 + j\n",
    "                res = int(res2)\n",
    "    #res = int(\"\".join(save))\n",
    "    \n",
    "    if res > 2**31:\n",
    "        print(2**31)\n",
    "    elif res < -2**31:\n",
    "        print(-2**31)\n",
    "    else:\n",
    "        print(res)\n"
   ]
  },
  {
   "cell_type": "code",
   "execution_count": null,
   "metadata": {},
   "outputs": [],
   "source": []
  },
  {
   "cell_type": "code",
   "execution_count": 1,
   "metadata": {},
   "outputs": [
    {
     "data": {
      "text/plain": [
       "False"
      ]
     },
     "execution_count": 1,
     "metadata": {},
     "output_type": "execute_result"
    }
   ],
   "source": [
    "bool(0)"
   ]
  },
  {
   "cell_type": "code",
   "execution_count": 25,
   "metadata": {},
   "outputs": [
    {
     "name": "stdout",
     "output_type": "stream",
     "text": [
      "0\n",
      "True\n",
      "1\n",
      "False\n"
     ]
    }
   ],
   "source": [
    "x = 12321\n",
    "#non-string method\n",
    "sign = x/abs(x)\n",
    "if sign == -1 or x%10 == 0:\n",
    "    print(bool(0)) \n",
    "n = 0\n",
    "while 10**n < x:\n",
    "    n = n + 1\n",
    "    if n == 0:\n",
    "        print(bool(1))  \n",
    "\n",
    "for i in range(int(n/2)):\n",
    "    print(i)\n",
    "    if int((x%(10**(i+1))/10**(i))) != int(x/10**(n-1-i))%(10**(i+1)):\n",
    "        print(bool(0))\n",
    "    else:\n",
    "        print(bool(1))"
   ]
  },
  {
   "cell_type": "code",
   "execution_count": 28,
   "metadata": {},
   "outputs": [
    {
     "name": "stdout",
     "output_type": "stream",
     "text": [
      "2\n",
      "12\n"
     ]
    }
   ],
   "source": [
    "i = 1\n",
    "a = int((x%(10**(i+1))/10**(i)))\n",
    "\n",
    "b = int(x/(10**(n-1-i))%(10**(i+1)))\n",
    "\n",
    "print(a)\n",
    "print(b)"
   ]
  },
  {
   "cell_type": "code",
   "execution_count": 22,
   "metadata": {},
   "outputs": [
    {
     "data": {
      "text/plain": [
       "0"
      ]
     },
     "execution_count": 22,
     "metadata": {},
     "output_type": "execute_result"
    }
   ],
   "source": [
    "1%1"
   ]
  },
  {
   "cell_type": "code",
   "execution_count": null,
   "metadata": {},
   "outputs": [],
   "source": []
  }
 ],
 "metadata": {
  "kernelspec": {
   "display_name": "Python 3",
   "language": "python",
   "name": "python3"
  },
  "language_info": {
   "codemirror_mode": {
    "name": "ipython",
    "version": 3
   },
   "file_extension": ".py",
   "mimetype": "text/x-python",
   "name": "python",
   "nbconvert_exporter": "python",
   "pygments_lexer": "ipython3",
   "version": "3.7.4"
  }
 },
 "nbformat": 4,
 "nbformat_minor": 2
}
