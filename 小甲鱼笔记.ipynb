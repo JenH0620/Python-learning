{
 "cells": [
  {
   "cell_type": "markdown",
   "metadata": {},
   "source": [
    "004：小游戏"
   ]
  },
  {
   "cell_type": "code",
   "execution_count": 1,
   "metadata": {},
   "outputs": [
    {
     "name": "stdout",
     "output_type": "stream",
     "text": [
      "=====the first time I use python====\n"
     ]
    },
    {
     "name": "stdin",
     "output_type": "stream",
     "text": [
      "guess the number I am thinking: 8\n"
     ]
    },
    {
     "name": "stdout",
     "output_type": "stream",
     "text": [
      "You are such a fool, the guess is much bigger\n"
     ]
    },
    {
     "name": "stdin",
     "output_type": "stream",
     "text": [
      "guess the number I am thinking: 2\n"
     ]
    },
    {
     "name": "stdout",
     "output_type": "stream",
     "text": [
      "You are such a fool, the guess is much bigger\n"
     ]
    },
    {
     "name": "stdin",
     "output_type": "stream",
     "text": [
      "guess the number I am thinking: 4\n"
     ]
    },
    {
     "name": "stdout",
     "output_type": "stream",
     "text": [
      "You are such a fool, the guess is much bigger\n",
      "Game Over! the correct answer is \n",
      "10\n"
     ]
    }
   ],
   "source": [
    "#004\n",
    "# print( \"=====the first time I use python====\" )\n",
    "# temp = input( \"guess the number I am thinking:\" )\n",
    "# guess = int( temp )\n",
    "# random = 8\n",
    "# if guess == random :\n",
    "#     print( \"That's right\" )\n",
    "# else :\n",
    "#     if guess < random:\n",
    "#         print( \"You are such a fool, the guess is much bigger\" )\n",
    "#     else:\n",
    "#         print( \"You are such a fool, the guess is much smaller\" )\n",
    "# print( \"Game Over\" )\n",
    "\n",
    "# print( \"=====the first time I use python====\" )\n",
    "# times = 0\n",
    "# while times < 3:\n",
    "#     times = times + 1\n",
    "#     temp = input( \"guess the number I am thinking:\" )\n",
    "#     guess: int = int( temp )\n",
    "#     random = 8\n",
    "#\n",
    "#     if guess == random :\n",
    "#         print( \"That's right\" )\n",
    "#     else :\n",
    "#         if guess < random:\n",
    "#             print( \"You are such a fool, the guess is much bigger\" )\n",
    "#         else:\n",
    "#             print( \"You are such a fool, the guess is much smaller\" )\n",
    "# print( \"Game Over\" )\n",
    "\n",
    "import random\n",
    "from typing import Any, Union\n",
    "\n",
    "r: Union[int, Any] = random.randint( 1, 10 )\n",
    "\n",
    "print( \"=====the first time I use python====\" )\n",
    "times = 0\n",
    "while times < 3:\n",
    "    times = times + 1\n",
    "    temp = input( \"guess the number I am thinking:\" )\n",
    "    guess: int = int( temp )\n",
    "    random = r\n",
    "\n",
    "    if guess == random:\n",
    "        print( \"That's right\" )\n",
    "    else:\n",
    "        if guess < random:\n",
    "            print( \"You are such a fool, the guess is much bigger\" )\n",
    "        else:\n",
    "            print( \"You are such a fool, the guess is much smaller\" )\n",
    "print( \"Game Over! the correct answer is \")\n",
    "print(r)\n",
    "\n",
    "\n"
   ]
  },
  {
   "cell_type": "markdown",
   "metadata": {},
   "source": [
    "005：Python数据类型"
   ]
  },
  {
   "cell_type": "code",
   "execution_count": 1,
   "metadata": {},
   "outputs": [
    {
     "ename": "TypeError",
     "evalue": "isinstance expected 2 arguments, got 1",
     "output_type": "error",
     "traceback": [
      "\u001b[0;31m---------------------------------------------------------------------------\u001b[0m",
      "\u001b[0;31mTypeError\u001b[0m                                 Traceback (most recent call last)",
      "\u001b[0;32m<ipython-input-1-38e28b035ee8>\u001b[0m in \u001b[0;36m<module>\u001b[0;34m\u001b[0m\n\u001b[1;32m      2\u001b[0m \u001b[0mb\u001b[0m \u001b[0;34m=\u001b[0m \u001b[0mint\u001b[0m\u001b[0;34m(\u001b[0m \u001b[0ma\u001b[0m \u001b[0;34m)\u001b[0m\u001b[0;34m\u001b[0m\u001b[0;34m\u001b[0m\u001b[0m\n\u001b[1;32m      3\u001b[0m \u001b[0mc\u001b[0m \u001b[0;34m=\u001b[0m \u001b[0mfloat\u001b[0m\u001b[0;34m(\u001b[0m \u001b[0mb\u001b[0m \u001b[0;34m/\u001b[0m \u001b[0;36m10\u001b[0m \u001b[0;34m)\u001b[0m\u001b[0;34m\u001b[0m\u001b[0;34m\u001b[0m\u001b[0m\n\u001b[0;32m----> 4\u001b[0;31m \u001b[0mprint\u001b[0m\u001b[0;34m(\u001b[0m \u001b[0misinstance\u001b[0m\u001b[0;34m(\u001b[0m \u001b[0mb\u001b[0m \u001b[0;34m)\u001b[0m \u001b[0;34m)\u001b[0m\u001b[0;31m#?????\u001b[0m\u001b[0;34m\u001b[0m\u001b[0;34m\u001b[0m\u001b[0m\n\u001b[0m\u001b[1;32m      5\u001b[0m \u001b[0;34m\u001b[0m\u001b[0m\n",
      "\u001b[0;31mTypeError\u001b[0m: isinstance expected 2 arguments, got 1"
     ]
    }
   ],
   "source": [
    "a = \"520\"\n",
    "b = int( a )\n",
    "c = float( b / 10 )\n",
    "print( isinstance( b ) )#?????\n",
    "\n"
   ]
  },
  {
   "cell_type": "markdown",
   "metadata": {},
   "source": [
    "006：Python常用操作符\n",
    "先幂，正负号，算术操作符（先乘除后加减），比较操作符（<,>）比逻辑操作符(and, or, not)优先级高\n",
    "+=\n",
    "-3**2 = -（3**2）\n",
    "not 0 ==> True\n",
    "3<4<5 ==> True"
   ]
  },
  {
   "cell_type": "markdown",
   "metadata": {},
   "source": [
    "007：分支和循环1"
   ]
  },
  {
   "cell_type": "code",
   "execution_count": 2,
   "metadata": {},
   "outputs": [
    {
     "name": "stdout",
     "output_type": "stream",
     "text": [
      "4\n"
     ]
    }
   ],
   "source": [
    "x=4\n",
    "y=5\n",
    "small = x if x<y else y\n",
    "print(small)\n",
    "\n",
    "# assert to test a situation and break instantly"
   ]
  },
  {
   "cell_type": "markdown",
   "metadata": {},
   "source": [
    "009：分支和循环2"
   ]
  },
  {
   "cell_type": "code",
   "execution_count": 3,
   "metadata": {},
   "outputs": [
    {
     "name": "stdout",
     "output_type": "stream",
     "text": [
      "2\n",
      "1\n",
      "4\n",
      "3\n",
      "6\n",
      "5\n",
      "8\n",
      "7\n",
      "10\n",
      "9\n"
     ]
    }
   ],
   "source": [
    "# favourite = 'fish C'\n",
    "# for i in favourite:\n",
    "#     print(i,end=' ')\n",
    "\n",
    "# range( [start,] stop[,step=1] )\n",
    "# range(0,5)\n",
    "# print(list(range(5)))\n",
    "#\n",
    "# for i in range(2,9,3):\n",
    "#     print(i)\n",
    "\n",
    "# ===================#\n",
    "# bingo = 'You are amazing'\n",
    "# answer = input('Input the sentence I want to hear: ')\n",
    "#\n",
    "# while True:\n",
    "#     if answer == bingo:\n",
    "#         break\n",
    "#     answer = input('Not exactly\\n')\n",
    "#\n",
    "# print('Congraduation!')\n",
    "\n",
    "# ================#\n",
    "for i in range(10):\n",
    "    if i%2 != 0: #if i is an odd number\n",
    "        print(i)\n",
    "        continue\n",
    "    i += 2\n",
    "    print(i)\n",
    "\n"
   ]
  },
  {
   "cell_type": "markdown",
   "metadata": {},
   "source": [
    "010--012：打了激素的数组--列表"
   ]
  },
  {
   "cell_type": "markdown",
   "metadata": {},
   "source": [
    "013：元组"
   ]
  },
  {
   "cell_type": "code",
   "execution_count": 4,
   "metadata": {},
   "outputs": [
    {
     "name": "stdout",
     "output_type": "stream",
     "text": [
      "('qw', 'er', 'I', 'ty', 'ui', 'op')\n"
     ]
    },
    {
     "ename": "NameError",
     "evalue": "name 'temp' is not defined",
     "output_type": "error",
     "traceback": [
      "\u001b[0;31m---------------------------------------------------------------------------\u001b[0m",
      "\u001b[0;31mNameError\u001b[0m                                 Traceback (most recent call last)",
      "\u001b[0;32m<ipython-input-4-69c948cdf3f7>\u001b[0m in \u001b[0;36m<module>\u001b[0;34m\u001b[0m\n\u001b[1;32m     20\u001b[0m \u001b[0;34m\u001b[0m\u001b[0m\n\u001b[1;32m     21\u001b[0m \u001b[0;32mdel\u001b[0m \u001b[0mtemp\u001b[0m\u001b[0;34m\u001b[0m\u001b[0;34m\u001b[0m\u001b[0m\n\u001b[0;32m---> 22\u001b[0;31m \u001b[0mprint\u001b[0m\u001b[0;34m(\u001b[0m\u001b[0mtemp\u001b[0m\u001b[0;34m)\u001b[0m\u001b[0;34m\u001b[0m\u001b[0;34m\u001b[0m\u001b[0m\n\u001b[0m",
      "\u001b[0;31mNameError\u001b[0m: name 'temp' is not defined"
     ]
    }
   ],
   "source": [
    "# tuple1 = (1, 2, 3, 4, 5, 6, 7, 8)\n",
    "# print( tuple1[1] )\n",
    "# tuple2 = tuple1[:]\n",
    "# print( tuple2 )\n",
    "# tuple2 = 4,3,2\n",
    "# print(type(tuple2))\n",
    "#\n",
    "# temp = []\n",
    "# print(type(temp))\n",
    "\n",
    "# temp = 1,\n",
    "# print(type(temp))\n",
    "\n",
    "# temp = 8 * (8,)\n",
    "# print(temp)\n",
    "\n",
    "temp = ('qw','er','ty','ui','op')\n",
    "temp = temp[:2]+('I',)+temp[2:]\n",
    "print(temp) # wait for a minite\n",
    "\n",
    "del temp\n",
    "print(temp)"
   ]
  },
  {
   "cell_type": "markdown",
   "metadata": {},
   "source": [
    "014：字符串内置方式"
   ]
  },
  {
   "cell_type": "code",
   "execution_count": 5,
   "metadata": {},
   "outputs": [
    {
     "name": "stdout",
     "output_type": "stream",
     "text": [
      "i lov\n",
      "i lovnewfish\n",
      "i lovnewfish\n",
      "I lovnewfish\n",
      "I lovnewfish\n",
      "i lovnewfish\n",
      "i lovnewfish\n",
      "0\n",
      "i lovnewfish\n",
      "10\n",
      "i lovnewfish\n",
      "1i lovnewfish i lovnewfish2i lovnewfish i lovnewfish3i lovnewfish i lovnewfish4i lovnewfish5\n",
      "i lovnewfish\n",
      "('i l', 'ov', 'newfish')\n",
      "i lovnewfish\n",
      "i lovnewJEN\n",
      "i lovnewfish\n",
      "['i lovnew', 'sh']\n",
      "i lovnewfish\n",
      "s s ss\n",
      "{115: 98}\n",
      "     b b bb    \n"
     ]
    }
   ],
   "source": [
    "str1 = 'i love fish'\n",
    "print( str1[:5] )\n",
    "\n",
    "str1 = str1[:5] + 'new' + str1[7:]\n",
    "print( str1 )\n",
    "\n",
    "str2 = str1.capitalize()\n",
    "print( str1 )\n",
    "print( str2 )\n",
    "\n",
    "str3 = str2.casefold()\n",
    "print( str2 )\n",
    "print( str3 )\n",
    "\n",
    "str4 = str1.count('xi')\n",
    "print( str1 )\n",
    "print( str4 )\n",
    "\n",
    "str5 = str1.find('s')\n",
    "print( str1 )\n",
    "print( str5 )\n",
    "\n",
    "str6 = str1.join('1 2 3 45')\n",
    "print( str1 )\n",
    "print( str6 )\n",
    "\n",
    "str7 = str1.partition('ov')\n",
    "print( str1 )\n",
    "print( str7 )\n",
    "\n",
    "str8 = str1.replace('fish','JEN')\n",
    "print( str1 )\n",
    "print( str8 )\n",
    "\n",
    "str9 = str1.split('fi')\n",
    "print( str1 )\n",
    "print( str9 )\n",
    "\n",
    "str11 = '     s s ss    '\n",
    "str10 = str11.strip()\n",
    "print( str1 )\n",
    "print( str10 )\n",
    "\n",
    "str12 = str11.translate(str.maketrans('s','b'))\n",
    "print( str.maketrans('s','b') )\n",
    "print(str12)"
   ]
  },
  {
   "cell_type": "markdown",
   "metadata": {},
   "source": [
    "015：字符串 格式化"
   ]
  },
  {
   "cell_type": "code",
   "execution_count": 6,
   "metadata": {},
   "outputs": [
    {
     "name": "stdout",
     "output_type": "stream",
     "text": [
      "{0}\n",
      "27.7GB\n",
      "a\n",
      "a b c\n",
      "97def\n",
      "4 + 5 = 9\n",
      "67C\n",
      "1660.000000\n",
      "1.660000E+03\n",
      "16601.0\n",
      "1.7e+04\n",
      "+16601\n",
      "0o20\n",
      "16\n",
      "0X10\n"
     ]
    }
   ],
   "source": [
    "# str1 = \"{0} love {1} {2}\"\n",
    "# str2 = str1.format('I', 'love', 'com')\n",
    "# print( str2 )\n",
    "#\n",
    "# str3 = '{a} love {b} {c}'.format(a='I', b='love', c='com')\n",
    "# print( str3 )\n",
    "#\n",
    "# #str4 = '{a} love {b} {c}'.format('I', 'love', 'com')\n",
    "# #print( str4 )\n",
    "#\n",
    "# str5 = '{0} love {b} {c}'.format('I', b='love', c='com')\n",
    "# print( str5 )\n",
    "\n",
    "print(\"{{0}}\".format('No'))\n",
    "print(\"{0:.1f}{1}\".format(27.658, 'GB'))\n",
    "\n",
    "print('%c' % 97)\n",
    "print('%c %c %c' % (97, 98, 99))\n",
    "print('%s' % '97def')\n",
    "print('%d + %d = %d' % (4, 5, 4+5))\n",
    "print('%X' % 1660)\n",
    "print('%f' % 1660)\n",
    "print('%E' % 1660)\n",
    "print('%5.1f' % 16601)\n",
    "print('%.1e' % 16601)\n",
    "print('%+d' % 16601)\n",
    "print('%#o' % 16)\n",
    "print('%#d' % 16)\n",
    "print('%#X' % 16)"
   ]
  },
  {
   "cell_type": "markdown",
   "metadata": {},
   "source": [
    "016：序列！"
   ]
  },
  {
   "cell_type": "code",
   "execution_count": 7,
   "metadata": {},
   "outputs": [
    {
     "name": "stdout",
     "output_type": "stream",
     "text": [
      "['I', ' ', 'l', 'o', 'v', 'e', ' ', 'U', 'x', 'x', 'x', 'x', 'x']\n",
      "13\n",
      "x\n",
      "1\n",
      "978.3\n",
      "[98, 76, 5.4, 32, 8.9, 678, 45, 23, 12]\n",
      "[(0, 12), (1, 23), (2, 45), (3, 678), (4, 8.9), (5, 32), (6, 5.4), (7, 76), (8, 98)]\n",
      "[(1, 9), (2, 8), (3, 7)]\n"
     ]
    }
   ],
   "source": [
    "# help(list)\n",
    "\n",
    "a = 'I love Uxxxxx'\n",
    "b = list( a )\n",
    "print( b )\n",
    "\n",
    "print( len( a ) )\n",
    "print( max( b ) )\n",
    "\n",
    "number = [12, 23, 45, 678, 8.9, 32, 5.4, 76, 98]\n",
    "# print( min( number ) )\n",
    "chars = '12346989'\n",
    "print( min( chars ) )\n",
    "print( sum( number ) )\n",
    "\n",
    "print( list( reversed( number ) ) )\n",
    "\n",
    "print( list( enumerate( number ) ) )\n",
    "\n",
    "aa = [1, 2, 3, 4, 5]\n",
    "bb = [9, 8, 7]\n",
    "print( list( zip( aa, bb ) ) )"
   ]
  },
  {
   "cell_type": "markdown",
   "metadata": {},
   "source": [
    "017：函数"
   ]
  },
  {
   "cell_type": "code",
   "execution_count": 8,
   "metadata": {},
   "outputs": [
    {
     "name": "stdout",
     "output_type": "stream",
     "text": [
      "This is my first function!\n",
      "How excited it is!\n",
      "Hereby, I thank you all!\n",
      "I love U, Jen\n",
      "4\n"
     ]
    }
   ],
   "source": [
    "def Myfirstfunction():\n",
    "    print('This is my first function!')\n",
    "    print('How excited it is!')\n",
    "    print('Hereby, I thank you all!')\n",
    "\n",
    "def Mysecondfunction(name):\n",
    "    print('I love U, '+name)\n",
    "\n",
    "def add(num1, num2):\n",
    "    print( num2 + num1 * 2 )\n",
    "\n",
    "Myfirstfunction()\n",
    "\n",
    "Mysecondfunction('Jen')\n",
    "\n",
    "add(1,2)"
   ]
  },
  {
   "cell_type": "markdown",
   "metadata": {},
   "source": [
    "018：函数文档\n",
    "形参（parameter）和实参（argument）\n",
    "def MyfirstFunction(name):\n",
    "name是形参\n",
    ">>MyfisrtFunction（‘小甲鱼’）\n",
    "小甲鱼 是 实参\n",
    "\n",
    "函数文档--让别人理解自己的函数\n",
    "函数名._doc_ 可以显示函数中‘’的文档部分内容\n",
    "\n",
    "关键字参数\n",
    "def SaySome(name,words):\n",
    "    print(name + '->' + words)\n",
    "    \n",
    "默认参数\n",
    "def SaySome2(name = ’小甲鱼‘,words = ’让编程改变世界‘):\n",
    "    print(name + '->' + words)\n",
    "    \n",
    "搜集参数  *param 将所有参数打包"
   ]
  },
  {
   "cell_type": "code",
   "execution_count": 37,
   "metadata": {},
   "outputs": [
    {
     "name": "stdout",
     "output_type": "stream",
     "text": [
      "Hereby, I thank you all!\n",
      "==============\n",
      "This is my first function!\n",
      "==============\n",
      "Help on function Myfirstfunction in module __main__:\n",
      "\n",
      "Myfirstfunction()\n",
      "    This is my first function!\n",
      "\n",
      "==============\n",
      "I love U, Jen\n",
      "==============\n",
      "4\n",
      "==============\n",
      "5\n",
      "==============\n",
      "the length of parameter:  4\n",
      "the second is  12\n",
      "小甲鱼->让编程改变世界\n",
      "让编程改变世界->小甲鱼\n",
      "小甲鱼->让编程改变世界\n",
      "==============\n",
      "小甲鱼->让编程改变世界\n",
      "==============\n",
      "the length of parameter:  9\n",
      "the second is  1\n",
      "==============\n",
      "the length of parameter:  8 8\n",
      "the second is  1\n",
      "==============\n",
      "the length of parameter:  9 8\n",
      "the second is  1\n",
      "the length of parameter:  8 8\n",
      "the second is  1\n"
     ]
    }
   ],
   "source": [
    "def Myfirstfunction():\n",
    "    'This is my first function!'\n",
    "    # How excited it is!\n",
    "    print('Hereby, I thank you all!')\n",
    "\n",
    "def Mysecondfunction(name):\n",
    "    print('I love U, '+name)\n",
    "\n",
    "def add(num1, num2):\n",
    "    print( num2 + num1 * 2 )\n",
    "\n",
    "def SaySome(name,words):\n",
    "    print(name + '->' + words)\n",
    "\n",
    "Myfirstfunction()\n",
    "print('==============')\n",
    "print(Myfirstfunction.__doc__)\n",
    "print('==============')\n",
    "help(Myfirstfunction)\n",
    "print('==============')\n",
    "Mysecondfunction('Jen')\n",
    "print('==============')\n",
    "add(1,2)\n",
    "print('==============')\n",
    "add(num2=1,num1=2)\n",
    "print('==============')\n",
    "test111('Jen',12,4455,890)\n",
    "\n",
    "\n",
    "SaySome('小甲鱼','让编程改变世界')\n",
    "SaySome('让编程改变世界','小甲鱼')\n",
    "SaySome(words = '让编程改变世界',name = '小甲鱼')\n",
    "print('==============')\n",
    "def SaySome2(name = '小甲鱼',words = '让编程改变世界'):\n",
    "    print(name + '->' + words)\n",
    "    \n",
    "SaySome2()\n",
    "\n",
    "print('==============')\n",
    "def test111(*param):#搜集参数\n",
    "    print('the length of parameter: ', len(param))\n",
    "    print('the second is ', param[1])\n",
    "    \n",
    "test111('who',1,'silly',2,'great',11,'empty',0,'needy')\n",
    "\n",
    "\n",
    "print('==============')\n",
    "def test1111(*param, expp):#搜集参数\n",
    "    print('the length of parameter: ', len(param), expp)\n",
    "    print('the second is ', param[1])\n",
    "    \n",
    "#test1111('who',1,'silly',2,'great',11,'empty',0, 8)\n",
    "test1111('who',1,'silly',2,'great',11,'empty',0,expp = 8)\n",
    "\n",
    "print('==============')\n",
    "def test1111(*param, expp = 8):#搜集参数\n",
    "    print('the length of parameter: ', len(param), expp)\n",
    "    print('the second is ', param[1])\n",
    "    \n",
    "test1111('who',1,'silly',2,'great',11,'empty',0, 8)\n",
    "test1111('who',1,'silly',2,'great',11,'empty',0,expp = 8)"
   ]
  },
  {
   "cell_type": "markdown",
   "metadata": {},
   "source": [
    "019: 函数与过程\n",
    "函数有返回值；过程没有返回值\n",
    "但Python没有过程,python的返回值类型是自动的，还可以返回多个类型的值\n",
    "\n",
    "局部变量和全局变量\n",
    "函数外无法访问函数内的变量--local variable\n",
    "全局变量\n",
    "如果在函数内试图去修改一个全局变量，那么Python将创建一个新的局部变量来代替，名字和这个全局变量一样"
   ]
  },
  {
   "cell_type": "code",
   "execution_count": 50,
   "metadata": {},
   "outputs": [
    {
     "name": "stdout",
     "output_type": "stream",
     "text": [
      "hello, you\n",
      "None\n",
      "<class 'NoneType'>\n",
      "[1, 'Jen', 3.14]\n",
      "(1, 'Jen', 3.14)\n",
      "==============\n"
     ]
    },
    {
     "name": "stdin",
     "output_type": "stream",
     "text": [
      "please input the old price:  100\n",
      "please input the rate of discount:  0.08\n"
     ]
    },
    {
     "name": "stdout",
     "output_type": "stream",
     "text": [
      "修改后old_price的值是1：  50\n",
      "The price after the discount is:  8.0\n",
      "修改后old_price的值是2：  100.0\n",
      "==============\n"
     ]
    }
   ],
   "source": [
    "def hello():\n",
    "    print('hello, you')\n",
    "\n",
    "temp = hello()\n",
    "print(temp)\n",
    "print(type(temp))\n",
    "\n",
    "def back():\n",
    "    return  [1, 'Jen', 3.14]\n",
    "def back1():\n",
    "    return  1, 'Jen', 3.14 #返回的是元组\n",
    "\n",
    "print( back() )\n",
    "print( back1() )\n",
    "\n",
    "def discounts(price, rate):\n",
    "    final_price = price * rate # final_price only exists in the function\n",
    "    # old_price = 50\n",
    "    #print('here we want to have a global variable: ', old_price)\n",
    "    return final_price\n",
    "\n",
    "#old_price = float(input('please input the old price: '))\n",
    "#rate = float(input('please input the rate of discount: '))\n",
    "#new_price = discounts(old_price, rate)\n",
    "#print('The price after the discount is: ', new_price)\n",
    "#print('A local variable final_price is: ', final_price)\n",
    "\n",
    "print('==============')\n",
    "\n",
    "def discounts1(price, rate):\n",
    "    final_price = price * rate # final_price only exists in the function\n",
    "    old_price = 50\n",
    "    print('修改后old_price的值是1： ',old_price)\n",
    "    #print('here we want to have a global variable: ', old_price)\n",
    "    return final_price\n",
    "\n",
    "old_price = float(input('please input the old price: '))\n",
    "rate = float(input('please input the rate of discount: '))\n",
    "new_price = discounts1(old_price, rate)\n",
    "print('The price after the discount is: ', new_price)\n",
    "#print('A local variable final_price is: ', final_price)\n",
    "print('修改后old_price的值是2： ',old_price)\n",
    "print('==============')"
   ]
  },
  {
   "cell_type": "markdown",
   "metadata": {},
   "source": [
    "020：内嵌函数和闭包\n",
    "global 关键字\n",
    "\n",
    "内嵌函数：允许函数内部定义另一个函数\n",
    "内部函数不能在外部函数外调用\n",
    "\n",
    "闭包，函数式编程\n",
    "如果在一个内部函数里funY在外部函数范围内……\n",
    "\n",
    "def funOne():\n",
    "    x = 5\n",
    "    def funTwo():\n",
    "        x *= x\n",
    "        return x\n",
    "    return funTwo()\n",
    "\n",
    "这里的问是在在整个外部函数的范围内，funTwo试图在内部函数内部修改一个外部变量，这是不可行的"
   ]
  },
  {
   "cell_type": "code",
   "execution_count": 54,
   "metadata": {},
   "outputs": [
    {
     "name": "stdout",
     "output_type": "stream",
     "text": [
      "10\n",
      "5\n",
      "10\n",
      "10\n",
      "==============\n",
      "fun1() is working\n",
      "fun2() is working\n",
      "==============\n",
      "<function funX.<locals>.funY at 0x107c8d8c0>\n",
      "40\n",
      "40\n",
      "==============\n",
      "25\n",
      "==============\n",
      "25\n"
     ]
    }
   ],
   "source": [
    "count = 5\n",
    "def Myfun():\n",
    "    count = 10\n",
    "    print(count)\n",
    "\n",
    "Myfun()\n",
    "\n",
    "print(count)\n",
    "\n",
    "\n",
    "def Myfun1():\n",
    "    global count\n",
    "    count =10\n",
    "    print(count)\n",
    "\n",
    "Myfun1()\n",
    "\n",
    "print(count)\n",
    "\n",
    "print('==============')\n",
    "def fun1():\n",
    "    print('fun1() is working')\n",
    "    def fun2():\n",
    "        print('fun2() is working')\n",
    "    fun2()\n",
    "\n",
    "fun1()\n",
    "#fun2()\n",
    "\n",
    "print('==============')\n",
    "# 闭包：funY\n",
    "\n",
    "def funX(x):\n",
    "    def funY(y):\n",
    "        return x * y\n",
    "    return funY\n",
    "\n",
    "i =funX(8)#得到一个参数\n",
    "print(i)\n",
    "\n",
    "print(i(5))\n",
    "print(funX(8)(5))\n",
    "\n",
    "# funY(5)\n",
    "\n",
    "print('==============')\n",
    "def funOne():\n",
    "    x = [5]\n",
    "    def funTwo():\n",
    "        x[0] *= x[0]\n",
    "        return x[0]\n",
    "    return funTwo()\n",
    "\n",
    "print(funOne())\n",
    "\n",
    "print('==============')\n",
    "# nonlocal\n",
    "\n",
    "def funOne():\n",
    "    x = 5\n",
    "    def funTwo():\n",
    "        nonlocal x\n",
    "        x *= x\n",
    "        return x\n",
    "    return funTwo()\n",
    "\n",
    "print(funOne())"
   ]
  },
  {
   "cell_type": "markdown",
   "metadata": {},
   "source": [
    "021：lambda表达式--匿名函数\n",
    "\n",
    "lambda语句\n",
    "lambda 变量: 函数表达式\n",
    "\n",
    "两个牛逼的bif: filter & map\n",
    "filter()过滤器，filter括号里面有两个参数，第一个参数可以是个函数或是None，第二个参数是个可迭代的数据\n",
    "如果第一个是function的话，则将第二个参数中的每一个可迭代数据作为参数放入function中，返回为Ture的值并将他们筛选出来变成一个列表；\n",
    "如果第一个是None的话，则将第二个参数中的每一个为Ture的值筛选出来，变成一个列表；\n",
    "\n",
    "Help on class filter in module builtins:\n",
    "\n",
    "class filter(object)\n",
    " |  filter(function or None, iterable) --> filter object\n",
    " |  \n",
    " |  Return an iterator yielding those items of iterable for which function(item)\n",
    " |  is true. If function is None, return the items that are true.\n",
    " |  \n",
    " |  Methods defined here:\n",
    " |  \n",
    " |  __getattribute__(self, name, /)\n",
    " |      Return getattr(self, name).\n",
    " |  \n",
    " |  __iter__(self, /)\n",
    " |      Implement iter(self).\n",
    " |  \n",
    " |  __next__(self, /)\n",
    " |      Implement next(self).\n",
    " |  \n",
    " |  __reduce__(...)\n",
    " |      Return state information for pickling.\n",
    " |  \n",
    " |  ----------------------------------------------------------------------\n",
    " |  Static methods defined here:\n",
    " |  \n",
    " |  __new__(*args, **kwargs) from builtins.type\n",
    " |      Create and return a new object.  See help(type) for accurate signature.\n",
    " \n",
    " map(function, list)将list里的每一数据代入function"
   ]
  },
  {
   "cell_type": "code",
   "execution_count": 56,
   "metadata": {},
   "outputs": [
    {
     "name": "stdout",
     "output_type": "stream",
     "text": [
      "11\n",
      "11\n",
      "7\n",
      "7\n",
      "==============\n",
      "[1, True]\n",
      "[1, 3, 5, 7, 9]\n",
      "[1, 3, 5, 7, 9, 11, 13, 15, 17, 19]\n",
      "[0, 2, 4, 6, 8, 10, 12, 14, 16, 18]\n"
     ]
    }
   ],
   "source": [
    "def ds(x):\n",
    "    return 2 * x + 1\n",
    "\n",
    "print(ds(5))\n",
    "\n",
    "g = lambda x: 2 * x + 1\n",
    "print(g(5))\n",
    "\n",
    "def add(x, y):\n",
    "    return x + y\n",
    "\n",
    "print(add(3,4))\n",
    "\n",
    "gg = lambda x,y: x + y\n",
    "print(gg(3, 4))\n",
    "\n",
    "print('==============')\n",
    "\n",
    "# 两个牛逼的bif: filter & map\n",
    "#help(filter)\n",
    "\n",
    "a = list(filter(None, [1, 0, False, True]))\n",
    "print(a)\n",
    "\n",
    "def odd(x):\n",
    "    return x % 2\n",
    "\n",
    "temp = range(10)\n",
    "show = filter(odd, temp)\n",
    "aa = list(show)\n",
    "print(aa)\n",
    "\n",
    "show_simp = list(filter(lambda x: x % 2, range(20)))\n",
    "print(show_simp)\n",
    "print('==============')\n",
    "b = list(map(lambda x: x * 2, range(10)))\n",
    "print(b)"
   ]
  },
  {
   "cell_type": "markdown",
   "metadata": {},
   "source": [
    "022：递归\n",
    "汉诺塔游戏\n",
    "树结构的定义\n",
    "分形三角形\n",
    "拍照套娃\n",
    "\n",
    "递归深度设置\n",
    "import sys\n",
    "sys.setrecursionlimit( 1000 )\n",
    "\n"
   ]
  },
  {
   "cell_type": "code",
   "execution_count": null,
   "metadata": {},
   "outputs": [],
   "source": [
    "# 递归(默认100层)\n",
    "\n",
    "# def recursion():#不要运行，会死循环100次\n",
    "#     return  recursion()\n",
    "\n",
    "# 改变递归层数到1000层\n",
    "import sys\n",
    "\n",
    "sys.setrecursionlimit( 1000 )\n",
    "\n",
    "\n",
    "# 用递归写一个求阶乘的函数\n",
    "# 迭代写法\n",
    "def Factorial1(x):\n",
    "    fac = 1\n",
    "    x0 = 1\n",
    "    for i in range( x - 1 ):\n",
    "        x0 += 1\n",
    "        fac *= x0\n",
    "    return fac\n",
    "\n",
    "\n",
    "print( Factorial1( 3 ) )\n",
    "\n",
    "\n",
    "# 递归写法\n",
    "def Factorial2(x):\n",
    "    Fac = x\n",
    "    x -= 1\n",
    "    if x >= 1:\n",
    "        Fac *= Factorial2( x )\n",
    "    return Fac\n",
    "\n",
    "\n",
    "print( Factorial2( 3 ) )\n",
    "\n",
    "\n",
    "# 小甲鱼迭代写法(better)\n",
    "def fishCfactorial1(n):\n",
    "    result = n\n",
    "    for i in range( 1, n ):\n",
    "        result *= i\n",
    "    return result\n",
    "\n",
    "\n",
    "print( fishCfactorial1( 3 ) )\n",
    "\n",
    "\n",
    "# 小甲鱼递归写法：停止条件+调用自己\n",
    "def fishCfactorial2(n):\n",
    "    if n == 1: #这里是停止的条件！\n",
    "        return 1\n",
    "    else:\n",
    "        return n * fishCfactorial2(n-1)\n",
    "\n",
    "\n",
    "print( fishCfactorial2( 3 ) )"
   ]
  },
  {
   "cell_type": "markdown",
   "metadata": {},
   "source": [
    "023：递归--斐波那契数列"
   ]
  },
  {
   "cell_type": "code",
   "execution_count": null,
   "metadata": {},
   "outputs": [],
   "source": [
    "#斐波那契数列，递归实现\n",
    "\n",
    "#迭代实现\n",
    "def fab1(n):\n",
    "    x = [1] * n\n",
    "    for i in range(2,n):\n",
    "        x[i] = x[i-1] + x[i-2]\n",
    "    return x\n",
    "\n",
    "print(fab1(20))\n",
    "\n",
    "#递归实现\n",
    "def fab2(n):\n",
    "    if n >= 3 :\n",
    "        return fab2(n-1) + fab2(n-2)\n",
    "    else:\n",
    "        return 1\n",
    "\n",
    "print(fab2(20))"
   ]
  },
  {
   "cell_type": "markdown",
   "metadata": {},
   "source": [
    "024：递归---汉诺塔"
   ]
  },
  {
   "cell_type": "code",
   "execution_count": null,
   "metadata": {},
   "outputs": [],
   "source": [
    "#小甲鱼例子\n",
    "def hanoi(n, x, y, z):\n",
    "    if n == 1:\n",
    "        print(x, '--> ' ,z)\n",
    "    else:\n",
    "        #将前n-1个盘子从x移动到y上\n",
    "        hanoi(n-1, x, z, y)\n",
    "        print(x, '--> ' ,z)\n",
    "        hanoi(n-1, y, x, z)\n",
    "\n",
    "\n",
    "hanoi(3, \"x\", \"y\", \"z\")"
   ]
  },
  {
   "cell_type": "markdown",
   "metadata": {},
   "source": [
    "025：字典--映射类型{}，工厂函数（是个类型，例如list，tuple）"
   ]
  },
  {
   "cell_type": "code",
   "execution_count": 59,
   "metadata": {},
   "outputs": [
    {
     "name": "stdout",
     "output_type": "stream",
     "text": [
      "FishC has the slogan:  Programming changes the world\n",
      "==============\n",
      "FishC has the slogan:  Programming changes the world\n",
      "==============\n",
      "two\n",
      "{'F': 70, 'i': 105, 'h': 104}\n",
      "{'FishC': 'GreatMe', 'Jen': 'Me'}\n"
     ]
    }
   ],
   "source": [
    "#不用字典的方法\n",
    "brand = ['Lining', 'Nike', 'Addidas', 'FishC']\n",
    "slogan = ['everything is possible', 'Just do it', 'Impossible is nothing', 'Programming changes the world']\n",
    "\n",
    "print('FishC has the slogan: ', slogan[brand.index('FishC')])\n",
    "\n",
    "\n",
    "print('==============')\n",
    "#用字典\n",
    "dict1 = {'Lining':'everything is possible', 'Nike':'Just do it', 'Addidas':'Impossible is nothing', 'FishC':'Programming changes the world'}\n",
    "print('FishC has the slogan: ', dict1['FishC'])\n",
    "\n",
    "print('==============')\n",
    "dict2 = {1:'one', 2:'two', 3:'three'}\n",
    "print(dict2[2])\n",
    "\n",
    "print('==============')\n",
    "# help(dict)\n",
    "\n",
    "#用元组或列表构建字典\n",
    "dict3 = dict((('F', 70),('i', 105),('h', 104)))\n",
    "print(dict3)\n",
    "\n",
    "print('==============')\n",
    "#用关键字参数创建列表\n",
    "dict4 = dict(FishC = 'Changes teh world', Jen = 'Me')\n",
    "dict4['FishC'] = 'GreatMe'\n",
    "print(dict4)\n",
    "\n"
   ]
  },
  {
   "cell_type": "markdown",
   "metadata": {},
   "source": [
    "026：字典\n",
    ".fromkeys，创建一个初始字典\n",
    ".keys\n",
    ".values\n",
    ".items\n",
    ".get\n",
    ".clear\n",
    "\n",
    ".copy\n",
    ".setdefault\n",
    ".pop\n",
    ".update"
   ]
  },
  {
   "cell_type": "code",
   "execution_count": 60,
   "metadata": {},
   "outputs": [
    {
     "name": "stdout",
     "output_type": "stream",
     "text": [
      "{1: None, 2: None, 3: None}\n",
      "{1: 'number', 2: 'number', 3: 'number'}\n",
      "{1: 'Digits', 3: 'Digits'}\n",
      "{0: 'good', 1: 'good', 2: 'good', 3: 'good', 4: 'good', 5: 'good', 6: 'good', 7: 'good', 8: 'good', 9: 'good', 10: 'good', 11: 'good', 12: 'good', 13: 'good', 14: 'good', 15: 'good', 16: 'good', 17: 'good', 18: 'good', 19: 'good', 20: 'good', 21: 'good', 22: 'good', 23: 'good', 24: 'good', 25: 'good', 26: 'good', 27: 'good', 28: 'good', 29: 'good', 30: 'good', 31: 'good'}\n",
      "==============\n",
      "0\n",
      "1\n",
      "2\n",
      "3\n",
      "4\n",
      "5\n",
      "6\n",
      "7\n",
      "8\n",
      "9\n",
      "10\n",
      "11\n",
      "12\n",
      "13\n",
      "14\n",
      "15\n",
      "16\n",
      "17\n",
      "18\n",
      "19\n",
      "20\n",
      "21\n",
      "22\n",
      "23\n",
      "24\n",
      "25\n",
      "26\n",
      "27\n",
      "28\n",
      "29\n",
      "30\n",
      "31\n",
      "==============\n",
      "good\n",
      "good\n",
      "good\n",
      "good\n",
      "good\n",
      "good\n",
      "good\n",
      "good\n",
      "good\n",
      "good\n",
      "good\n",
      "good\n",
      "good\n",
      "good\n",
      "good\n",
      "good\n",
      "good\n",
      "good\n",
      "good\n",
      "good\n",
      "good\n",
      "good\n",
      "good\n",
      "good\n",
      "good\n",
      "good\n",
      "good\n",
      "good\n",
      "good\n",
      "good\n",
      "good\n",
      "good\n",
      "==============\n",
      "(0, 'good')\n",
      "(1, 'good')\n",
      "(2, 'good')\n",
      "(3, 'good')\n",
      "(4, 'good')\n",
      "(5, 'good')\n",
      "(6, 'good')\n",
      "(7, 'good')\n",
      "(8, 'good')\n",
      "(9, 'good')\n",
      "(10, 'good')\n",
      "(11, 'good')\n",
      "(12, 'good')\n",
      "(13, 'good')\n",
      "(14, 'good')\n",
      "(15, 'good')\n",
      "(16, 'good')\n",
      "(17, 'good')\n",
      "(18, 'good')\n",
      "(19, 'good')\n",
      "(20, 'good')\n",
      "(21, 'good')\n",
      "(22, 'good')\n",
      "(23, 'good')\n",
      "(24, 'good')\n",
      "(25, 'good')\n",
      "(26, 'good')\n",
      "(27, 'good')\n",
      "(28, 'good')\n",
      "(29, 'good')\n",
      "(30, 'good')\n",
      "(31, 'good')\n",
      "good\n",
      "==============\n",
      "None\n",
      "Great\n",
      "good\n",
      "==============\n",
      "==============\n",
      "None\n",
      "==============\n",
      "4425190928 4425187968 4425190928\n",
      "two\n",
      "(3, 'three')\n",
      "{1: 'oen'} {1: 'oen', 2: 'two', 3: 'three'} {1: 'oen'}\n",
      "{1: 'oen', 5: 'five'}\n",
      "{1: 'oen', 5: 'dog'}\n"
     ]
    }
   ],
   "source": [
    "# dict1 = {}\n",
    "print(dict1.fromkeys((1, 2, 3)))\n",
    "\n",
    "#将所有值改为后面的值\n",
    "print(dict1.fromkeys((1, 2, 3),'number'))\n",
    "\n",
    "print(dict1.fromkeys((1,3),'Digits'))\n",
    "#并不能修改dict1\n",
    "dict1 = dict1.fromkeys(range(32), 'good')\n",
    "print(dict1)\n",
    "print('==============')\n",
    "\n",
    "\n",
    "for eachKey in dict1.keys():\n",
    "    print(eachKey)\n",
    "print('==============')\n",
    "\n",
    "\n",
    "for eachValue in dict1.values():\n",
    "    print(eachValue)\n",
    "print('==============')\n",
    "\n",
    "\n",
    "for eachItem in dict1.items():\n",
    "    print( eachItem )\n",
    "\n",
    "print(dict1[31])\n",
    "#print(dict1[32])\n",
    "print('==============')\n",
    "\n",
    "\n",
    "print(dict1.get(32))\n",
    "print(dict1.get(32,'Great'))\n",
    "print(dict1.get(31,'Great'))\n",
    "print('==============')\n",
    "\n",
    "\n",
    "31 in dict1\n",
    "32 in dict1\n",
    "\n",
    "print('==============')\n",
    "\n",
    "\n",
    "print(dict1.clear()) # 推荐这种，而不是 dict1 = {}\n",
    "\n",
    "print('==============')\n",
    "a = {1:'oen', 2:'two', 3:'three'}\n",
    "b = a.copy()\n",
    "c = a\n",
    "print(id(a), id(b), id(c))\n",
    "\n",
    "print(a.pop(2))\n",
    "print(a.popitem())\n",
    "print(a,b,c)\n",
    "\n",
    "a.setdefault(5, 'five')\n",
    "print(a)\n",
    "\n",
    "d = {5:'dog'}\n",
    "a.update(d)\n",
    "print(a)\n",
    "\n",
    "dir(dict)"
   ]
  },
  {
   "cell_type": "markdown",
   "metadata": {},
   "source": [
    "027:集合{}或set()\n",
    "{}如果没有映射关系就是集合，具有唯一性；不能索引"
   ]
  },
  {
   "cell_type": "code",
   "execution_count": 61,
   "metadata": {},
   "outputs": [
    {
     "name": "stdout",
     "output_type": "stream",
     "text": [
      "<class 'dict'>\n",
      "<class 'set'>\n",
      "{1, 2, 3, 4, 5}\n",
      "{1, 2, 3, 4, 5, 6}\n",
      "{1, 2, 3, 4, 6}\n"
     ]
    },
    {
     "ename": "AttributeError",
     "evalue": "'frozenset' object has no attribute 'add'",
     "output_type": "error",
     "traceback": [
      "\u001b[0;31m---------------------------------------------------------------------------\u001b[0m",
      "\u001b[0;31mAttributeError\u001b[0m                            Traceback (most recent call last)",
      "\u001b[0;32m<ipython-input-61-60655d12b331>\u001b[0m in \u001b[0;36m<module>\u001b[0;34m\u001b[0m\n\u001b[1;32m     24\u001b[0m \u001b[0;34m\u001b[0m\u001b[0m\n\u001b[1;32m     25\u001b[0m \u001b[0mnum3\u001b[0m \u001b[0;34m=\u001b[0m \u001b[0mfrozenset\u001b[0m\u001b[0;34m(\u001b[0m\u001b[0;34m[\u001b[0m\u001b[0;36m1\u001b[0m\u001b[0;34m,\u001b[0m\u001b[0;36m2\u001b[0m\u001b[0;34m,\u001b[0m\u001b[0;36m3\u001b[0m\u001b[0;34m,\u001b[0m\u001b[0;36m4\u001b[0m\u001b[0;34m,\u001b[0m\u001b[0;36m5\u001b[0m\u001b[0;34m]\u001b[0m\u001b[0;34m)\u001b[0m\u001b[0;34m\u001b[0m\u001b[0;34m\u001b[0m\u001b[0m\n\u001b[0;32m---> 26\u001b[0;31m \u001b[0mnum3\u001b[0m\u001b[0;34m.\u001b[0m\u001b[0madd\u001b[0m\u001b[0;34m(\u001b[0m\u001b[0;36m4\u001b[0m\u001b[0;34m)\u001b[0m\u001b[0;34m\u001b[0m\u001b[0;34m\u001b[0m\u001b[0m\n\u001b[0m\u001b[1;32m     27\u001b[0m \u001b[0mprint\u001b[0m\u001b[0;34m(\u001b[0m\u001b[0;36m3\u001b[0m\u001b[0;34m)\u001b[0m\u001b[0;34m\u001b[0m\u001b[0;34m\u001b[0m\u001b[0m\n",
      "\u001b[0;31mAttributeError\u001b[0m: 'frozenset' object has no attribute 'add'"
     ]
    }
   ],
   "source": [
    "num = {}\n",
    "print(type(num))#dict\n",
    "\n",
    "num1 = {1,2,3,4}\n",
    "print(type(num1))#set\n",
    "\n",
    "num2 = {1,2,3,4,5,4,3,2}\n",
    "print(num2)\n",
    "\n",
    "# list1 = [0,1,2,3,4,5,5,dict\n",
    "# temp = []\n",
    "# for each in list1:\n",
    "#     if each not in temp:\n",
    "#         temp.append(each)\n",
    "#\n",
    "# print(temp)\n",
    "# num3 = list(set(list1))\n",
    "# print(num3)\n",
    "\n",
    "num2.add(6)\n",
    "print(num2)\n",
    "num2.remove(5)\n",
    "print(num2)\n",
    "\n",
    "num3 = frozenset([1,2,3,4,5])\n",
    "num3.add(4)\n",
    "print(3)"
   ]
  },
  {
   "cell_type": "markdown",
   "metadata": {},
   "source": [
    "028：文件\n",
    "随时ctrl+s！！\n",
    ".exe .txt .ppt .jpg .mp4 .avi\n",
    "打开文件 open()\n",
    "\n",
    "读取每一行：\n",
    "for each_line in file:\n",
    "    print(each_line)"
   ]
  },
  {
   "cell_type": "code",
   "execution_count": 65,
   "metadata": {},
   "outputs": [
    {
     "name": "stdout",
     "output_type": "stream",
     "text": [
      "I love myself\n",
      "45\n",
      "[]\n",
      "<_io.TextIOWrapper name='/Users/huangzhan/Documents/机器学习/小甲鱼学习/cool.txt' mode='w' encoding='UTF-8'>\n"
     ]
    }
   ],
   "source": [
    "#help(open)\n",
    "\n",
    "#open(file, mode='r', buffering=-1, encoding=None, errors=None, newline=None, closefd=True, opener=None)\n",
    "\n",
    "# mode = 'r' 'w' 'x' 'a' 'b' 't' '+' 'U'\n",
    "f = open('/Users/huangzhan/Documents/机器学习/小甲鱼学习/cool.txt')\n",
    "# f.close()\n",
    "print(f.read())\n",
    "\n",
    "# print(f.tell())\n",
    "# f.readline\n",
    "# f.readline()\n",
    "print(f.seek(45,0))\n",
    "\n",
    "a = list(f)\n",
    "print(a)\n",
    "\n",
    "f = open('/Users/huangzhan/Documents/机器学习/小甲鱼学习/cool.txt','w')\n",
    "f.write('I love myself')\n",
    "\n",
    "print(f)"
   ]
  },
  {
   "cell_type": "markdown",
   "metadata": {},
   "source": [
    "029:将文本按要求处理\n",
    "将不同角色的话单独保存且不显示角色名"
   ]
  },
  {
   "cell_type": "code",
   "execution_count": null,
   "metadata": {},
   "outputs": [],
   "source": [
    "# #version 1:\n",
    "# f = open('/Users/huangzhan/Documents/机器学习/小甲鱼学习/cool.txt')\n",
    "# boy = []\n",
    "# girl = []\n",
    "# count = 1\n",
    "#\n",
    "# for each_line in f:\n",
    "#     if each_line[:6] != '======':\n",
    "#         (role, line_speech) = each_line.split(':', 1)\n",
    "#         if role == '小甲鱼：':\n",
    "#             boy.append(line_speech)\n",
    "#         if role == '小客服':\n",
    "#             girl.append(line_speech)\n",
    "#     else:\n",
    "#         file_name_boy = 'boy' + str(count) + '.txt'\n",
    "#         file_name_girl = 'girl' + str(count) + '.txt'\n",
    "#\n",
    "#         boy_file = open(file_name_boy,'w')\n",
    "#         girl_file = open(file_name_girl,'w')\n",
    "#\n",
    "#         boy_file.writelines(boy)\n",
    "#         girl_file.writelines(girl)\n",
    "#\n",
    "#         boy_file.close()\n",
    "#         girl_file.close()\n",
    "#\n",
    "#         boy = []\n",
    "#         girl = []\n",
    "#         count += 1\n",
    "#\n",
    "# file_name_boy = 'boy' + str(count) + '.txt'\n",
    "# file_name_girl = 'girl' + str(count) + '.txt'\n",
    "#\n",
    "# boy_file = open(file_name_boy,'w')\n",
    "# girl_file = open(file_name_girl,'w')\n",
    "#\n",
    "# boy_file.writelines(boy)\n",
    "# girl_file.writelines(girl)\n",
    "#\n",
    "# boy_file.close()\n",
    "# girl_file.close()\n",
    "#\n",
    "# f.close\n",
    "#\n",
    "#\n",
    "#\n",
    "#version 12:\n",
    "# f = open('/Users/huangzhan/Documents/机器学习/小甲鱼学习/cool.txt')\n",
    "\n",
    "def save_file(boy, girl, count):\n",
    "    file_name_boy = 'boy' + str( count ) + '.txt'\n",
    "    file_name_girl = 'girl' + str( count ) + '.txt'\n",
    "\n",
    "    boy_file = open( file_name_boy, 'w' )\n",
    "    girl_file = open( file_name_girl, 'w' )\n",
    "\n",
    "    boy_file.writelines( boy )\n",
    "    girl_file.writelines( girl )\n",
    "\n",
    "    boy_file.close()\n",
    "    girl_file.close()\n",
    "\n",
    "\n",
    "def split_file(file_name):\n",
    "    f = open( '/Users/huangzhan/Documents/机器学习/小甲鱼学习/cool.txt' )\n",
    "    boy = []\n",
    "    girl = []\n",
    "    count = 1\n",
    "    for each_line in f:\n",
    "        if each_line[:6] != '======':\n",
    "            (role, line_speech) = each_line.split(':', 1)\n",
    "            if role == '小甲鱼：':\n",
    "                boy.append(line_speech)\n",
    "            if role == '小客服':\n",
    "                girl.append(line_speech)\n",
    "        else:\n",
    "            save_file(boy, girl, count)\n",
    "\n",
    "            boy = []\n",
    "            girl = []\n",
    "            count += 1\n",
    "\n",
    "    save_file(boy, girl, count)\n",
    "\n",
    "    f.close\n",
    "\n",
    "\n",
    "split_file('/Users/huangzhan/Documents/机器学习/小甲鱼学习/cool.txt')"
   ]
  },
  {
   "cell_type": "markdown",
   "metadata": {},
   "source": [
    "030：os模块"
   ]
  },
  {
   "cell_type": "code",
   "execution_count": null,
   "metadata": {},
   "outputs": [],
   "source": [
    "import random\n",
    "\n",
    "secret = random.randint(1,10)\n",
    "print(secret)\n",
    "\n",
    "import os\n",
    "print(os.getcwd())#cd change direction\n",
    "print(os.listdir())#ls\n",
    "# os.mkdir('/Users/huangzhan/Documents/机器学习/小甲鱼学习/testpycharm/A')\n",
    "# os.rmdir('/Users/huangzhan/Documents/机器学习/小甲鱼学习/testpycharm/A/B')\n",
    "\n",
    "os.system('cmd')#???\n",
    "os.path.basename(/Users/huangzhan/Documents/机器学习/小甲鱼学习/testpycharm/A/B)"
   ]
  },
  {
   "cell_type": "markdown",
   "metadata": {},
   "source": [
    "031：pickle模块\n",
    "能将列表字典等类型快速转化为二进制文件\n",
    ".dump 将第一个参数放进第二个文件对象\n",
    ".close 关闭文件\n",
    ".load 读取列表的内容\n",
    "\n",
    "eg.天气数据，其中将city数据保存为pickle"
   ]
  },
  {
   "cell_type": "code",
   "execution_count": 67,
   "metadata": {},
   "outputs": [
    {
     "name": "stdout",
     "output_type": "stream",
     "text": [
      "[123, 3.14, 'xiaojiayu', ['author list']]\n"
     ]
    },
    {
     "ename": "TypeError",
     "evalue": "open() missing required argument 'file' (pos 1)",
     "output_type": "error",
     "traceback": [
      "\u001b[0;31m---------------------------------------------------------------------------\u001b[0m",
      "\u001b[0;31mTypeError\u001b[0m                                 Traceback (most recent call last)",
      "\u001b[0;32m<ipython-input-67-f4b294f17ee6>\u001b[0m in \u001b[0;36m<module>\u001b[0;34m\u001b[0m\n\u001b[1;32m     11\u001b[0m \u001b[0mprint\u001b[0m\u001b[0;34m(\u001b[0m\u001b[0mmy_list\u001b[0m\u001b[0;34m)\u001b[0m\u001b[0;34m\u001b[0m\u001b[0;34m\u001b[0m\u001b[0m\n\u001b[1;32m     12\u001b[0m \u001b[0;34m\u001b[0m\u001b[0m\n\u001b[0;32m---> 13\u001b[0;31m \u001b[0mopen\u001b[0m\u001b[0;34m(\u001b[0m\u001b[0;34m)\u001b[0m\u001b[0;34m\u001b[0m\u001b[0;34m\u001b[0m\u001b[0m\n\u001b[0m",
      "\u001b[0;31mTypeError\u001b[0m: open() missing required argument 'file' (pos 1)"
     ]
    }
   ],
   "source": [
    "import pickle\n",
    "\n",
    "my_list = [123,3.14,'xiaojiayu',['author list']]\n",
    "pickle_file = open('my_list.pkl','wb')#'wb' write binary\n",
    "pickle.dump(my_list,pickle_file)\n",
    "pickle_file.close()\n",
    "\n",
    "pickle_file = open('my_list.pkl','rb')#'rb' binary\n",
    "my_list = pickle.load(pickle_file)\n",
    "\n",
    "print(my_list)\n",
    "\n",
    "open()"
   ]
  },
  {
   "cell_type": "markdown",
   "metadata": {},
   "source": [
    "032：异常处理exception\n",
    "Python标准异常总结--见印象笔记\n",
    "assert检测方法"
   ]
  },
  {
   "cell_type": "code",
   "execution_count": 69,
   "metadata": {},
   "outputs": [
    {
     "ename": "AssertionError",
     "evalue": "",
     "output_type": "error",
     "traceback": [
      "\u001b[0;31m---------------------------------------------------------------------------\u001b[0m",
      "\u001b[0;31mAssertionError\u001b[0m                            Traceback (most recent call last)",
      "\u001b[0;32m<ipython-input-69-b646b4aec57f>\u001b[0m in \u001b[0;36m<module>\u001b[0;34m\u001b[0m\n\u001b[1;32m      2\u001b[0m \u001b[0;32massert\u001b[0m \u001b[0mlen\u001b[0m\u001b[0;34m(\u001b[0m\u001b[0mmy_list\u001b[0m\u001b[0;34m)\u001b[0m \u001b[0;34m>\u001b[0m \u001b[0;36m0\u001b[0m\u001b[0;34m\u001b[0m\u001b[0;34m\u001b[0m\u001b[0m\n\u001b[1;32m      3\u001b[0m \u001b[0mmy_list\u001b[0m\u001b[0;34m.\u001b[0m\u001b[0mpop\u001b[0m\u001b[0;34m(\u001b[0m\u001b[0;34m)\u001b[0m\u001b[0;34m\u001b[0m\u001b[0;34m\u001b[0m\u001b[0m\n\u001b[0;32m----> 4\u001b[0;31m \u001b[0;32massert\u001b[0m \u001b[0mlen\u001b[0m\u001b[0;34m(\u001b[0m\u001b[0mmy_list\u001b[0m\u001b[0;34m)\u001b[0m \u001b[0;34m>\u001b[0m \u001b[0;36m0\u001b[0m\u001b[0;34m\u001b[0m\u001b[0;34m\u001b[0m\u001b[0m\n\u001b[0m",
      "\u001b[0;31mAssertionError\u001b[0m: "
     ]
    }
   ],
   "source": [
    "my_list = ['Good girl']\n",
    "assert len(my_list) > 0\n",
    "#·my_list.pop()\n",
    "#assert len(my_list) > 0"
   ]
  },
  {
   "cell_type": "markdown",
   "metadata": {},
   "source": [
    "033：异常检测 -- try-except语句\n",
    "try:\n",
    "    监测范围\n",
    "except Exception[as reason]：\n",
    "    出现异常(Exception)后的代码处理\n",
    "finally\n",
    "    无论如何都会执行这一代码"
   ]
  },
  {
   "cell_type": "code",
   "execution_count": 80,
   "metadata": {},
   "outputs": [
    {
     "name": "stdout",
     "output_type": "stream",
     "text": [
      "I am existing!\n",
      "===============\n",
      "Something is wrong: unsupported operand type(s) for +: 'int' and 'str'\n",
      "===============\n",
      "Something is wrong\n",
      "===============\n",
      "14\n",
      "Something is wrong\n"
     ]
    },
    {
     "ename": "ZeroDivisionError",
     "evalue": "除数为零的异常",
     "output_type": "error",
     "traceback": [
      "\u001b[0;31m---------------------------------------------------------------------------\u001b[0m",
      "\u001b[0;31mZeroDivisionError\u001b[0m                         Traceback (most recent call last)",
      "\u001b[0;32m<ipython-input-80-843bbd128ee4>\u001b[0m in \u001b[0;36m<module>\u001b[0;34m\u001b[0m\n\u001b[1;32m     55\u001b[0m \u001b[0;34m\u001b[0m\u001b[0m\n\u001b[1;32m     56\u001b[0m \u001b[0;31m#raise\u001b[0m\u001b[0;34m\u001b[0m\u001b[0;34m\u001b[0m\u001b[0;34m\u001b[0m\u001b[0m\n\u001b[0;32m---> 57\u001b[0;31m \u001b[0;32mraise\u001b[0m \u001b[0mZeroDivisionError\u001b[0m\u001b[0;34m(\u001b[0m\u001b[0;34m'除数为零的异常'\u001b[0m\u001b[0;34m)\u001b[0m\u001b[0;34m\u001b[0m\u001b[0;34m\u001b[0m\u001b[0m\n\u001b[0m",
      "\u001b[0;31mZeroDivisionError\u001b[0m: 除数为零的异常"
     ]
    }
   ],
   "source": [
    "#f = open(\"Why am I a file.txt\")\n",
    "#print(f.read())\n",
    "#f.close\n",
    "#---------------------------------------------------------------------------\n",
    "#FileNotFoundError                         Traceback (most recent call last)\n",
    "#<ipython-input-70-5e2faccf9084> in <module>\n",
    "#----> 1 f = open(\"Why am I a file.txt\")\n",
    "#      2 print(f.read())\n",
    "#      3 f.close\n",
    "#\n",
    "#FileNotFoundError: [Errno 2] No such file or directory: 'Why am I a file.txt'\n",
    "\n",
    "try:\n",
    "    f = open(\"Why am I a file.txt\")\n",
    "    print(f.read())\n",
    "    f.close\n",
    "except OSError as reason:\n",
    "    print('Something is wrong: ' + str(reason))\n",
    "\n",
    "print('===============')\n",
    "\n",
    "try:\n",
    "    sum = 1 + '1' #TypeError 一旦出现异常后面将不再执行\n",
    "    #int('abs') #ValueError\n",
    "    f = open(\"Why am I a file.txt\")#OSError\n",
    "    print(f.read())\n",
    "    f.close\n",
    "except OSError as reason:\n",
    "    print('Something is wrong: ' + str(reason))\n",
    "except TypeError as reason:\n",
    "    print('Something is wrong: ' + str(reason))\n",
    "    \n",
    "print('===============')\n",
    "\n",
    "try:\n",
    "    sum = 1 + '1' #TypeError 一旦出现异常后面将不再执行\n",
    "    #int('abs') #ValueError\n",
    "    f = open(\"Why am I a file.txt\")#OSError\n",
    "    print(f.read())\n",
    "    f.close\n",
    "except (OSError,TypeError):\n",
    "    print('Something is wrong')\n",
    "\n",
    "print('===============')\n",
    "\n",
    "try:\n",
    "    f = open(\"Why am I a file.txt\",'w')#创建文件写入\n",
    "    print(f.write('I am existing!'))\n",
    "    sum = 1 + '1' #TypeError 一旦出现异常后面将不再执行\n",
    "    #int('abs') #ValueError\n",
    "except (OSError,TypeError):\n",
    "    print('Something is wrong')\n",
    "finally:\n",
    "    f.close\n",
    "\n",
    "#raise 引起一个异常\n",
    "raise ZeroDivisionError('除数为零的异常')"
   ]
  },
  {
   "cell_type": "markdown",
   "metadata": {},
   "source": [
    "035：else 和 with\n",
    "if--else--:要么怎么，否则怎样\n",
    "for--else--:干完了怎样，干不完就别想怎样\n",
    "异常处理+else:没有问题的话那就干吧\n",
    "\n",
    "with语句"
   ]
  },
  {
   "cell_type": "code",
   "execution_count": 85,
   "metadata": {},
   "outputs": [
    {
     "name": "stdin",
     "output_type": "stream",
     "text": [
      "请输入一个数： 88\n"
     ]
    },
    {
     "name": "stdout",
     "output_type": "stream",
     "text": [
      "88最大的约数是44\n",
      "===========\n",
      "出错了：invalid literal for int() with base 10: 'abc'\n",
      "===========\n",
      "出错了：not readable\n",
      "出错了：not readable\n"
     ]
    }
   ],
   "source": [
    "def showMaxFactor(num):\n",
    "    count = num//2 #//地板除法\n",
    "    while count>1:\n",
    "        if num% count == 0:\n",
    "            print('%d最大的约数是%d' %(num,count))\n",
    "            break\n",
    "        count -= 1\n",
    "    else:\n",
    "        print('%d是素数'%num)\n",
    "        \n",
    "num = int(input('请输入一个数：'))\n",
    "showMaxFactor(num)\n",
    "\n",
    "print('===========')\n",
    "\n",
    "try:\n",
    "    int('abc')\n",
    "    #int('123')\n",
    "except ValueError as reason:\n",
    "    print('出错了：'+str(reason))\n",
    "else:\n",
    "    print('没有任何异常！')\n",
    "    \n",
    "print('===========')\n",
    "\n",
    "try:\n",
    "    f = open('data.txt','w')\n",
    "    for each_line in f:\n",
    "        print(each_line)\n",
    "except OSError as reason:\n",
    "    print('出错了：'+str(reason))\n",
    "finally:\n",
    "    f.close()\n",
    "    \n",
    "#用with    \n",
    "try:\n",
    "    with open('data.txt','w') as f:\n",
    "        for each_line in f:\n",
    "            print(each_line)\n",
    "except OSError as reason:\n",
    "    print('出错了：'+str(reason))"
   ]
  },
  {
   "cell_type": "markdown",
   "metadata": {},
   "source": [
    "036: GUI:graphical user interface 图形个用户界面编程\n",
    "EasyGUI官网：- http://easygui.sourceforge.net\n",
    "官方教学文档：- easygui-docs-0.96\\tutorial\\index.html\n",
    "小甲鱼翻译： - http://bbs.fishc.com/thread-46069-1-1.html\n",
    "\n",
    "easygui 模块\n",
    "建议不要在idle上运行easygui，因为idle和easygui都是用Tkinter写，同时运行时会发生冲突\n",
    "\n",
    "可以在easygui.py中查找框框的设计参数"
   ]
  },
  {
   "cell_type": "code",
   "execution_count": 1,
   "metadata": {},
   "outputs": [
    {
     "name": "stdout",
     "output_type": "stream",
     "text": [
      "Requirement already satisfied: easygui in /opt/anaconda3/lib/python3.7/site-packages (0.98.1)\n"
     ]
    }
   ],
   "source": [
    "#!pip install easygui"
   ]
  },
  {
   "cell_type": "code",
   "execution_count": 2,
   "metadata": {},
   "outputs": [
    {
     "data": {
      "text/plain": [
       "'OK'"
      ]
     },
     "execution_count": 2,
     "metadata": {},
     "output_type": "execute_result"
    }
   ],
   "source": [
    "import easygui\n",
    "easygui.msgbox('hi, how are you?')\n",
    "\n",
    "from easygui import *\n",
    "msgbox('hi, you!')\n",
    "\n",
    "import easygui as g\n",
    "g.msgbox('hi, my sweetie!')"
   ]
  },
  {
   "cell_type": "code",
   "execution_count": 88,
   "metadata": {},
   "outputs": [
    {
     "name": "stdout",
     "output_type": "stream",
     "text": [
      "[0]\n",
      "[0]\n"
     ]
    },
    {
     "ename": "SystemExit",
     "evalue": "0",
     "output_type": "error",
     "traceback": [
      "An exception has occurred, use %tb to see the full traceback.\n",
      "\u001b[0;31mSystemExit\u001b[0m\u001b[0;31m:\u001b[0m 0\n"
     ]
    },
    {
     "name": "stderr",
     "output_type": "stream",
     "text": [
      "/opt/anaconda3/lib/python3.7/site-packages/IPython/core/interactiveshell.py:3334: UserWarning: To exit: use 'exit', 'quit', or Ctrl-D.\n",
      "  warn(\"To exit: use 'exit', 'quit', or Ctrl-D.\", stacklevel=1)\n"
     ]
    }
   ],
   "source": [
    "#例子\n",
    "import easygui as g\n",
    "import sys\n",
    "\n",
    "while 1:\n",
    "    g.msgbox('Hi, welcome to the game ^_^')\n",
    "    \n",
    "    msg = \"What do you want in your life?\"\n",
    "    title = \"First question: \"\n",
    "    choices = ['Wedding and childen','Self-realization','Money and competitions','Fantasy']\n",
    "    \n",
    "    choice = g.choicebox(msg,title,choices)\n",
    "    \n",
    "    #note that we convert choice to string, in case\n",
    "    # the user cancelled the choice, and we got None.\n",
    "    g.msgbox('Your choice is: '+ str(choice), 'Results')\n",
    "    \n",
    "    msg = 'Do you want to play again?'\n",
    "    title = 'Please choose: '\n",
    "    \n",
    "    if g.ccbox(msg, title): # show a Continue/Cancel dialog\n",
    "        pass # user chose Continue\n",
    "    else:\n",
    "        sys.exit(0) # user chose Cancel"
   ]
  },
  {
   "cell_type": "markdown",
   "metadata": {},
   "source": [
    "036：类和对象\n",
    "封装\n",
    "\n",
    "介绍一个对象--类的一个实例 instance\n",
    "属性：这个对象的特征（静态特征） \n",
    "方法：这个对象的功能（动态特征）\n",
    "\n",
    "Object Oriented面向对象\n",
    "--封装，🙆信息更加隐蔽\n",
    "--继承，比如说MyList类继承了list的函数\n",
    "--多态，不同类里的函数，名字一样实现不一样\n"
   ]
  },
  {
   "cell_type": "code",
   "execution_count": 1,
   "metadata": {},
   "outputs": [],
   "source": [
    "class Turtle: # Python中的类约定以大写字母开头\n",
    "    \"\"\"关于类的一个简单例子\"\"\"\n",
    "    # 属性\n",
    "    color = 'green'\n",
    "    weight = 10\n",
    "    legs = 4\n",
    "    shell = True\n",
    "    mouth = 'big mouth'\n",
    "    \n",
    "    #方法\n",
    "    def climb(self):\n",
    "        print('I am crawling forward...')\n",
    "        \n",
    "    def run(self):\n",
    "        print('I am at godspeed...')\n",
    "        \n",
    "    def bite(self):\n",
    "        print('I am such a powerful biter, I a=can easily bite you to death!')\n",
    "        \n",
    "    def eat(self):\n",
    "        print('How satisfying to have food~')\n",
    "    \n",
    "    def sleep(self):\n",
    "        print('I am tired now, so gooood night. Zzzz...')"
   ]
  },
  {
   "cell_type": "code",
   "execution_count": 2,
   "metadata": {},
   "outputs": [],
   "source": [
    "tt = Turtle()"
   ]
  },
  {
   "cell_type": "code",
   "execution_count": 3,
   "metadata": {},
   "outputs": [
    {
     "name": "stdout",
     "output_type": "stream",
     "text": [
      "I am crawling forward...\n"
     ]
    }
   ],
   "source": [
    "tt.climb()"
   ]
  },
  {
   "cell_type": "code",
   "execution_count": 6,
   "metadata": {},
   "outputs": [
    {
     "data": {
      "text/plain": [
       "[1, 2, 7, 37]"
      ]
     },
     "execution_count": 6,
     "metadata": {},
     "output_type": "execute_result"
    }
   ],
   "source": [
    "list1 = [1,2,37,7]\n",
    "list1.sort()\n",
    "list1\n",
    "list1.append(9)\n",
    "list1"
   ]
  },
  {
   "cell_type": "code",
   "execution_count": 7,
   "metadata": {},
   "outputs": [
    {
     "data": {
      "text/plain": [
       "[3, 6, 81]"
      ]
     },
     "execution_count": 7,
     "metadata": {},
     "output_type": "execute_result"
    }
   ],
   "source": [
    "class MyList(list):\n",
    "    pass\n",
    "\n",
    "list2 = MyList()\n",
    "list2.append(3)\n",
    "list2.append(6)\n",
    "list2.append(81)\n",
    "list2\n",
    "list2.sort()\n",
    "list2"
   ]
  },
  {
   "cell_type": "code",
   "execution_count": 8,
   "metadata": {},
   "outputs": [
    {
     "name": "stdout",
     "output_type": "stream",
     "text": [
      "I am Alice..\n",
      "I am Bryn..\n"
     ]
    }
   ],
   "source": [
    "class A:\n",
    "    def fun(self):\n",
    "        print('I am Alice..')\n",
    "        \n",
    "class B:\n",
    "    def fun(self):\n",
    "        print('I am Bryn..')\n",
    "        \n",
    "a = A()\n",
    "b = B()\n",
    "a.fun()\n",
    "b.fun()"
   ]
  },
  {
   "cell_type": "markdown",
   "metadata": {},
   "source": [
    "037：面向对象编程\n",
    "\n",
    "self：Python的self相当于C++的this指针\n",
    "Python的构造方法： __init__(self,param1,param2...)\n",
    "共有的和私有的\n",
    "name mangling 名字改编\n",
    "在函数名或变量名前加上两个下划线，这就变成了私有的"
   ]
  },
  {
   "cell_type": "code",
   "execution_count": 16,
   "metadata": {},
   "outputs": [
    {
     "name": "stdout",
     "output_type": "stream",
     "text": [
      "I am Ball A. Damn it, who kicks me?\n",
      "I am Potato. Damn it, who kicks me?\n"
     ]
    }
   ],
   "source": [
    "class Ball:\n",
    "    def setName(self, name):\n",
    "        self.name = name    \n",
    "    def kick(self):\n",
    "        print('I am %s. Damn it, who kicks me?' %self.name)\n",
    "\n",
    "        \n",
    "a = Ball()\n",
    "a.setName('Ball A')\n",
    "b = Ball()\n",
    "b.setName('Ball B')\n",
    "c = Ball()\n",
    "c.setName('Potato')\n",
    "\n",
    "a.kick()\n",
    "c.kick()"
   ]
  },
  {
   "cell_type": "code",
   "execution_count": 27,
   "metadata": {},
   "outputs": [
    {
     "name": "stdout",
     "output_type": "stream",
     "text": [
      "I am Potato. Damn it, who kicks me?\n"
     ]
    }
   ],
   "source": [
    "class Ball:\n",
    "    def __init__(self,name):\n",
    "        self.name = name\n",
    "    def kick(self):\n",
    "        print('I am %s. Damn it, who kicks me?' % self.name)\n",
    "\n",
    "bb = Ball('Potato')\n",
    "bb.kick()\n",
    "#c = Ball()"
   ]
  },
  {
   "cell_type": "code",
   "execution_count": 30,
   "metadata": {},
   "outputs": [
    {
     "data": {
      "text/plain": [
       "'小甲鱼'"
      ]
     },
     "execution_count": 30,
     "metadata": {},
     "output_type": "execute_result"
    }
   ],
   "source": [
    "##共有的和私有的\n",
    "class Person:\n",
    "    name = '小甲鱼'\n",
    "\n",
    "p = Person()\n",
    "p.name"
   ]
  },
  {
   "cell_type": "code",
   "execution_count": 38,
   "metadata": {},
   "outputs": [
    {
     "data": {
      "text/plain": [
       "'小甲鱼'"
      ]
     },
     "execution_count": 38,
     "metadata": {},
     "output_type": "execute_result"
    }
   ],
   "source": [
    "class Person1:\n",
    "    __name = '小甲鱼'\n",
    "    def getName(self):\n",
    "        return self.__name\n",
    "\n",
    "p = Person1()\n",
    "#p.__name\n",
    "#p.getName()\n",
    "p._Person1__name"
   ]
  },
  {
   "cell_type": "markdown",
   "metadata": {},
   "source": [
    "038:面对对象编程--继承\n",
    "class DerivedClassName(BaseClassName):\n",
    "BaseClassName:基类、父类或者超类\n",
    "DerivedClassName:子类\n",
    "子类可以继承父类的方法（函数)\n",
    "\n",
    "如何子类定义了和父类中同名的方法或属性，则会自动覆盖父类\n",
    "\n",
    "使用super方法，可以直接使用父类方法\n",
    "\n",
    "多重继承\n",
    "class DerivedClassName(Base1, Base2, Base3,...):"
   ]
  },
  {
   "cell_type": "code",
   "execution_count": 26,
   "metadata": {},
   "outputs": [
    {
     "name": "stdout",
     "output_type": "stream",
     "text": [
      "[5, 2]\n",
      "[[2, 6], [6, 3], [1, 2], [3, 1], [2, 4], [3, 2], [6, 5], [3, 2], [3, 3], [4, 2]]\n"
     ]
    },
    {
     "ename": "TypeError",
     "evalue": "unsupported operand type(s) for -: 'list' and 'list'",
     "output_type": "error",
     "traceback": [
      "\u001b[0;31m---------------------------------------------------------------------------\u001b[0m",
      "\u001b[0;31mTypeError\u001b[0m                                 Traceback (most recent call last)",
      "\u001b[0;32m<ipython-input-26-574ef961c5fb>\u001b[0m in \u001b[0;36m<module>\u001b[0;34m\u001b[0m\n\u001b[1;32m     94\u001b[0m \u001b[0;32mwhile\u001b[0m \u001b[0menergy\u001b[0m\u001b[0;34m>\u001b[0m\u001b[0;36m0\u001b[0m \u001b[0;32mand\u001b[0m \u001b[0mlen\u001b[0m\u001b[0;34m(\u001b[0m\u001b[0mfishes\u001b[0m\u001b[0;34m)\u001b[0m\u001b[0;34m>\u001b[0m\u001b[0;36m0\u001b[0m\u001b[0;34m:\u001b[0m\u001b[0;34m\u001b[0m\u001b[0;34m\u001b[0m\u001b[0m\n\u001b[1;32m     95\u001b[0m     \u001b[0mstep\u001b[0m \u001b[0;34m=\u001b[0m \u001b[0mstep\u001b[0m \u001b[0;34m+\u001b[0m\u001b[0;36m1\u001b[0m\u001b[0;34m\u001b[0m\u001b[0;34m\u001b[0m\u001b[0m\n\u001b[0;32m---> 96\u001b[0;31m     \u001b[0;34m[\u001b[0m\u001b[0mturtle\u001b[0m\u001b[0;34m,\u001b[0m\u001b[0mfishes\u001b[0m\u001b[0;34m]\u001b[0m \u001b[0;34m=\u001b[0m \u001b[0mTF\u001b[0m\u001b[0;34m.\u001b[0m\u001b[0mt_moving\u001b[0m\u001b[0;34m(\u001b[0m\u001b[0menergy\u001b[0m\u001b[0;34m,\u001b[0m\u001b[0mturtle\u001b[0m\u001b[0;34m,\u001b[0m\u001b[0mfishes\u001b[0m\u001b[0;34m)\u001b[0m\u001b[0;34m\u001b[0m\u001b[0;34m\u001b[0m\u001b[0m\n\u001b[0m\u001b[1;32m     97\u001b[0m     \u001b[0mfishes\u001b[0m \u001b[0;34m=\u001b[0m \u001b[0mTF\u001b[0m\u001b[0;34m.\u001b[0m\u001b[0mfishes_update\u001b[0m\u001b[0;34m(\u001b[0m\u001b[0mfishes\u001b[0m\u001b[0;34m)\u001b[0m\u001b[0;34m\u001b[0m\u001b[0;34m\u001b[0m\u001b[0m\n\u001b[1;32m     98\u001b[0m     \u001b[0mprint\u001b[0m\u001b[0;34m(\u001b[0m\u001b[0mturtle\u001b[0m\u001b[0;34m)\u001b[0m\u001b[0;34m\u001b[0m\u001b[0;34m\u001b[0m\u001b[0m\n",
      "\u001b[0;32m<ipython-input-26-574ef961c5fb>\u001b[0m in \u001b[0;36mt_moving\u001b[0;34m(self, energy, t_cdi, fishes)\u001b[0m\n\u001b[1;32m     39\u001b[0m \u001b[0;34m\u001b[0m\u001b[0m\n\u001b[1;32m     40\u001b[0m         \u001b[0;32mif\u001b[0m \u001b[0menergy\u001b[0m\u001b[0;34m>\u001b[0m\u001b[0;36m0\u001b[0m \u001b[0;32mand\u001b[0m \u001b[0mlen\u001b[0m\u001b[0;34m(\u001b[0m\u001b[0mfishes\u001b[0m\u001b[0;34m)\u001b[0m\u001b[0;34m>\u001b[0m\u001b[0;36m0\u001b[0m\u001b[0;34m:\u001b[0m\u001b[0;34m\u001b[0m\u001b[0;34m\u001b[0m\u001b[0m\n\u001b[0;32m---> 41\u001b[0;31m             \u001b[0;34m[\u001b[0m\u001b[0mdirection\u001b[0m\u001b[0;34m,\u001b[0m\u001b[0mfishes\u001b[0m\u001b[0;34m]\u001b[0m \u001b[0;34m=\u001b[0m \u001b[0mdirection_pre\u001b[0m\u001b[0;34m(\u001b[0m\u001b[0mt_cdi\u001b[0m\u001b[0;34m,\u001b[0m\u001b[0mfishes\u001b[0m\u001b[0;34m)\u001b[0m\u001b[0;34m\u001b[0m\u001b[0;34m\u001b[0m\u001b[0m\n\u001b[0m\u001b[1;32m     42\u001b[0m             \u001b[0;32mif\u001b[0m \u001b[0mdirection\u001b[0m \u001b[0;34m==\u001b[0m \u001b[0;34m[\u001b[0m\u001b[0;36m1\u001b[0m\u001b[0;34m,\u001b[0m\u001b[0;36m0\u001b[0m\u001b[0;34m]\u001b[0m\u001b[0;34m:\u001b[0m\u001b[0;34m\u001b[0m\u001b[0;34m\u001b[0m\u001b[0m\n\u001b[1;32m     43\u001b[0m                 \u001b[0mt_cdi\u001b[0m\u001b[0;34m[\u001b[0m\u001b[0;36m0\u001b[0m\u001b[0;34m]\u001b[0m \u001b[0;34m=\u001b[0m \u001b[0mt_cdi\u001b[0m\u001b[0;34m[\u001b[0m\u001b[0;36m0\u001b[0m\u001b[0;34m]\u001b[0m\u001b[0;34m+\u001b[0m\u001b[0;36m1\u001b[0m\u001b[0;34m\u001b[0m\u001b[0;34m\u001b[0m\u001b[0m\n",
      "\u001b[0;32m<ipython-input-26-574ef961c5fb>\u001b[0m in \u001b[0;36mdirection_pre\u001b[0;34m(t_cdi, fishes)\u001b[0m\n\u001b[1;32m     18\u001b[0m             \u001b[0;31m#通过t_cdi[0、1]-fishes[i][0、1]的正负号判断方向\u001b[0m\u001b[0;34m\u001b[0m\u001b[0;34m\u001b[0m\u001b[0;34m\u001b[0m\u001b[0m\n\u001b[1;32m     19\u001b[0m \u001b[0;34m\u001b[0m\u001b[0m\n\u001b[0;32m---> 20\u001b[0;31m             \u001b[0mmin_item\u001b[0m \u001b[0;34m=\u001b[0m \u001b[0mfishes\u001b[0m\u001b[0;34m[\u001b[0m\u001b[0;36m1\u001b[0m\u001b[0;34m]\u001b[0m\u001b[0;34m-\u001b[0m\u001b[0mt_cdi\u001b[0m\u001b[0;31m#initiate\u001b[0m\u001b[0;34m\u001b[0m\u001b[0;34m\u001b[0m\u001b[0m\n\u001b[0m\u001b[1;32m     21\u001b[0m             \u001b[0;32mfor\u001b[0m \u001b[0mi\u001b[0m\u001b[0;34m,\u001b[0m\u001b[0mitem_0\u001b[0m \u001b[0;32min\u001b[0m \u001b[0menumerate\u001b[0m\u001b[0;34m(\u001b[0m\u001b[0mfishes\u001b[0m\u001b[0;34m)\u001b[0m\u001b[0;34m:\u001b[0m\u001b[0;34m\u001b[0m\u001b[0;34m\u001b[0m\u001b[0m\n\u001b[1;32m     22\u001b[0m                 \u001b[0mprint\u001b[0m\u001b[0;34m(\u001b[0m\u001b[0mi\u001b[0m\u001b[0;34m,\u001b[0m \u001b[0mitem_0\u001b[0m\u001b[0;34m)\u001b[0m\u001b[0;34m\u001b[0m\u001b[0;34m\u001b[0m\u001b[0m\n",
      "\u001b[0;31mTypeError\u001b[0m: unsupported operand type(s) for -: 'list' and 'list'"
     ]
    }
   ],
   "source": [
    "#我们试图模拟一个场景，一只乌龟和十条鱼；乌龟通过吃鱼来补充体力；当乌龟体力消耗殆尽或鱼被吃光则游戏结束\n",
    "#我的尝试---尚未成功\n",
    "import random\n",
    "class TurtleAndFish():\n",
    "    num_turtle = 1\n",
    "    \n",
    "    def t_moving(self,energy,t_cdi,fishes):\n",
    "        #每个时刻，乌龟尝试吃鱼，移动一步消耗一点精力\n",
    "        #返回下一步乌龟的坐标\n",
    "        'energy is the total energy in this step;'\n",
    "        't_cdi is the coordinate of the turtle'\n",
    "        'fishes is the coordinate of fishes, it is a list [[x1,y1],[x2,y2],[x3,y3],...]' \n",
    "        def direction_pre(t_cdi,fishes):\n",
    "            #返回0-4，意味着四个方向\n",
    "            #对fishes的每一个坐标对，计算与乌龟坐标的距离，并记住最小值的具体坐标[xi,yi]\n",
    "            #min_x=abs(t_cdi[0]-fishes[i][0]),min_y = abs(t_cdi[1]-fishes[i][1]))\n",
    "            #min_dis = min(min_x,min_y)选取x或y方向\n",
    "            #通过t_cdi[0、1]-fishes[i][0、1]的正负号判断方向\n",
    "            \n",
    "            min_item = fishes[1]-t_cdi#initiate\n",
    "            for i,item_0 in enumerate(fishes):\n",
    "                print(i, item_0)\n",
    "                item[0] = item_0[0] - t_cdi[0]\n",
    "                item[1] = item_0[1] - t_cdi[1]\n",
    "                if item[0]**2+item[1]**2 == 0:\n",
    "                    d = [0,0]\n",
    "                    finshes.remove(item)\n",
    "                    energy = energy + 1\n",
    "                    break\n",
    "                elif item[0]**2+item[1]**2 == 1:\n",
    "                    d = [sign(item[0]),sign(item[1])]\n",
    "                    finshes.remove(item)\n",
    "                    energy = energy + 1\n",
    "                    break\n",
    "                elif item[0]**2+item[1]**2< min_item[0]**2+min_item[1]**2:\n",
    "                    min_item = item\n",
    "                d = [min_sign(item[0]),sign(min_item[1])]\n",
    "            return [d,fishes]\n",
    "            \n",
    "        if energy>0 and len(fishes)>0:\n",
    "            [direction,fishes] = direction_pre(t_cdi,fishes)\n",
    "            if direction == [1,0]:\n",
    "                t_cdi[0] = t_cdi[0]+1\n",
    "            elif direction == [-1,0]:\n",
    "                t_cdi[0] = t_cdi[0]-1\n",
    "            elif direction == [0,1]:\n",
    "                t_cdi[1] = t_cdi[1]+1\n",
    "            elif direction == [0,-1]:\n",
    "                t_cdi[1] = t_cdi[1]-1\n",
    "            energy = energy - 1\n",
    "        elif energy == 0: \n",
    "            print('Fish wins！')\n",
    "            exit(0)\n",
    "        elif len(fishes) == 0: \n",
    "            print('Turtle wins！')\n",
    "            exit(0)\n",
    "        return [t_cdi,fishes]\n",
    "        \n",
    "    def f_moving(self,f_cdi):\n",
    "        #每一时刻，对每一条鱼随机游走;\n",
    "        #输入这一刻坐标，返回下一步坐标；坐标type：list\n",
    "        if random.random(0,1)<0.2 and f_cdi[0]<6:\n",
    "            f_cdi[0] = f_cdi[0]+1\n",
    "        else: pass\n",
    "        if 0.2<random.random(0,1)<0.4 and f_cdi[0]>0:\n",
    "            f_cdi[0] = f_cdi[0]-1\n",
    "        else: pass\n",
    "        if 0.4<random.random(0,1)<0.6 and f_cdi[1]<6:\n",
    "            f_cdi[1] = f_cdi[1]+1\n",
    "        else: pass\n",
    "        if 0.6<random.random(0,1)>0.8 and f_cdi[1]>0:\n",
    "            f_cdi[1] = f_cdi[1]-1\n",
    "        else: pass\n",
    "        return f_cdi   \n",
    "    \n",
    "    def fishes_update(fishes):\n",
    "        #乌龟每进行一步后，鱼群需要更新\n",
    "        for item in fishes:\n",
    "            item = f_moving(item)\n",
    "        return fishes\n",
    "\n",
    "#Let's say it happens in a 6*6 area\n",
    "#randomly generate the initial coordinate of the fish and turtle    \n",
    "fishes = []\n",
    "turtle = [random.randint(1,6),random.randint(1,6)]\n",
    "for i in range(10):\n",
    "    fishes.append([random.randint(1,6),random.randint(1,6)])\n",
    "print(turtle)\n",
    "print(fishes)\n",
    "#\n",
    "TF = TurtleAndFish()\n",
    "energy = 200\n",
    "step = 0\n",
    "while energy>0 and len(fishes)>0:\n",
    "    step = step +1\n",
    "    [turtle,fishes] = TF.t_moving(energy,turtle,fishes)\n",
    "    fishes = TF.fishes_update(fishes)\n",
    "    print(turtle)\n",
    "    print(fishes)"
   ]
  },
  {
   "cell_type": "code",
   "execution_count": 29,
   "metadata": {},
   "outputs": [
    {
     "name": "stdout",
     "output_type": "stream",
     "text": [
      "正在调用父类的方法...\n",
      "正在调用父类的方法...\n",
      "正在调用父类的方法...\n",
      "正在调用子类的方法...\n"
     ]
    }
   ],
   "source": [
    "class Parent:\n",
    "    def hello(self):\n",
    "        print('正在调用父类的方法...')\n",
    "\n",
    "class Child(Parent):\n",
    "    pass\n",
    "\n",
    "p = Parent()\n",
    "p.hello()\n",
    "c = Child()\n",
    "c.hello()\n",
    "\n",
    "class Child(Parent):\n",
    "    def hello(self):\n",
    "        print('正在调用子类的方法...')\n",
    "\n",
    "p = Parent()\n",
    "p.hello()\n",
    "c = Child()\n",
    "c.hello()"
   ]
  },
  {
   "cell_type": "code",
   "execution_count": 44,
   "metadata": {},
   "outputs": [],
   "source": [
    "import random as r\n",
    "class Fish:\n",
    "    def __init__(self):\n",
    "        self.x = r.randint(0,10)\n",
    "        self.y = r.randint(0,10)\n",
    "    \n",
    "    def move(self):\n",
    "        self.x -= 1\n",
    "        print('我的位置： ',self.x,self.y)\n",
    "\n",
    "class Goldfish(Fish):\n",
    "    pass\n",
    "\n",
    "class Carp(Fish):\n",
    "    pass\n",
    "\n",
    "class Salmon(Fish):\n",
    "    pass\n",
    "\n",
    "class Shark(Fish):\n",
    "    def __init__(self):\n",
    "        #子类重写了这个方法把父类给覆盖了，所以没有x了\n",
    "        \n",
    "        # 可以修改加入下面这行：\n",
    "        #Fish.__init__(self)#未绑定的父类方法\n",
    "        \n",
    "        #使用super方法\n",
    "        super().__init__()\n",
    "        self.hungry = True\n",
    "        \n",
    "    def eat(self):\n",
    "        if self.hungry:\n",
    "            print('吃货的梦想就是天天有的吃^_^')\n",
    "            self.hungry = False\n",
    "        else:\n",
    "            print('太撑了，吃不下了')"
   ]
  },
  {
   "cell_type": "code",
   "execution_count": 45,
   "metadata": {},
   "outputs": [
    {
     "name": "stdout",
     "output_type": "stream",
     "text": [
      "我的位置：  2 10\n",
      "我的位置：  1 10\n",
      "我的位置：  6 4\n",
      "我的位置：  5 4\n",
      "吃货的梦想就是天天有的吃^_^\n",
      "太撑了，吃不下了\n",
      "我的位置：  2 1\n",
      "我的位置：  3 7\n"
     ]
    }
   ],
   "source": [
    "fish = Fish()\n",
    "fish.move()\n",
    "fish.move()\n",
    "goldfish = Goldfish()\n",
    "goldfish.move()\n",
    "goldfish.move()\n",
    "shark = Shark()\n",
    "shark.eat()\n",
    "shark.eat()\n",
    "shark.move()##没有修改Shark的那一行会报错\n",
    "\n",
    "Fish.__init__(shark)\n",
    "shark.move()"
   ]
  },
  {
   "cell_type": "code",
   "execution_count": 46,
   "metadata": {},
   "outputs": [
    {
     "name": "stdout",
     "output_type": "stream",
     "text": [
      "I am foo1, I represent Base1...\n",
      "I am foo2, I represent Base2...\n"
     ]
    }
   ],
   "source": [
    "#d多重继承\n",
    "class Base1:\n",
    "    def foo1(self):\n",
    "        print('I am foo1, I represent Base1...')\n",
    "\n",
    "class Base2:\n",
    "    def foo2(self):\n",
    "        print('I am foo2, I represent Base2...')\n",
    "    \n",
    "class C(Base1, Base2):\n",
    "    pass\n",
    "\n",
    "c = C()\n",
    "c.foo1()\n",
    "c.foo2()\n",
    "#多重继承容易使代码混乱，尽量少用"
   ]
  },
  {
   "cell_type": "markdown",
   "metadata": {},
   "source": [
    "039：面对对象编程--组合\n",
    "组合是将类和实例化放进一个新类里面\n",
    "没有继承关系的类放在一起\n",
    "\n",
    "Mix-in混入\n",
    "\n",
    "类、类对象、实例对象\n",
    "\n",
    "技巧！\n",
    "-不要试图在一个类里定义出所有能想到的特性和方法，应该利用继承和组合机制来进行拓展；\n",
    "-用不同的词性命名，如属性名用名词、方法名用动词\n",
    "\n",
    "什么是绑定？\n",
    "·Python严格要求方法需要有实例才能被调用，这种限制其实就是Python所谓的绑定概念"
   ]
  },
  {
   "cell_type": "code",
   "execution_count": 49,
   "metadata": {},
   "outputs": [
    {
     "name": "stdout",
     "output_type": "stream",
     "text": [
      "There are 1 turtle and 10 fishes!\n"
     ]
    }
   ],
   "source": [
    "class Turtle:\n",
    "    def __init__(self, x):\n",
    "        self.num = x\n",
    "        \n",
    "class Fish:\n",
    "    def __init__(self, x):\n",
    "        self.num = x\n",
    "        \n",
    "class Pool:\n",
    "    def __init__(self, x, y):#将类和实例化放进一个新类里面\n",
    "        self.turtle = Turtle(x)#\n",
    "        self.fish = Fish(y)#\n",
    "        \n",
    "    def print_num(self):\n",
    "        print('There are %d turtle and %d fishes!'%(self.turtle.num, self.fish.num ))\n",
    "        \n",
    "pool = Pool(1,10)\n",
    "pool.print_num()"
   ]
  },
  {
   "cell_type": "code",
   "execution_count": 59,
   "metadata": {},
   "outputs": [
    {
     "name": "stdout",
     "output_type": "stream",
     "text": [
      "0\n",
      "0\n",
      "0\n",
      "0\n",
      "0\n",
      "10\n",
      "0\n",
      "100\n",
      "100\n",
      "100\n",
      "10\n",
      "X-man!\n",
      "None\n",
      "1\n"
     ]
    },
    {
     "ename": "TypeError",
     "evalue": "'int' object is not callable",
     "output_type": "error",
     "traceback": [
      "\u001b[0;31m---------------------------------------------------------------------------\u001b[0m",
      "\u001b[0;31mTypeError\u001b[0m                                 Traceback (most recent call last)",
      "\u001b[0;32m<ipython-input-59-7a120c5fb569>\u001b[0m in \u001b[0;36m<module>\u001b[0;34m\u001b[0m\n\u001b[1;32m     30\u001b[0m \u001b[0mc\u001b[0m\u001b[0;34m.\u001b[0m\u001b[0mx\u001b[0m \u001b[0;34m=\u001b[0m \u001b[0;36m1\u001b[0m\u001b[0;34m\u001b[0m\u001b[0;34m\u001b[0m\u001b[0m\n\u001b[1;32m     31\u001b[0m \u001b[0mprint\u001b[0m\u001b[0;34m(\u001b[0m\u001b[0mc\u001b[0m\u001b[0;34m.\u001b[0m\u001b[0mx\u001b[0m\u001b[0;34m)\u001b[0m\u001b[0;34m\u001b[0m\u001b[0;34m\u001b[0m\u001b[0m\n\u001b[0;32m---> 32\u001b[0;31m \u001b[0mprint\u001b[0m\u001b[0;34m(\u001b[0m\u001b[0mc\u001b[0m\u001b[0;34m.\u001b[0m\u001b[0mx\u001b[0m\u001b[0;34m(\u001b[0m\u001b[0;34m)\u001b[0m\u001b[0;34m)\u001b[0m\u001b[0;34m\u001b[0m\u001b[0;34m\u001b[0m\u001b[0m\n\u001b[0m",
      "\u001b[0;31mTypeError\u001b[0m: 'int' object is not callable"
     ]
    }
   ],
   "source": [
    "#类的定义：C、类对象：C、实例对象:a/b/c\n",
    "class C:\n",
    "    count = 0#类属性和类对象是相互绑定的\n",
    "    \n",
    "a = C()#实例对象\n",
    "b = C()#实例对象\n",
    "c = C()#实例对象\n",
    "print(a.count)\n",
    "print(b.count)\n",
    "print(c.count)\n",
    "\n",
    "c.count += 10#覆盖了实例对象\n",
    "print(a.count)\n",
    "print(b.count)\n",
    "print(c.count)\n",
    "\n",
    "print(C.count)\n",
    "C.count +=100#覆盖了类对象\n",
    "print(C.count)\n",
    "print(a.count)\n",
    "print(b.count)\n",
    "print(c.count)#\n",
    "\n",
    "class CC:\n",
    "    def x(self):\n",
    "        print('X-man!')\n",
    "\n",
    "c = CC()\n",
    "print(c.x())\n",
    "c.x = 1\n",
    "print(c.x)\n",
    "print(c.x())#错误原因在于如果属性和变量名称相同，那么属性将覆盖方法\n"
   ]
  },
  {
   "cell_type": "code",
   "execution_count": 61,
   "metadata": {},
   "outputs": [
    {
     "name": "stdout",
     "output_type": "stream",
     "text": [
      "no zuo no die!\n"
     ]
    },
    {
     "ename": "TypeError",
     "evalue": "printBB() takes 0 positional arguments but 1 was given",
     "output_type": "error",
     "traceback": [
      "\u001b[0;31m---------------------------------------------------------------------------\u001b[0m",
      "\u001b[0;31mTypeError\u001b[0m                                 Traceback (most recent call last)",
      "\u001b[0;32m<ipython-input-61-496e5f9af947>\u001b[0m in \u001b[0;36m<module>\u001b[0;34m\u001b[0m\n\u001b[1;32m      8\u001b[0m \u001b[0;34m\u001b[0m\u001b[0m\n\u001b[1;32m      9\u001b[0m \u001b[0mbb\u001b[0m \u001b[0;34m=\u001b[0m \u001b[0mBB\u001b[0m\u001b[0;34m(\u001b[0m\u001b[0;34m)\u001b[0m\u001b[0;34m\u001b[0m\u001b[0;34m\u001b[0m\u001b[0m\n\u001b[0;32m---> 10\u001b[0;31m \u001b[0mbb\u001b[0m\u001b[0;34m.\u001b[0m\u001b[0mprintBB\u001b[0m\u001b[0;34m(\u001b[0m\u001b[0;34m)\u001b[0m\u001b[0;31m#这个实际上自动的被Python看做：bb.print(bb)\u001b[0m\u001b[0;34m\u001b[0m\u001b[0;34m\u001b[0m\u001b[0m\n\u001b[0m\u001b[1;32m     11\u001b[0m \u001b[0;34m\u001b[0m\u001b[0m\n\u001b[1;32m     12\u001b[0m \u001b[0;31m#另一个例子\u001b[0m\u001b[0;34m\u001b[0m\u001b[0;34m\u001b[0m\u001b[0;34m\u001b[0m\u001b[0m\n",
      "\u001b[0;31mTypeError\u001b[0m: printBB() takes 0 positional arguments but 1 was given"
     ]
    }
   ],
   "source": [
    "#绑定\n",
    "#一个错误的展示：\n",
    "class BB:\n",
    "    def printBB():\n",
    "        print('no zuo no die!')\n",
    "        \n",
    "BB.printBB()\n",
    "\n",
    "bb = BB()\n",
    "bb.printBB()#这个实际上自动的被Python看做：bb.print(bb)"
   ]
  },
  {
   "cell_type": "code",
   "execution_count": 69,
   "metadata": {},
   "outputs": [
    {
     "name": "stdout",
     "output_type": "stream",
     "text": [
      "{}\n",
      "---------------------------\n",
      "{'__module__': '__main__', 'setXY': <function CC.setXY at 0x10a525f80>, 'printXY': <function CC.printXY at 0x10a525c20>, '__dict__': <attribute '__dict__' of 'CC' objects>, '__weakref__': <attribute '__weakref__' of 'CC' objects>, '__doc__': None}\n",
      "---------------------------\n"
     ]
    },
    {
     "ename": "NameError",
     "evalue": "name 'CC' is not defined",
     "output_type": "error",
     "traceback": [
      "\u001b[0;31m---------------------------------------------------------------------------\u001b[0m",
      "\u001b[0;31mNameError\u001b[0m                                 Traceback (most recent call last)",
      "\u001b[0;32m<ipython-input-69-08e8c7ba26e8>\u001b[0m in \u001b[0;36m<module>\u001b[0;34m\u001b[0m\n\u001b[1;32m     17\u001b[0m \u001b[0;34m\u001b[0m\u001b[0m\n\u001b[1;32m     18\u001b[0m \u001b[0;32mdel\u001b[0m \u001b[0mCC\u001b[0m\u001b[0;34m\u001b[0m\u001b[0;34m\u001b[0m\u001b[0m\n\u001b[0;32m---> 19\u001b[0;31m \u001b[0mee\u001b[0m \u001b[0;34m=\u001b[0m \u001b[0mCC\u001b[0m\u001b[0;34m(\u001b[0m\u001b[0;34m)\u001b[0m\u001b[0;34m\u001b[0m\u001b[0;34m\u001b[0m\u001b[0m\n\u001b[0m\u001b[1;32m     20\u001b[0m \u001b[0mdd\u001b[0m\u001b[0;34m.\u001b[0m\u001b[0mprintXY\u001b[0m\u001b[0;34m(\u001b[0m\u001b[0;34m)\u001b[0m\u001b[0;34m\u001b[0m\u001b[0;34m\u001b[0m\u001b[0m\n",
      "\u001b[0;31mNameError\u001b[0m: name 'CC' is not defined"
     ]
    }
   ],
   "source": [
    "#另一个例子\n",
    "class CC:\n",
    "    def setXY(self,x,y):#静态的绑定在类对象里面\n",
    "        self.x = x\n",
    "        self.y = y\n",
    "    def printXY(self):#静态的绑定在类对象里面\n",
    "        print(self.x,self.y)\n",
    "        \n",
    "dd = CC()\n",
    "print(dd.__dict__)\n",
    "print('---------------------------')\n",
    "print(CC.__dict__ )#仅显示属性，没有魔法方法\n",
    "\n",
    "print('---------------------------')\n",
    "dd.setXY(4,5)#这里实际上是dd.setXY(dd,4,5),即x = 4,y = 5\n",
    "dd.__dict__\n",
    "\n",
    "del CC\n",
    "#ee = CC()# 会报错\n",
    "dd.printXY() #但纵使类的定义被删除了，但是实例对象还是可以引用，所以我们尽量使用实例对象"
   ]
  },
  {
   "cell_type": "markdown",
   "metadata": {},
   "source": [
    "040：类和对象里的一些相关BIF\n",
    "\n",
    "issubclass(class,classinfo)\n",
    "如果class是classinfo的子类，则返回TRUE\n",
    "注意：一个类会被认为是自身的子类；classinfo可以是个元组，其中只要包含一个成功就返回True\n",
    "不按照要求输入会有TypeError（例子如下：）\n",
    "\n",
    "isinstance(object,classinfo)\n",
    "检查object是否是classinfo的一个实例：\n",
    "-如果第一个参数不是对象，则返回FALSE；\n",
    "-如果第二个不是类的话会有TypeError异常\n",
    "\n",
    "hasattr (读作：has attribute---attr = attribute属性)\n",
    "测试一个对象是否有指定的属性\n",
    "\n",
    "gettattr(object,name[,default])\n",
    "返回对象指定的性质，这里的可选参数default，如果指定的属性不存在会打印default参数，否则会返回AttributeError异常\n",
    "\n",
    "setattr(object,name,value)\n",
    "如果指定的属性不存在会创建一个新属性，注意name还是要加’‘\n",
    "\n",
    "delattr(object,name)\n",
    "删除对象中的指定属性，如果该属性不存在则跑出AttributeError的异常\n",
    "\n",
    "property（fget=None,fset = None, fdel = None,doc = None）\n",
    "用属性来设置属性\n",
    "fget：获取属性；fset：设置属性；fdel：删除属性"
   ]
  },
  {
   "cell_type": "code",
   "execution_count": 72,
   "metadata": {},
   "outputs": [
    {
     "name": "stdout",
     "output_type": "stream",
     "text": [
      "True\n",
      "True\n",
      "False\n"
     ]
    }
   ],
   "source": [
    "class A:\n",
    "    pass\n",
    "\n",
    "class B(A):\n",
    "    pass\n",
    "\n",
    "class C:\n",
    "    pass\n",
    "\n",
    "print(issubclass(B,A))\n",
    "print(issubclass(B,B))\n",
    "print(issubclass(B,C))"
   ]
  },
  {
   "cell_type": "code",
   "execution_count": 74,
   "metadata": {},
   "outputs": [
    {
     "name": "stdout",
     "output_type": "stream",
     "text": [
      "True\n",
      "True\n",
      "False\n",
      "True\n"
     ]
    }
   ],
   "source": [
    "b1 = B()\n",
    "\n",
    "print(isinstance(b1,B))\n",
    "print(isinstance(b1,A))\n",
    "print(isinstance(b1,C))\n",
    "print(isinstance(b1,(A,C)))"
   ]
  },
  {
   "cell_type": "code",
   "execution_count": 80,
   "metadata": {},
   "outputs": [
    {
     "name": "stdout",
     "output_type": "stream",
     "text": [
      "True\n",
      "-------------------\n",
      "0\n",
      "您所访问的属性不存在\n"
     ]
    }
   ],
   "source": [
    "class C:\n",
    "    def __init__(self,x = 0):\n",
    "        self.x = x\n",
    "\n",
    "c1 = C()\n",
    "print(hasattr(c1,'x'))#注意，要用字符串形式\n",
    "#print(hasattr(c1,x))\n",
    "print('-------------------')\n",
    "print(getattr(c1,'x'))\n",
    "#print(getattr(c1,'y'))会报错：AttributeError: 'C' object has no attribute 'y'\n",
    "print(getattr(c1,'y','您所访问的属性不存在'))"
   ]
  },
  {
   "cell_type": "code",
   "execution_count": 82,
   "metadata": {},
   "outputs": [
    {
     "data": {
      "text/plain": [
       "'FishC'"
      ]
     },
     "execution_count": 82,
     "metadata": {},
     "output_type": "execute_result"
    }
   ],
   "source": [
    "setattr,'FishC')\n",
    "getattr(c1,'y','您所访问的属性不存在')"
   ]
  },
  {
   "cell_type": "code",
   "execution_count": 83,
   "metadata": {},
   "outputs": [],
   "source": [
    "delattr(c1,'y')#可以执行"
   ]
  },
  {
   "cell_type": "code",
   "execution_count": 84,
   "metadata": {},
   "outputs": [
    {
     "ename": "AttributeError",
     "evalue": "y",
     "output_type": "error",
     "traceback": [
      "\u001b[0;31m---------------------------------------------------------------------------\u001b[0m",
      "\u001b[0;31mAttributeError\u001b[0m                            Traceback (most recent call last)",
      "\u001b[0;32m<ipython-input-84-4229ead2dc9b>\u001b[0m in \u001b[0;36m<module>\u001b[0;34m\u001b[0m\n\u001b[0;32m----> 1\u001b[0;31m \u001b[0mdelattr\u001b[0m\u001b[0;34m(\u001b[0m\u001b[0mc1\u001b[0m\u001b[0;34m,\u001b[0m\u001b[0;34m'y'\u001b[0m\u001b[0;34m)\u001b[0m\u001b[0;34m\u001b[0m\u001b[0;34m\u001b[0m\u001b[0m\n\u001b[0m",
      "\u001b[0;31mAttributeError\u001b[0m: y"
     ]
    }
   ],
   "source": [
    "delattr(c1,'y')#报错"
   ]
  },
  {
   "cell_type": "code",
   "execution_count": 98,
   "metadata": {},
   "outputs": [
    {
     "data": {
      "text/plain": [
       "10"
      ]
     },
     "execution_count": 98,
     "metadata": {},
     "output_type": "execute_result"
    }
   ],
   "source": [
    "class C:\n",
    "    def __init__(self,size = 10):\n",
    "        self.size = size\n",
    "    def getsize(self):\n",
    "        return self.size\n",
    "    def setsize(self,value):\n",
    "        self.size = value\n",
    "    def delsize(self):\n",
    "        del self.size\n",
    "    x = property(getsize,setsize,delsize)\n",
    "    \n",
    "c1 = C()\n",
    "c1.getsize()\n"
   ]
  },
  {
   "cell_type": "code",
   "execution_count": 99,
   "metadata": {},
   "outputs": [
    {
     "name": "stdout",
     "output_type": "stream",
     "text": [
      "10\n",
      "-------------------\n",
      "18\n",
      "-------------------\n",
      "18\n",
      "-------------------\n",
      "18\n",
      "-------------------\n"
     ]
    },
    {
     "ename": "AttributeError",
     "evalue": "'C' object has no attribute 'size'",
     "output_type": "error",
     "traceback": [
      "\u001b[0;31m---------------------------------------------------------------------------\u001b[0m",
      "\u001b[0;31mAttributeError\u001b[0m                            Traceback (most recent call last)",
      "\u001b[0;32m<ipython-input-99-ebeb4d5f0d0d>\u001b[0m in \u001b[0;36m<module>\u001b[0;34m\u001b[0m\n\u001b[1;32m      9\u001b[0m \u001b[0mprint\u001b[0m\u001b[0;34m(\u001b[0m\u001b[0;34m'-------------------'\u001b[0m\u001b[0;34m)\u001b[0m\u001b[0;34m\u001b[0m\u001b[0;34m\u001b[0m\u001b[0m\n\u001b[1;32m     10\u001b[0m \u001b[0;32mdel\u001b[0m \u001b[0mc1\u001b[0m\u001b[0;34m.\u001b[0m\u001b[0mx\u001b[0m\u001b[0;34m\u001b[0m\u001b[0;34m\u001b[0m\u001b[0m\n\u001b[0;32m---> 11\u001b[0;31m \u001b[0mprint\u001b[0m\u001b[0;34m(\u001b[0m\u001b[0mc1\u001b[0m\u001b[0;34m.\u001b[0m\u001b[0msize\u001b[0m\u001b[0;34m)\u001b[0m\u001b[0;34m\u001b[0m\u001b[0;34m\u001b[0m\u001b[0m\n\u001b[0m",
      "\u001b[0;31mAttributeError\u001b[0m: 'C' object has no attribute 'size'"
     ]
    }
   ],
   "source": [
    "print(c1.x)\n",
    "print('-------------------')\n",
    "c1.x = 18\n",
    "print(c1.x)\n",
    "print('-------------------')\n",
    "print(c1.size)\n",
    "print('-------------------')\n",
    "print(c1.getsize())\n",
    "print('-------------------')\n",
    "del c1.x\n",
    "print(c1.size)#报错"
   ]
  },
  {
   "cell_type": "markdown",
   "metadata": {},
   "source": [
    "041：魔法方法--构造与析构\n",
    "-魔法方法总是被双下划线所包围，如__init__\n",
    "-魔法方法是Python的面向对象的一切\n",
    "-能够被自动调用\n",
    "\n",
    "__init__(self[,...])\n",
    "\n",
    "为什么有时候类定义时用到__init__方法有时候没有用到呢？--需求\n",
    "若是添加__init__方法，那么在创建类的实例的时候，实例会自动调用这个方法，一般用来对实例的属性进行初使化。\n",
    "说到最后，__init__还是有个特殊之处，那就是它不允许有返回值。如果你的__init__过于复杂有可能要提前结束的话，使用单独的return就好，不要带返回值。\n",
    "\n",
    "\n",
    "__new__(cls[, ...])\n",
    "__new__() 是一种负责创建类实例的静态方法，它无需使用 staticmethod 装饰器修饰，且该方法会优先 __init__() 初始化方法被调用。\n",
    "那么，什么情况下使用 __new__() 呢？答案很简单，在 __init__() 不够用的时候。\n",
    "\n",
    "__del__(self)\n",
    "销毁对象，但是不能用这个方法调用：× del x ≠ x.__del__()\n"
   ]
  },
  {
   "cell_type": "code",
   "execution_count": 100,
   "metadata": {},
   "outputs": [
    {
     "data": {
      "text/plain": [
       "12"
      ]
     },
     "execution_count": 100,
     "metadata": {},
     "output_type": "execute_result"
    }
   ],
   "source": [
    "class Rectangle:\n",
    "    def __init__(self,x,y):\n",
    "        self.x = x\n",
    "        self.y = y\n",
    "    def getPeri(self):\n",
    "        return (self.x+self.y)*2\n",
    "    def getArea(self):\n",
    "        return self.x*self.y\n",
    "    \n",
    "rect = Rectangle(3,4)\n",
    "print(rect.getPeri())\n",
    "print('-----------------')\n",
    "print(rect.getArea())"
   ]
  },
  {
   "cell_type": "code",
   "execution_count": 101,
   "metadata": {},
   "outputs": [
    {
     "ename": "TypeError",
     "evalue": "__init__() should return None, not 'str'",
     "output_type": "error",
     "traceback": [
      "\u001b[0;31m---------------------------------------------------------------------------\u001b[0m",
      "\u001b[0;31mTypeError\u001b[0m                                 Traceback (most recent call last)",
      "\u001b[0;32m<ipython-input-101-dc2a5dfda1f7>\u001b[0m in \u001b[0;36m<module>\u001b[0;34m\u001b[0m\n\u001b[1;32m      3\u001b[0m         \u001b[0;32mreturn\u001b[0m \u001b[0;34m\"A for A-cup\"\u001b[0m\u001b[0;34m\u001b[0m\u001b[0;34m\u001b[0m\u001b[0m\n\u001b[1;32m      4\u001b[0m \u001b[0;34m\u001b[0m\u001b[0m\n\u001b[0;32m----> 5\u001b[0;31m \u001b[0ma\u001b[0m \u001b[0;34m=\u001b[0m \u001b[0mA\u001b[0m\u001b[0;34m(\u001b[0m\u001b[0;34m)\u001b[0m\u001b[0;34m\u001b[0m\u001b[0;34m\u001b[0m\u001b[0m\n\u001b[0m",
      "\u001b[0;31mTypeError\u001b[0m: __init__() should return None, not 'str'"
     ]
    }
   ],
   "source": [
    "class A:\n",
    "    def __init__(self):\n",
    "        return \"A for A-cup\"\n",
    "\n",
    "a = A() #TypeError: __init__() should return None, not 'str'"
   ]
  },
  {
   "cell_type": "code",
   "execution_count": 102,
   "metadata": {},
   "outputs": [
    {
     "data": {
      "text/plain": [
       "'I LOVE FISHC.COM'"
      ]
     },
     "execution_count": 102,
     "metadata": {},
     "output_type": "execute_result"
    }
   ],
   "source": [
    "class CapStr(str):\n",
    "    def __new__(cls,string):\n",
    "        string = string.upper()\n",
    "        return str.__new__(cls,string)#转化完再重新调用\n",
    "    \n",
    "a = CapStr('i love fishc.com')\n",
    "a"
   ]
  },
  {
   "cell_type": "code",
   "execution_count": 105,
   "metadata": {},
   "outputs": [
    {
     "name": "stdout",
     "output_type": "stream",
     "text": [
      "我是__init__方法，我被调用了。。。\n",
      "我是__del__方法，我被调用了。。。\n",
      "我是__del__方法，我被调用了。。。\n"
     ]
    }
   ],
   "source": [
    "class C:\n",
    "    def __init__(self):\n",
    "        print('我是__init__方法，我被调用了。。。')\n",
    "    def __del__(self):\n",
    "        print('我是__del__方法，我被调用了。。。')\n",
    "\n",
    "c1 = C()\n",
    "c2 = c1\n",
    "c3 = c2\n",
    "del c3\n",
    "del c2\n",
    "del c1\n",
    "#当所有指向该类的标签被销毁后执行该操作？？？"
   ]
  },
  {
   "cell_type": "markdown",
   "metadata": {},
   "source": [
    "042：工厂函数--类对象\n",
    "一旦对类对象进行了运算，就会自动触发魔法方法：\n",
    "__add__(self,other)\n",
    "__sub__(self,other) 减法\n",
    "__mul__(self,other)\n",
    "__truediv__(self,other)真除法\n",
    "__floordiv__(self,other)\n",
    "__mod__(self,other)取模%\n",
    "__divmod__(self,other) //\n",
    "__pow__(self,other[,modulo])   **\n",
    "__lshift__(self,other) <<左位移\n",
    "__rshift__(self,other) >>右位移\n",
    "__and__(self,other)  &\n",
    "__xor__(self,other)  ^异位\n",
    "__or__(self,other)   |\n",
    "位涉及到汇编语言"
   ]
  },
  {
   "cell_type": "code",
   "execution_count": 109,
   "metadata": {},
   "outputs": [
    {
     "name": "stdout",
     "output_type": "stream",
     "text": [
      "<class 'builtin_function_or_method'>\n",
      "<class 'builtin_function_or_method'>\n",
      "<class 'type'>\n",
      "<class 'type'>\n"
     ]
    }
   ],
   "source": [
    "print(type(len))\n",
    "print(type(dir))\n",
    "print(type(int))\n",
    "print(type(list))"
   ]
  },
  {
   "cell_type": "code",
   "execution_count": 110,
   "metadata": {},
   "outputs": [
    {
     "name": "stdout",
     "output_type": "stream",
     "text": [
      "<class 'type'>\n"
     ]
    }
   ],
   "source": [
    "class C:#C 在被定义的时候叫做类\n",
    "    pass\n",
    "print(type(C))#被定义完叫做类对象"
   ]
  },
  {
   "cell_type": "code",
   "execution_count": 111,
   "metadata": {},
   "outputs": [
    {
     "name": "stdout",
     "output_type": "stream",
     "text": [
      "123\n",
      "469\n"
     ]
    }
   ],
   "source": [
    "a = int('123')#这里可以理解为实例化int这个类的对象，传入的参数是’123‘\n",
    "print(a)\n",
    "b = int('346')\n",
    "print(a + b)#对象可以算术运算"
   ]
  },
  {
   "cell_type": "code",
   "execution_count": 112,
   "metadata": {},
   "outputs": [
    {
     "name": "stdout",
     "output_type": "stream",
     "text": [
      "-2\n",
      "8\n"
     ]
    }
   ],
   "source": [
    "class New_int(int):\n",
    "    def __add__(self,other):\n",
    "        return int.__sub__(self,other)\n",
    "    def __sub__(self,other):\n",
    "        return int.__add__(self,other)\n",
    "    \n",
    "a = New_int(3)\n",
    "b = New_int(5)\n",
    "print(a+b)\n",
    "print(a-b)"
   ]
  },
  {
   "cell_type": "code",
   "execution_count": 113,
   "metadata": {},
   "outputs": [
    {
     "ename": "RecursionError",
     "evalue": "maximum recursion depth exceeded",
     "output_type": "error",
     "traceback": [
      "\u001b[0;31m---------------------------------------------------------------------------\u001b[0m",
      "\u001b[0;31mRecursionError\u001b[0m                            Traceback (most recent call last)",
      "\u001b[0;32m<ipython-input-113-75b820e04921>\u001b[0m in \u001b[0;36m<module>\u001b[0;34m\u001b[0m\n\u001b[1;32m      7\u001b[0m \u001b[0ma\u001b[0m \u001b[0;34m=\u001b[0m \u001b[0mTry_int\u001b[0m\u001b[0;34m(\u001b[0m\u001b[0;36m3\u001b[0m\u001b[0;34m)\u001b[0m\u001b[0;34m\u001b[0m\u001b[0;34m\u001b[0m\u001b[0m\n\u001b[1;32m      8\u001b[0m \u001b[0mb\u001b[0m \u001b[0;34m=\u001b[0m \u001b[0mTry_int\u001b[0m\u001b[0;34m(\u001b[0m\u001b[0;36m5\u001b[0m\u001b[0;34m)\u001b[0m\u001b[0;34m\u001b[0m\u001b[0;34m\u001b[0m\u001b[0m\n\u001b[0;32m----> 9\u001b[0;31m \u001b[0ma\u001b[0m\u001b[0;34m+\u001b[0m\u001b[0mb\u001b[0m\u001b[0;34m\u001b[0m\u001b[0;34m\u001b[0m\u001b[0m\n\u001b[0m",
      "\u001b[0;32m<ipython-input-113-75b820e04921>\u001b[0m in \u001b[0;36m__add__\u001b[0;34m(self, other)\u001b[0m\n\u001b[1;32m      1\u001b[0m \u001b[0;32mclass\u001b[0m \u001b[0mTry_int\u001b[0m\u001b[0;34m(\u001b[0m\u001b[0mint\u001b[0m\u001b[0;34m)\u001b[0m\u001b[0;34m:\u001b[0m\u001b[0;34m\u001b[0m\u001b[0;34m\u001b[0m\u001b[0m\n\u001b[1;32m      2\u001b[0m     \u001b[0;32mdef\u001b[0m \u001b[0m__add__\u001b[0m\u001b[0;34m(\u001b[0m\u001b[0mself\u001b[0m\u001b[0;34m,\u001b[0m\u001b[0mother\u001b[0m\u001b[0;34m)\u001b[0m\u001b[0;34m:\u001b[0m\u001b[0;34m\u001b[0m\u001b[0;34m\u001b[0m\u001b[0m\n\u001b[0;32m----> 3\u001b[0;31m         \u001b[0;32mreturn\u001b[0m \u001b[0mself\u001b[0m \u001b[0;34m+\u001b[0m \u001b[0mother\u001b[0m\u001b[0;34m\u001b[0m\u001b[0;34m\u001b[0m\u001b[0m\n\u001b[0m\u001b[1;32m      4\u001b[0m     \u001b[0;32mdef\u001b[0m \u001b[0m__sub__\u001b[0m\u001b[0;34m(\u001b[0m\u001b[0mself\u001b[0m\u001b[0;34m,\u001b[0m\u001b[0mother\u001b[0m\u001b[0;34m)\u001b[0m\u001b[0;34m:\u001b[0m\u001b[0;34m\u001b[0m\u001b[0;34m\u001b[0m\u001b[0m\n\u001b[1;32m      5\u001b[0m         \u001b[0;32mreturn\u001b[0m \u001b[0mself\u001b[0m \u001b[0;34m-\u001b[0m \u001b[0mother\u001b[0m\u001b[0;34m\u001b[0m\u001b[0;34m\u001b[0m\u001b[0m\n",
      "... last 1 frames repeated, from the frame below ...\n",
      "\u001b[0;32m<ipython-input-113-75b820e04921>\u001b[0m in \u001b[0;36m__add__\u001b[0;34m(self, other)\u001b[0m\n\u001b[1;32m      1\u001b[0m \u001b[0;32mclass\u001b[0m \u001b[0mTry_int\u001b[0m\u001b[0;34m(\u001b[0m\u001b[0mint\u001b[0m\u001b[0;34m)\u001b[0m\u001b[0;34m:\u001b[0m\u001b[0;34m\u001b[0m\u001b[0;34m\u001b[0m\u001b[0m\n\u001b[1;32m      2\u001b[0m     \u001b[0;32mdef\u001b[0m \u001b[0m__add__\u001b[0m\u001b[0;34m(\u001b[0m\u001b[0mself\u001b[0m\u001b[0;34m,\u001b[0m\u001b[0mother\u001b[0m\u001b[0;34m)\u001b[0m\u001b[0;34m:\u001b[0m\u001b[0;34m\u001b[0m\u001b[0;34m\u001b[0m\u001b[0m\n\u001b[0;32m----> 3\u001b[0;31m         \u001b[0;32mreturn\u001b[0m \u001b[0mself\u001b[0m \u001b[0;34m+\u001b[0m \u001b[0mother\u001b[0m\u001b[0;34m\u001b[0m\u001b[0;34m\u001b[0m\u001b[0m\n\u001b[0m\u001b[1;32m      4\u001b[0m     \u001b[0;32mdef\u001b[0m \u001b[0m__sub__\u001b[0m\u001b[0;34m(\u001b[0m\u001b[0mself\u001b[0m\u001b[0;34m,\u001b[0m\u001b[0mother\u001b[0m\u001b[0;34m)\u001b[0m\u001b[0;34m:\u001b[0m\u001b[0;34m\u001b[0m\u001b[0;34m\u001b[0m\u001b[0m\n\u001b[1;32m      5\u001b[0m         \u001b[0;32mreturn\u001b[0m \u001b[0mself\u001b[0m \u001b[0;34m-\u001b[0m \u001b[0mother\u001b[0m\u001b[0;34m\u001b[0m\u001b[0;34m\u001b[0m\u001b[0m\n",
      "\u001b[0;31mRecursionError\u001b[0m: maximum recursion depth exceeded"
     ]
    }
   ],
   "source": [
    "class Try_int(int):\n",
    "    def __add__(self,other):\n",
    "        return self + other\n",
    "    def __sub__(self,other):\n",
    "        return self - other\n",
    "\n",
    "a = Try_int(3)\n",
    "b = Try_int(5)\n",
    "a+b #这里会递归到最大深度，报错，这里的__add__被反复调用了---没有懂"
   ]
  },
  {
   "cell_type": "code",
   "execution_count": 114,
   "metadata": {},
   "outputs": [
    {
     "data": {
      "text/plain": [
       "8"
      ]
     },
     "execution_count": 114,
     "metadata": {},
     "output_type": "execute_result"
    }
   ],
   "source": [
    "class Try_int(int):\n",
    "    def __add__(self,other):\n",
    "        return int(self) + int(other)\n",
    "    def __sub__(self,other):\n",
    "        return int(self) - int(other)\n",
    "\n",
    "a = Try_int(3)\n",
    "b = Try_int(5)\n",
    "a+b #这里会递归到最大深度，报错，这里的__add__被反复调用了"
   ]
  },
  {
   "cell_type": "markdown",
   "metadata": {},
   "source": [
    "043：\n",
    "反运算符:\n",
    "如果a不能实现某运算时，换成b在前面\n",
    "\n",
    "更多见印象笔记网络辅助"
   ]
  },
  {
   "cell_type": "code",
   "execution_count": 1,
   "metadata": {},
   "outputs": [
    {
     "name": "stdout",
     "output_type": "stream",
     "text": [
      "5\n",
      "2\n"
     ]
    }
   ],
   "source": [
    "class int(int):\n",
    "    def __add__(self,other):\n",
    "        return int.__sub__(self,other)\n",
    "    \n",
    "a = int('5')\n",
    "print(a)\n",
    "b = int('3')\n",
    "print(a+b)"
   ]
  },
  {
   "cell_type": "code",
   "execution_count": 1,
   "metadata": {},
   "outputs": [
    {
     "name": "stdout",
     "output_type": "stream",
     "text": [
      "8\n",
      "2\n"
     ]
    }
   ],
   "source": [
    "#restart kernel\n",
    "class Nint(int):\n",
    "    def __radd__(self,other):\n",
    "        return int.__sub__(self,other)\n",
    "\n",
    "a = Nint('5')\n",
    "b = Nint('3')\n",
    "print(a+b)\n",
    "print(1+b)#3-1"
   ]
  },
  {
   "cell_type": "code",
   "execution_count": 1,
   "metadata": {},
   "outputs": [
    {
     "name": "stdout",
     "output_type": "stream",
     "text": [
      "2\n"
     ]
    }
   ],
   "source": [
    "#反例\n",
    "#restart kernel\n",
    "class Nint(int):\n",
    "    def __rsub__(self,other):\n",
    "        return int.__sub__(self,other)\n",
    "\n",
    "a = Nint('5')\n",
    "print(3-a)"
   ]
  },
  {
   "cell_type": "markdown",
   "metadata": {},
   "source": [
    "044：类定制 ----\n",
    "##### 这一章的程序有问题，重新听一遍重新debug"
   ]
  },
  {
   "cell_type": "code",
   "execution_count": null,
   "metadata": {},
   "outputs": [],
   "source": [
    "#定制一个计时器的类\n",
    "#start和stop代表启动和停止计时\n",
    "#假设计时器对象t1，print(t1)和直接调用t1均显示结果\n",
    "#当计时器未启动或已经停止，调用stop方法会给出温馨提示\n",
    "#两个计时器可以相加：t1+t2\n",
    "#只能使用提供的有限资源完成\n",
    "\n",
    "#使用time模块的localtime方法获取时间\n",
    "#-- 拓展阅读：time模块详解（时间获取和转换）\n",
    "#time.localtime返回struct_time的时间格式\n",
    "#表现你的类：__str__和__repr__"
   ]
  },
  {
   "cell_type": "code",
   "execution_count": 3,
   "metadata": {},
   "outputs": [
    {
     "name": "stdout",
     "output_type": "stream",
     "text": [
      "I am beatiful\n",
      "I am sooo beatiful\n"
     ]
    }
   ],
   "source": [
    "class A():\n",
    "    def __str__(self):\n",
    "        return 'I am beatiful'\n",
    "    \n",
    "a = A()\n",
    "print(a)\n",
    "\n",
    "class B():\n",
    "    def __repr__(self):\n",
    "        return 'I am sooo beatiful'\n",
    "    \n",
    "b = B()\n",
    "print(b)"
   ]
  },
  {
   "cell_type": "code",
   "execution_count": 2,
   "metadata": {},
   "outputs": [],
   "source": [
    "import time as t\n",
    "\n",
    "class MyTimer():\n",
    "    \n",
    "    def __str__(self):\n",
    "        return self.prompt\n",
    "    \n",
    "    __repr__  = __str__\n",
    "    \n",
    "    #开始计时\n",
    "    def start(self):\n",
    "        self.start = t.localtime()\n",
    "        print('开始计时...')\n",
    "        \n",
    "    #停止计时\n",
    "    def stop(self):\n",
    "        self.stop = t.localtime()\n",
    "        self._calc()\n",
    "        print('停止计时...')    \n",
    "    \n",
    "    #内部方法，计算运行时间\n",
    "    def _calc(self):\n",
    "        self.lasted = []\n",
    "        self.prompt = '总共运行了'\n",
    "        for index in range(6):#这里是因为time_struct前6个字符是时刻\n",
    "            self.lasted.append(self.stop[index] - self.start[index])\n",
    "            self.prompt += str(self.lasted[index])\n",
    "            \n",
    "        print(self.prompt)\n",
    "        \n"
   ]
  },
  {
   "cell_type": "code",
   "execution_count": 2,
   "metadata": {},
   "outputs": [
    {
     "name": "stdout",
     "output_type": "stream",
     "text": [
      "开始计时...\n",
      "总共运行了000000\n",
      "停止计时...\n"
     ]
    },
    {
     "data": {
      "text/plain": [
       "总共运行了000000"
      ]
     },
     "execution_count": 2,
     "metadata": {},
     "output_type": "execute_result"
    }
   ],
   "source": [
    "t1 = MyTimer()\n",
    "t1.start()\n",
    "t1.stop()\n",
    "t1"
   ]
  },
  {
   "cell_type": "code",
   "execution_count": 4,
   "metadata": {},
   "outputs": [
    {
     "ename": "AttributeError",
     "evalue": "'MyTimer' object has no attribute 'prompt'",
     "output_type": "error",
     "traceback": [
      "\u001b[0;31m---------------------------------------------------------------------------\u001b[0m",
      "\u001b[0;31mAttributeError\u001b[0m                            Traceback (most recent call last)",
      "\u001b[0;32m/opt/anaconda3/lib/python3.7/site-packages/IPython/core/formatters.py\u001b[0m in \u001b[0;36m__call__\u001b[0;34m(self, obj)\u001b[0m\n\u001b[1;32m    700\u001b[0m                 \u001b[0mtype_pprinters\u001b[0m\u001b[0;34m=\u001b[0m\u001b[0mself\u001b[0m\u001b[0;34m.\u001b[0m\u001b[0mtype_printers\u001b[0m\u001b[0;34m,\u001b[0m\u001b[0;34m\u001b[0m\u001b[0;34m\u001b[0m\u001b[0m\n\u001b[1;32m    701\u001b[0m                 deferred_pprinters=self.deferred_printers)\n\u001b[0;32m--> 702\u001b[0;31m             \u001b[0mprinter\u001b[0m\u001b[0;34m.\u001b[0m\u001b[0mpretty\u001b[0m\u001b[0;34m(\u001b[0m\u001b[0mobj\u001b[0m\u001b[0;34m)\u001b[0m\u001b[0;34m\u001b[0m\u001b[0;34m\u001b[0m\u001b[0m\n\u001b[0m\u001b[1;32m    703\u001b[0m             \u001b[0mprinter\u001b[0m\u001b[0;34m.\u001b[0m\u001b[0mflush\u001b[0m\u001b[0;34m(\u001b[0m\u001b[0;34m)\u001b[0m\u001b[0;34m\u001b[0m\u001b[0;34m\u001b[0m\u001b[0m\n\u001b[1;32m    704\u001b[0m             \u001b[0;32mreturn\u001b[0m \u001b[0mstream\u001b[0m\u001b[0;34m.\u001b[0m\u001b[0mgetvalue\u001b[0m\u001b[0;34m(\u001b[0m\u001b[0;34m)\u001b[0m\u001b[0;34m\u001b[0m\u001b[0;34m\u001b[0m\u001b[0m\n",
      "\u001b[0;32m/opt/anaconda3/lib/python3.7/site-packages/IPython/lib/pretty.py\u001b[0m in \u001b[0;36mpretty\u001b[0;34m(self, obj)\u001b[0m\n\u001b[1;32m    400\u001b[0m                         \u001b[0;32mif\u001b[0m \u001b[0mcls\u001b[0m \u001b[0;32mis\u001b[0m \u001b[0;32mnot\u001b[0m \u001b[0mobject\u001b[0m\u001b[0;31m \u001b[0m\u001b[0;31m\\\u001b[0m\u001b[0;34m\u001b[0m\u001b[0;34m\u001b[0m\u001b[0m\n\u001b[1;32m    401\u001b[0m                                 \u001b[0;32mand\u001b[0m \u001b[0mcallable\u001b[0m\u001b[0;34m(\u001b[0m\u001b[0mcls\u001b[0m\u001b[0;34m.\u001b[0m\u001b[0m__dict__\u001b[0m\u001b[0;34m.\u001b[0m\u001b[0mget\u001b[0m\u001b[0;34m(\u001b[0m\u001b[0;34m'__repr__'\u001b[0m\u001b[0;34m)\u001b[0m\u001b[0;34m)\u001b[0m\u001b[0;34m:\u001b[0m\u001b[0;34m\u001b[0m\u001b[0;34m\u001b[0m\u001b[0m\n\u001b[0;32m--> 402\u001b[0;31m                             \u001b[0;32mreturn\u001b[0m \u001b[0m_repr_pprint\u001b[0m\u001b[0;34m(\u001b[0m\u001b[0mobj\u001b[0m\u001b[0;34m,\u001b[0m \u001b[0mself\u001b[0m\u001b[0;34m,\u001b[0m \u001b[0mcycle\u001b[0m\u001b[0;34m)\u001b[0m\u001b[0;34m\u001b[0m\u001b[0;34m\u001b[0m\u001b[0m\n\u001b[0m\u001b[1;32m    403\u001b[0m \u001b[0;34m\u001b[0m\u001b[0m\n\u001b[1;32m    404\u001b[0m             \u001b[0;32mreturn\u001b[0m \u001b[0m_default_pprint\u001b[0m\u001b[0;34m(\u001b[0m\u001b[0mobj\u001b[0m\u001b[0;34m,\u001b[0m \u001b[0mself\u001b[0m\u001b[0;34m,\u001b[0m \u001b[0mcycle\u001b[0m\u001b[0;34m)\u001b[0m\u001b[0;34m\u001b[0m\u001b[0;34m\u001b[0m\u001b[0m\n",
      "\u001b[0;32m/opt/anaconda3/lib/python3.7/site-packages/IPython/lib/pretty.py\u001b[0m in \u001b[0;36m_repr_pprint\u001b[0;34m(obj, p, cycle)\u001b[0m\n\u001b[1;32m    695\u001b[0m     \u001b[0;34m\"\"\"A pprint that just redirects to the normal repr function.\"\"\"\u001b[0m\u001b[0;34m\u001b[0m\u001b[0;34m\u001b[0m\u001b[0m\n\u001b[1;32m    696\u001b[0m     \u001b[0;31m# Find newlines and replace them with p.break_()\u001b[0m\u001b[0;34m\u001b[0m\u001b[0;34m\u001b[0m\u001b[0;34m\u001b[0m\u001b[0m\n\u001b[0;32m--> 697\u001b[0;31m     \u001b[0moutput\u001b[0m \u001b[0;34m=\u001b[0m \u001b[0mrepr\u001b[0m\u001b[0;34m(\u001b[0m\u001b[0mobj\u001b[0m\u001b[0;34m)\u001b[0m\u001b[0;34m\u001b[0m\u001b[0;34m\u001b[0m\u001b[0m\n\u001b[0m\u001b[1;32m    698\u001b[0m     \u001b[0;32mfor\u001b[0m \u001b[0midx\u001b[0m\u001b[0;34m,\u001b[0m\u001b[0moutput_line\u001b[0m \u001b[0;32min\u001b[0m \u001b[0menumerate\u001b[0m\u001b[0;34m(\u001b[0m\u001b[0moutput\u001b[0m\u001b[0;34m.\u001b[0m\u001b[0msplitlines\u001b[0m\u001b[0;34m(\u001b[0m\u001b[0;34m)\u001b[0m\u001b[0;34m)\u001b[0m\u001b[0;34m:\u001b[0m\u001b[0;34m\u001b[0m\u001b[0;34m\u001b[0m\u001b[0m\n\u001b[1;32m    699\u001b[0m         \u001b[0;32mif\u001b[0m \u001b[0midx\u001b[0m\u001b[0;34m:\u001b[0m\u001b[0;34m\u001b[0m\u001b[0;34m\u001b[0m\u001b[0m\n",
      "\u001b[0;32m<ipython-input-2-cea3764216b6>\u001b[0m in \u001b[0;36m__str__\u001b[0;34m(self)\u001b[0m\n\u001b[1;32m      4\u001b[0m \u001b[0;34m\u001b[0m\u001b[0m\n\u001b[1;32m      5\u001b[0m     \u001b[0;32mdef\u001b[0m \u001b[0m__str__\u001b[0m\u001b[0;34m(\u001b[0m\u001b[0mself\u001b[0m\u001b[0;34m)\u001b[0m\u001b[0;34m:\u001b[0m\u001b[0;34m\u001b[0m\u001b[0;34m\u001b[0m\u001b[0m\n\u001b[0;32m----> 6\u001b[0;31m         \u001b[0;32mreturn\u001b[0m \u001b[0mself\u001b[0m\u001b[0;34m.\u001b[0m\u001b[0mprompt\u001b[0m\u001b[0;34m\u001b[0m\u001b[0;34m\u001b[0m\u001b[0m\n\u001b[0m\u001b[1;32m      7\u001b[0m \u001b[0;34m\u001b[0m\u001b[0m\n\u001b[1;32m      8\u001b[0m     \u001b[0m__repr__\u001b[0m  \u001b[0;34m=\u001b[0m \u001b[0m__str__\u001b[0m\u001b[0;34m\u001b[0m\u001b[0;34m\u001b[0m\u001b[0m\n",
      "\u001b[0;31mAttributeError\u001b[0m: 'MyTimer' object has no attribute 'prompt'"
     ]
    }
   ],
   "source": [
    "t1 = MyTimer()\n",
    "t1#这里报错是因为，在没有运行start和stop时找不到.prompt"
   ]
  },
  {
   "cell_type": "code",
   "execution_count": 66,
   "metadata": {},
   "outputs": [],
   "source": [
    "#修改后能直接调用t1\n",
    "import time as t\n",
    "\n",
    "class MyTimer():\n",
    "    \n",
    "    def __init__(self):\n",
    "        #再添加一个单位\n",
    "        self.unit = ['年','月','日','小时','分钟','秒']\n",
    "        self.prompt = '未开始计时！'\n",
    "        self.lasted = []\n",
    "        #self.start = 0#属性覆盖了方法\n",
    "        #self.stop = 0#属性覆盖了方法\n",
    "        self.begin = 0\n",
    "        self.end = 0\n",
    "\n",
    "    def __str__(self):\n",
    "        return self.prompt\n",
    "        \n",
    "    __repr__  = __str__\n",
    "    \n",
    "    def __add__(self,other):\n",
    "        prompt = '总共运行了'\n",
    "        result = []\n",
    "        for index in range(6):#这里是因为time_struct前6个字符是时刻\n",
    "            result.append(self.lasted[index] + other.lasted[index])\n",
    "            if result[index]:\n",
    "                prompt += (str(result[index])+self.unit[index])\n",
    "        return prompt\n",
    "\n",
    "    #开始计时\n",
    "    def start(self):\n",
    "        self.begin = t.localtime()\n",
    "        self.prompt = '提示：请先调用stop()停止计时！'\n",
    "        print('开始计时...')\n",
    "        \n",
    "    #停止计时\n",
    "    def stop(self):\n",
    "        if not self.begin:\n",
    "            print('提示：请先调用start()进行计时！')\n",
    "        else:\n",
    "            self.end = t.localtime()\n",
    "            self._calc()\n",
    "            print('停止计时...')    \n",
    "    \n",
    "    #内部方法，计算运行时间\n",
    "    def _calc(self):\n",
    "        self.lasted = []\n",
    "        self.prompt = '总共运行了'\n",
    "        for index in range(6):#这里是因为time_struct前6个字符是时刻\n",
    "            self.lasted.append(self.end[index] - self.begin[index])     \n",
    "            if self.lasted[index]:\n",
    "                prompt += (str(self.lasted[index])+self.unit[index])\n",
    "        # 为下一轮计时初始化变量\n",
    "        self.begin = 0\n",
    "        self.end = 0\n",
    "        print(self.prompt)\n",
    "        "
   ]
  },
  {
   "cell_type": "code",
   "execution_count": 67,
   "metadata": {},
   "outputs": [
    {
     "data": {
      "text/plain": [
       "未开始计时！"
      ]
     },
     "execution_count": 67,
     "metadata": {},
     "output_type": "execute_result"
    }
   ],
   "source": [
    "t1 = MyTimer()\n",
    "t1"
   ]
  },
  {
   "cell_type": "code",
   "execution_count": 68,
   "metadata": {},
   "outputs": [
    {
     "name": "stdout",
     "output_type": "stream",
     "text": [
      "提示：请先调用start()进行计时！\n"
     ]
    }
   ],
   "source": [
    "t1.stop()"
   ]
  },
  {
   "cell_type": "code",
   "execution_count": 69,
   "metadata": {},
   "outputs": [
    {
     "name": "stdout",
     "output_type": "stream",
     "text": [
      "开始计时...\n"
     ]
    }
   ],
   "source": [
    "t1.start()#未修改前这里报错是因为属性覆盖了方法\n"
   ]
  },
  {
   "cell_type": "code",
   "execution_count": 70,
   "metadata": {},
   "outputs": [
    {
     "ename": "UnboundLocalError",
     "evalue": "local variable 'prompt' referenced before assignment",
     "output_type": "error",
     "traceback": [
      "\u001b[0;31m---------------------------------------------------------------------------\u001b[0m",
      "\u001b[0;31mUnboundLocalError\u001b[0m                         Traceback (most recent call last)",
      "\u001b[0;32m<ipython-input-70-bc848622538c>\u001b[0m in \u001b[0;36m<module>\u001b[0;34m\u001b[0m\n\u001b[0;32m----> 1\u001b[0;31m \u001b[0mt1\u001b[0m\u001b[0;34m.\u001b[0m\u001b[0mstop\u001b[0m\u001b[0;34m(\u001b[0m\u001b[0;34m)\u001b[0m\u001b[0;34m\u001b[0m\u001b[0;34m\u001b[0m\u001b[0m\n\u001b[0m\u001b[1;32m      2\u001b[0m \u001b[0mt1\u001b[0m\u001b[0;34m\u001b[0m\u001b[0;34m\u001b[0m\u001b[0m\n",
      "\u001b[0;32m<ipython-input-66-a1faf4b8bd25>\u001b[0m in \u001b[0;36mstop\u001b[0;34m(self)\u001b[0m\n\u001b[1;32m     40\u001b[0m         \u001b[0;32melse\u001b[0m\u001b[0;34m:\u001b[0m\u001b[0;34m\u001b[0m\u001b[0;34m\u001b[0m\u001b[0m\n\u001b[1;32m     41\u001b[0m             \u001b[0mself\u001b[0m\u001b[0;34m.\u001b[0m\u001b[0mend\u001b[0m \u001b[0;34m=\u001b[0m \u001b[0mt\u001b[0m\u001b[0;34m.\u001b[0m\u001b[0mlocaltime\u001b[0m\u001b[0;34m(\u001b[0m\u001b[0;34m)\u001b[0m\u001b[0;34m\u001b[0m\u001b[0;34m\u001b[0m\u001b[0m\n\u001b[0;32m---> 42\u001b[0;31m             \u001b[0mself\u001b[0m\u001b[0;34m.\u001b[0m\u001b[0m_calc\u001b[0m\u001b[0;34m(\u001b[0m\u001b[0;34m)\u001b[0m\u001b[0;34m\u001b[0m\u001b[0;34m\u001b[0m\u001b[0m\n\u001b[0m\u001b[1;32m     43\u001b[0m             \u001b[0mprint\u001b[0m\u001b[0;34m(\u001b[0m\u001b[0;34m'停止计时...'\u001b[0m\u001b[0;34m)\u001b[0m\u001b[0;34m\u001b[0m\u001b[0;34m\u001b[0m\u001b[0m\n\u001b[1;32m     44\u001b[0m \u001b[0;34m\u001b[0m\u001b[0m\n",
      "\u001b[0;32m<ipython-input-66-a1faf4b8bd25>\u001b[0m in \u001b[0;36m_calc\u001b[0;34m(self)\u001b[0m\n\u001b[1;32m     50\u001b[0m             \u001b[0mself\u001b[0m\u001b[0;34m.\u001b[0m\u001b[0mlasted\u001b[0m\u001b[0;34m.\u001b[0m\u001b[0mappend\u001b[0m\u001b[0;34m(\u001b[0m\u001b[0mself\u001b[0m\u001b[0;34m.\u001b[0m\u001b[0mend\u001b[0m\u001b[0;34m[\u001b[0m\u001b[0mindex\u001b[0m\u001b[0;34m]\u001b[0m \u001b[0;34m-\u001b[0m \u001b[0mself\u001b[0m\u001b[0;34m.\u001b[0m\u001b[0mbegin\u001b[0m\u001b[0;34m[\u001b[0m\u001b[0mindex\u001b[0m\u001b[0;34m]\u001b[0m\u001b[0;34m)\u001b[0m\u001b[0;34m\u001b[0m\u001b[0;34m\u001b[0m\u001b[0m\n\u001b[1;32m     51\u001b[0m             \u001b[0;32mif\u001b[0m \u001b[0mself\u001b[0m\u001b[0;34m.\u001b[0m\u001b[0mlasted\u001b[0m\u001b[0;34m[\u001b[0m\u001b[0mindex\u001b[0m\u001b[0;34m]\u001b[0m\u001b[0;34m:\u001b[0m\u001b[0;34m\u001b[0m\u001b[0;34m\u001b[0m\u001b[0m\n\u001b[0;32m---> 52\u001b[0;31m                 \u001b[0mprompt\u001b[0m \u001b[0;34m+=\u001b[0m \u001b[0;34m(\u001b[0m\u001b[0mstr\u001b[0m\u001b[0;34m(\u001b[0m\u001b[0mself\u001b[0m\u001b[0;34m.\u001b[0m\u001b[0mlasted\u001b[0m\u001b[0;34m[\u001b[0m\u001b[0mindex\u001b[0m\u001b[0;34m]\u001b[0m\u001b[0;34m)\u001b[0m\u001b[0;34m+\u001b[0m\u001b[0mself\u001b[0m\u001b[0;34m.\u001b[0m\u001b[0munit\u001b[0m\u001b[0;34m[\u001b[0m\u001b[0mindex\u001b[0m\u001b[0;34m]\u001b[0m\u001b[0;34m)\u001b[0m\u001b[0;34m\u001b[0m\u001b[0;34m\u001b[0m\u001b[0m\n\u001b[0m\u001b[1;32m     53\u001b[0m         \u001b[0;31m# 为下一轮计时初始化变量\u001b[0m\u001b[0;34m\u001b[0m\u001b[0;34m\u001b[0m\u001b[0;34m\u001b[0m\u001b[0m\n\u001b[1;32m     54\u001b[0m         \u001b[0mself\u001b[0m\u001b[0;34m.\u001b[0m\u001b[0mbegin\u001b[0m \u001b[0;34m=\u001b[0m \u001b[0;36m0\u001b[0m\u001b[0;34m\u001b[0m\u001b[0;34m\u001b[0m\u001b[0m\n",
      "\u001b[0;31mUnboundLocalError\u001b[0m: local variable 'prompt' referenced before assignment"
     ]
    }
   ],
   "source": [
    "t1.stop()\n",
    "t1"
   ]
  },
  {
   "cell_type": "code",
   "execution_count": 65,
   "metadata": {},
   "outputs": [],
   "source": [
    "t1 = MyTimer()\n",
    "t2 = MyTimer()"
   ]
  },
  {
   "cell_type": "code",
   "execution_count": 58,
   "metadata": {},
   "outputs": [
    {
     "name": "stdout",
     "output_type": "stream",
     "text": [
      "开始计时...\n",
      "开始计时...\n"
     ]
    }
   ],
   "source": [
    "t1.start()\n",
    "t2.start()"
   ]
  },
  {
   "cell_type": "code",
   "execution_count": 59,
   "metadata": {},
   "outputs": [
    {
     "ename": "UnboundLocalError",
     "evalue": "local variable 'prompt' referenced before assignment",
     "output_type": "error",
     "traceback": [
      "\u001b[0;31m---------------------------------------------------------------------------\u001b[0m",
      "\u001b[0;31mUnboundLocalError\u001b[0m                         Traceback (most recent call last)",
      "\u001b[0;32m<ipython-input-59-8bdea294070f>\u001b[0m in \u001b[0;36m<module>\u001b[0;34m\u001b[0m\n\u001b[0;32m----> 1\u001b[0;31m \u001b[0mt1\u001b[0m\u001b[0;34m.\u001b[0m\u001b[0mstop\u001b[0m\u001b[0;34m(\u001b[0m\u001b[0;34m)\u001b[0m\u001b[0;34m\u001b[0m\u001b[0;34m\u001b[0m\u001b[0m\n\u001b[0m",
      "\u001b[0;32m<ipython-input-45-a1faf4b8bd25>\u001b[0m in \u001b[0;36mstop\u001b[0;34m(self)\u001b[0m\n\u001b[1;32m     40\u001b[0m         \u001b[0;32melse\u001b[0m\u001b[0;34m:\u001b[0m\u001b[0;34m\u001b[0m\u001b[0;34m\u001b[0m\u001b[0m\n\u001b[1;32m     41\u001b[0m             \u001b[0mself\u001b[0m\u001b[0;34m.\u001b[0m\u001b[0mend\u001b[0m \u001b[0;34m=\u001b[0m \u001b[0mt\u001b[0m\u001b[0;34m.\u001b[0m\u001b[0mlocaltime\u001b[0m\u001b[0;34m(\u001b[0m\u001b[0;34m)\u001b[0m\u001b[0;34m\u001b[0m\u001b[0;34m\u001b[0m\u001b[0m\n\u001b[0;32m---> 42\u001b[0;31m             \u001b[0mself\u001b[0m\u001b[0;34m.\u001b[0m\u001b[0m_calc\u001b[0m\u001b[0;34m(\u001b[0m\u001b[0;34m)\u001b[0m\u001b[0;34m\u001b[0m\u001b[0;34m\u001b[0m\u001b[0m\n\u001b[0m\u001b[1;32m     43\u001b[0m             \u001b[0mprint\u001b[0m\u001b[0;34m(\u001b[0m\u001b[0;34m'停止计时...'\u001b[0m\u001b[0;34m)\u001b[0m\u001b[0;34m\u001b[0m\u001b[0;34m\u001b[0m\u001b[0m\n\u001b[1;32m     44\u001b[0m \u001b[0;34m\u001b[0m\u001b[0m\n",
      "\u001b[0;32m<ipython-input-45-a1faf4b8bd25>\u001b[0m in \u001b[0;36m_calc\u001b[0;34m(self)\u001b[0m\n\u001b[1;32m     50\u001b[0m             \u001b[0mself\u001b[0m\u001b[0;34m.\u001b[0m\u001b[0mlasted\u001b[0m\u001b[0;34m.\u001b[0m\u001b[0mappend\u001b[0m\u001b[0;34m(\u001b[0m\u001b[0mself\u001b[0m\u001b[0;34m.\u001b[0m\u001b[0mend\u001b[0m\u001b[0;34m[\u001b[0m\u001b[0mindex\u001b[0m\u001b[0;34m]\u001b[0m \u001b[0;34m-\u001b[0m \u001b[0mself\u001b[0m\u001b[0;34m.\u001b[0m\u001b[0mbegin\u001b[0m\u001b[0;34m[\u001b[0m\u001b[0mindex\u001b[0m\u001b[0;34m]\u001b[0m\u001b[0;34m)\u001b[0m\u001b[0;34m\u001b[0m\u001b[0;34m\u001b[0m\u001b[0m\n\u001b[1;32m     51\u001b[0m             \u001b[0;32mif\u001b[0m \u001b[0mself\u001b[0m\u001b[0;34m.\u001b[0m\u001b[0mlasted\u001b[0m\u001b[0;34m[\u001b[0m\u001b[0mindex\u001b[0m\u001b[0;34m]\u001b[0m\u001b[0;34m:\u001b[0m\u001b[0;34m\u001b[0m\u001b[0;34m\u001b[0m\u001b[0m\n\u001b[0;32m---> 52\u001b[0;31m                 \u001b[0mprompt\u001b[0m \u001b[0;34m+=\u001b[0m \u001b[0;34m(\u001b[0m\u001b[0mstr\u001b[0m\u001b[0;34m(\u001b[0m\u001b[0mself\u001b[0m\u001b[0;34m.\u001b[0m\u001b[0mlasted\u001b[0m\u001b[0;34m[\u001b[0m\u001b[0mindex\u001b[0m\u001b[0;34m]\u001b[0m\u001b[0;34m)\u001b[0m\u001b[0;34m+\u001b[0m\u001b[0mself\u001b[0m\u001b[0;34m.\u001b[0m\u001b[0munit\u001b[0m\u001b[0;34m[\u001b[0m\u001b[0mindex\u001b[0m\u001b[0;34m]\u001b[0m\u001b[0;34m)\u001b[0m\u001b[0;34m\u001b[0m\u001b[0;34m\u001b[0m\u001b[0m\n\u001b[0m\u001b[1;32m     53\u001b[0m         \u001b[0;31m# 为下一轮计时初始化变量\u001b[0m\u001b[0;34m\u001b[0m\u001b[0;34m\u001b[0m\u001b[0;34m\u001b[0m\u001b[0m\n\u001b[1;32m     54\u001b[0m         \u001b[0mself\u001b[0m\u001b[0;34m.\u001b[0m\u001b[0mbegin\u001b[0m \u001b[0;34m=\u001b[0m \u001b[0;36m0\u001b[0m\u001b[0;34m\u001b[0m\u001b[0;34m\u001b[0m\u001b[0m\n",
      "\u001b[0;31mUnboundLocalError\u001b[0m: local variable 'prompt' referenced before assignment"
     ]
    }
   ],
   "source": [
    "t1.stop()"
   ]
  },
  {
   "cell_type": "code",
   "execution_count": null,
   "metadata": {},
   "outputs": [],
   "source": [
    "t2.stop()"
   ]
  },
  {
   "cell_type": "code",
   "execution_count": null,
   "metadata": {},
   "outputs": [],
   "source": [
    "t1 + t2"
   ]
  },
  {
   "cell_type": "code",
   "execution_count": null,
   "metadata": {},
   "outputs": [],
   "source": [
    "#进阶定制：\n",
    "#如果开始时间是2022年2月22日16：30：30，停止时间是2025年1月23日15：30：30，\n",
    "#则输出结果为3年-1月1天-1小时，即输出有负数\n",
    "#该怎样修改？\n",
    "#最小单位为秒，精度远远不够，该怎样修改"
   ]
  },
  {
   "cell_type": "markdown",
   "metadata": {},
   "source": [
    "045：魔法方法--属性访问\n",
    "__getattr__(self,name)定义当用户试图访问提分不存在的属性时的行为\n",
    "__getattribute__(self,name)定义当该类的属性被访问时的行为\n",
    "__setattr__(self,name)定义当一个属性被设置时的行为\n",
    "__delattr__(self,name)定义当一个属性被删除时的行为\n",
    "\n"
   ]
  },
  {
   "cell_type": "code",
   "execution_count": 73,
   "metadata": {},
   "outputs": [
    {
     "name": "stdout",
     "output_type": "stream",
     "text": [
      "X- men\n",
      "--------------\n",
      "X- men\n",
      "--------------\n",
      "没有这个属性！\n"
     ]
    }
   ],
   "source": [
    "class C:\n",
    "    def __init__(self):\n",
    "        self.x = 'X- men'\n",
    "        \n",
    "c = C()\n",
    "print(c.x)\n",
    "print('--------------')\n",
    "print(getattr(c,'x','没有这个属性！'))\n",
    "print('--------------')\n",
    "print(getattr(c,'y','没有这个属性！'))"
   ]
  },
  {
   "cell_type": "code",
   "execution_count": 2,
   "metadata": {},
   "outputs": [
    {
     "name": "stdout",
     "output_type": "stream",
     "text": [
      "1\n",
      "--------------\n",
      "1\n",
      "--------------\n",
      "--------------\n"
     ]
    },
    {
     "ename": "AttributeError",
     "evalue": "'C' object has no attribute 'size'",
     "output_type": "error",
     "traceback": [
      "\u001b[0;31m---------------------------------------------------------------------------\u001b[0m",
      "\u001b[0;31mAttributeError\u001b[0m                            Traceback (most recent call last)",
      "\u001b[0;32m<ipython-input-2-24ae63a0573d>\u001b[0m in \u001b[0;36m<module>\u001b[0;34m\u001b[0m\n\u001b[1;32m     18\u001b[0m \u001b[0;32mdel\u001b[0m \u001b[0mc\u001b[0m\u001b[0;34m.\u001b[0m\u001b[0mx\u001b[0m\u001b[0;34m\u001b[0m\u001b[0;34m\u001b[0m\u001b[0m\n\u001b[1;32m     19\u001b[0m \u001b[0mprint\u001b[0m\u001b[0;34m(\u001b[0m\u001b[0;34m'--------------'\u001b[0m\u001b[0;34m)\u001b[0m\u001b[0;34m\u001b[0m\u001b[0;34m\u001b[0m\u001b[0m\n\u001b[0;32m---> 20\u001b[0;31m \u001b[0mprint\u001b[0m\u001b[0;34m(\u001b[0m\u001b[0mc\u001b[0m\u001b[0;34m.\u001b[0m\u001b[0msize\u001b[0m\u001b[0;34m)\u001b[0m\u001b[0;34m\u001b[0m\u001b[0;34m\u001b[0m\u001b[0m\n\u001b[0m\u001b[1;32m     21\u001b[0m \u001b[0mprint\u001b[0m\u001b[0;34m(\u001b[0m\u001b[0;34m'--------------'\u001b[0m\u001b[0;34m)\u001b[0m\u001b[0;34m\u001b[0m\u001b[0;34m\u001b[0m\u001b[0m\n\u001b[1;32m     22\u001b[0m \u001b[0;34m\u001b[0m\u001b[0m\n",
      "\u001b[0;31mAttributeError\u001b[0m: 'C' object has no attribute 'size'"
     ]
    }
   ],
   "source": [
    "class C:\n",
    "    def __init__(self,size = 10):\n",
    "        self.size = size\n",
    "    def getsize(self):\n",
    "        return self.size\n",
    "    def setsize(self,value):\n",
    "        self.size = value\n",
    "    def delsize(self):\n",
    "        del self.size\n",
    "    x = property(getsize,setsize,delsize)\n",
    "    \n",
    "c = C()\n",
    "c.x = 1\n",
    "print(c.x)\n",
    "print('--------------')\n",
    "print(c.size)\n",
    "print('--------------')\n",
    "del c.x\n",
    "print('--------------')\n",
    "print(c.size)\n",
    "print('--------------')\n",
    "        \n"
   ]
  },
  {
   "cell_type": "code",
   "execution_count": 3,
   "metadata": {},
   "outputs": [
    {
     "name": "stdout",
     "output_type": "stream",
     "text": [
      "getattribute\n",
      "getattr\n"
     ]
    }
   ],
   "source": [
    "class C:\n",
    "    def __getattribute__(self,name):\n",
    "        print('getattribute')\n",
    "        return super().__getattribute__(name)\n",
    "    def __getattr__(self,name):\n",
    "        print('getattr')\n",
    "    def __setattr__(self,name,value):\n",
    "        print('setattr')\n",
    "        return super().__setattr__(name,value)\n",
    "    def __delattr__(self,name):\n",
    "        print('delattr')\n",
    "        super().__delattr__(name)\n",
    "    \n",
    "c = C()\n",
    "c.x"
   ]
  },
  {
   "cell_type": "code",
   "execution_count": 4,
   "metadata": {},
   "outputs": [
    {
     "name": "stdout",
     "output_type": "stream",
     "text": [
      "setattr\n",
      "getattribute\n"
     ]
    },
    {
     "data": {
      "text/plain": [
       "1"
      ]
     },
     "execution_count": 4,
     "metadata": {},
     "output_type": "execute_result"
    }
   ],
   "source": [
    "c.x = 1\n",
    "c.x"
   ]
  },
  {
   "cell_type": "code",
   "execution_count": 5,
   "metadata": {},
   "outputs": [
    {
     "name": "stdout",
     "output_type": "stream",
     "text": [
      "delattr\n"
     ]
    }
   ],
   "source": [
    "del c.x"
   ]
  },
  {
   "cell_type": "code",
   "execution_count": null,
   "metadata": {},
   "outputs": [],
   "source": [
    "#练习\n",
    "#写一个矩形类，默认有宽和高两个属性\n",
    "#如果为一个叫square的属性赋值，\n",
    "#那么说明这个一个正方形，值是正方形的边长，此时宽和高都应该等于边长"
   ]
  },
  {
   "cell_type": "code",
   "execution_count": 7,
   "metadata": {},
   "outputs": [],
   "source": [
    "class Rectangle:\n",
    "    def __init__(self,width = 0,height = 0):\n",
    "        self.width = width\n",
    "        self.height = height\n",
    "        \n",
    "    def __setattr__(self,name,value):\n",
    "        if name == 'square':\n",
    "            self.width = value\n",
    "            self.height = value\n",
    "        else:\n",
    "            self.name = value#会报错\n",
    "            \n",
    "    def getPeri(self):\n",
    "        return (self.width + self.height)*2\n",
    "    def getArea(self):\n",
    "        return self.width * self.height\n",
    "    \n",
    "rect = Rectangle(3,4)\n",
    "#死循环报错\n",
    "#过程是实例化首先初始化__init__，其中会对self.width和self.height赋值，这就会触发__setattr__??????\n",
    "#两个name是width和height都不是square，所以进入self.name = value，但这又是一个赋值操作，会触发__setattr__\n",
    "#从而进入死循环"
   ]
  },
  {
   "cell_type": "code",
   "execution_count": 2,
   "metadata": {},
   "outputs": [
    {
     "data": {
      "text/plain": [
       "12"
      ]
     },
     "execution_count": 2,
     "metadata": {},
     "output_type": "execute_result"
    }
   ],
   "source": [
    "class Rectangle:\n",
    "    def __init__(self,width = 0,height = 0):\n",
    "        self.width = width\n",
    "        self.height = height\n",
    "        \n",
    "    def __setattr__(self,name,value):\n",
    "        if name == 'square':\n",
    "            self.width = value\n",
    "            self.height = value\n",
    "        else:\n",
    "            #最好的修改\n",
    "            super().__setattr__(name,value)\n",
    "            #也可以修改为：\n",
    "            #self.__dict__[name] = value\n",
    "            \n",
    "    def getPeri(self):\n",
    "        return (self.width + self.height)*2\n",
    "    def getArea(self):\n",
    "        return self.width * self.height\n",
    "    \n",
    "rect = Rectangle(3,4)\n",
    "rect.getArea()\n"
   ]
  },
  {
   "cell_type": "code",
   "execution_count": 3,
   "metadata": {},
   "outputs": [],
   "source": [
    "rect.square = 10\n"
   ]
  },
  {
   "cell_type": "code",
   "execution_count": 4,
   "metadata": {},
   "outputs": [
    {
     "data": {
      "text/plain": [
       "10"
      ]
     },
     "execution_count": 4,
     "metadata": {},
     "output_type": "execute_result"
    }
   ],
   "source": [
    "rect.width\n"
   ]
  },
  {
   "cell_type": "code",
   "execution_count": 5,
   "metadata": {},
   "outputs": [
    {
     "data": {
      "text/plain": [
       "10"
      ]
     },
     "execution_count": 5,
     "metadata": {},
     "output_type": "execute_result"
    }
   ],
   "source": [
    "rect.height\n"
   ]
  },
  {
   "cell_type": "code",
   "execution_count": 6,
   "metadata": {},
   "outputs": [
    {
     "data": {
      "text/plain": [
       "100"
      ]
     },
     "execution_count": 6,
     "metadata": {},
     "output_type": "execute_result"
    }
   ],
   "source": [
    "rect.getArea()\n"
   ]
  },
  {
   "cell_type": "code",
   "execution_count": 7,
   "metadata": {},
   "outputs": [
    {
     "data": {
      "text/plain": [
       "{'width': 10, 'height': 10}"
      ]
     },
     "execution_count": 7,
     "metadata": {},
     "output_type": "execute_result"
    }
   ],
   "source": [
    "rect.__dict__"
   ]
  },
  {
   "cell_type": "markdown",
   "metadata": {},
   "source": [
    "046：魔法方法：描述符property的原理\n",
    "描述符就是将某种特殊类型的类的实例指派给另一个类的属性\n",
    "__get__(self,instance,owner)用于访问属性，返回属性的值\n",
    "__set__(self,instance,value)在属性分配操作中调用，不返回任何内容\n",
    "__delete__(self,instance)控制删除操作，不返回任何内容"
   ]
  },
  {
   "cell_type": "code",
   "execution_count": 9,
   "metadata": {},
   "outputs": [],
   "source": [
    "class MyDecriptor:\n",
    "    def __get__(self,instance,owner):\n",
    "        print('getting...',self,instance,owner)\n",
    "    def __set__(self,instance,value):\n",
    "        print('setting...',self,instance,value)\n",
    "    def __delete__(self,instance):\n",
    "        print('deleting...',self,instance)\n",
    "        \n",
    "class Test:\n",
    "    x = MyDecriptor()\n",
    "    "
   ]
  },
  {
   "cell_type": "code",
   "execution_count": 10,
   "metadata": {},
   "outputs": [
    {
     "name": "stdout",
     "output_type": "stream",
     "text": [
      "getting... <__main__.MyDecriptor object at 0x102a6b390> <__main__.Test object at 0x102a6b090> <class '__main__.Test'>\n"
     ]
    }
   ],
   "source": [
    "test  =Test()\n",
    "test.x"
   ]
  },
  {
   "cell_type": "markdown",
   "metadata": {},
   "source": [
    "getting... \n",
    "<__main__.MyDecriptor object at 0x102a6b390> 这是本身的实例\n",
    "<__main__.Test object at 0x102a6b090> 这是拥有者的这个类\n",
    "<class '__main__.Test'>"
   ]
  },
  {
   "cell_type": "code",
   "execution_count": null,
   "metadata": {},
   "outputs": [],
   "source": [
    "test.x = 'X-man'"
   ]
  },
  {
   "cell_type": "code",
   "execution_count": 11,
   "metadata": {},
   "outputs": [
    {
     "name": "stdout",
     "output_type": "stream",
     "text": [
      "deleting... <__main__.MyDecriptor object at 0x102a6b390> <__main__.Test object at 0x102a6b090>\n"
     ]
    }
   ],
   "source": [
    "del test.x"
   ]
  },
  {
   "cell_type": "code",
   "execution_count": 5,
   "metadata": {},
   "outputs": [],
   "source": [
    "class MyProperty:\n",
    "    def __init__(self, fget = None, fset = None, fdel = None):\n",
    "        self.fget = fget\n",
    "        self.fset = fset\n",
    "        self.fdel = fdel\n",
    "        \n",
    "    def __get__(self, instance, owner):\n",
    "        return self.fget(instance)\n",
    "    #一开始init传入的是函数，不需要加括号；接着返回的是调用函数后的结果，所以加括号\n",
    "    #这里括号里的instance用于传入属性名，才能调用这个函数\n",
    "    \n",
    "    def __set__(self, instance, value):\n",
    "        self.fset(instance,value)\n",
    "\n",
    "    def __delete__(self, instance):\n",
    "        self.fdel(instance)\n",
    "    \n",
    "class C:\n",
    "    def __init__(self):\n",
    "        self._x = None\n",
    "        \n",
    "    def getX(self):\n",
    "        return self._x\n",
    "    \n",
    "    def setX(self,value):\n",
    "        self._x = value\n",
    "        \n",
    "    def delX(self):\n",
    "        del self._x\n",
    "        \n",
    "    x = MyProperty(getX,setX,delX)\n",
    "\n",
    "#弹幕讲解：这里实际上触发了一系列反应\n",
    "#以getX为例，首先将类对象C中的getX()函数赋值给了MyProperty中的fget\n",
    "#随即触发了类对象C中的getX()\n",
    "#当实例对象c中的x（c.x）触发了MyProperty中的__get__,\n",
    "#而__get__()中的instance就是getX（）中的self"
   ]
  },
  {
   "cell_type": "code",
   "execution_count": 6,
   "metadata": {},
   "outputs": [
    {
     "data": {
      "text/plain": [
       "'X-man'"
      ]
     },
     "execution_count": 6,
     "metadata": {},
     "output_type": "execute_result"
    }
   ],
   "source": [
    "c = C()\n",
    "c.x = 'X-man'\n",
    "c.x"
   ]
  },
  {
   "cell_type": "code",
   "execution_count": 7,
   "metadata": {},
   "outputs": [
    {
     "data": {
      "text/plain": [
       "'X-man'"
      ]
     },
     "execution_count": 7,
     "metadata": {},
     "output_type": "execute_result"
    }
   ],
   "source": [
    "c._x"
   ]
  },
  {
   "cell_type": "code",
   "execution_count": 8,
   "metadata": {},
   "outputs": [],
   "source": [
    "del c.x"
   ]
  },
  {
   "cell_type": "markdown",
   "metadata": {},
   "source": [
    "#弹幕提示，这里涉及了：\n",
    "1. 实例属性的访问顺序\n",
    "2. 实例属性的赋值顺序\n",
    "3. 数据描述符data descriptor的概念\n",
    "4. 非数据描述符 non-data descriptor的概念"
   ]
  },
  {
   "cell_type": "code",
   "execution_count": 9,
   "metadata": {},
   "outputs": [],
   "source": [
    "#练习\n",
    "#先定义一个温度类，然后定义两个描述符类用于描述摄氏度和华氏度属性\n",
    "#要求两个属性会自动进行转换，也就是说你可以给摄氏度这个属性赋值，然后打印的华氏度属性是自动转换后的结果"
   ]
  },
  {
   "cell_type": "code",
   "execution_count": 10,
   "metadata": {},
   "outputs": [],
   "source": [
    "class Celsius:\n",
    "    def __init__(self, value = 26.0):\n",
    "        self.value = float(value)\n",
    "        \n",
    "    def __get__(self, instance, owner):\n",
    "        return self.value\n",
    "        \n",
    "    def __set__(self, instance,value):\n",
    "        self.value = float(value)\n",
    "\n",
    "class Fahrenheit:\n",
    "    def __get__(self, instance, owner):\n",
    "        return instance.cel*1.8+32\n",
    "        \n",
    "    def __set__(self, instance,value):\n",
    "        instance.cel = (float(value)-32)/1.8\n",
    "        \n",
    "class Temperature:\n",
    "    cel = Celsius()\n",
    "    fah = Fahrenheit()"
   ]
  },
  {
   "cell_type": "code",
   "execution_count": 11,
   "metadata": {},
   "outputs": [
    {
     "data": {
      "text/plain": [
       "26.0"
      ]
     },
     "execution_count": 11,
     "metadata": {},
     "output_type": "execute_result"
    }
   ],
   "source": [
    "temp = Temperature()\n",
    "temp.cel"
   ]
  },
  {
   "cell_type": "code",
   "execution_count": 12,
   "metadata": {},
   "outputs": [
    {
     "ename": "TypeError",
     "evalue": "Temperature() takes no arguments",
     "output_type": "error",
     "traceback": [
      "\u001b[0;31m---------------------------------------------------------------------------\u001b[0m",
      "\u001b[0;31mTypeError\u001b[0m                                 Traceback (most recent call last)",
      "\u001b[0;32m<ipython-input-12-f13100737b76>\u001b[0m in \u001b[0;36m<module>\u001b[0;34m\u001b[0m\n\u001b[0;32m----> 1\u001b[0;31m \u001b[0mtemp\u001b[0m \u001b[0;34m=\u001b[0m \u001b[0mTemperature\u001b[0m\u001b[0;34m(\u001b[0m\u001b[0;36m30\u001b[0m\u001b[0;34m)\u001b[0m\u001b[0;31m#报错，因为没有init\u001b[0m\u001b[0;34m\u001b[0m\u001b[0;34m\u001b[0m\u001b[0m\n\u001b[0m",
      "\u001b[0;31mTypeError\u001b[0m: Temperature() takes no arguments"
     ]
    }
   ],
   "source": [
    "temp = Temperature(30)#报错，因为没有init"
   ]
  },
  {
   "cell_type": "code",
   "execution_count": 13,
   "metadata": {},
   "outputs": [
    {
     "data": {
      "text/plain": [
       "86.0"
      ]
     },
     "execution_count": 13,
     "metadata": {},
     "output_type": "execute_result"
    }
   ],
   "source": [
    "temp.cel = 30\n",
    "temp.fah"
   ]
  },
  {
   "cell_type": "code",
   "execution_count": 14,
   "metadata": {},
   "outputs": [
    {
     "data": {
      "text/plain": [
       "37.77777777777778"
      ]
     },
     "execution_count": 14,
     "metadata": {},
     "output_type": "execute_result"
    }
   ],
   "source": [
    "temp.fah = 100\n",
    "temp.cel"
   ]
  },
  {
   "cell_type": "markdown",
   "metadata": {},
   "source": [
    "047:魔法方法：定制序列\n",
    "什么是协议？\n",
    "协议（protocols）类似接口，规定了哪些方法必须要定义\n",
    "但在Python中不正是\n",
    "\n",
    "容器类型的协议\n",
    "· 如果希望定制的容器类型不可变，需要定义__len__()和__getitem__()\n",
    "· 如果希望定制的容器类型可变，除了需要定义__len__()和__getitem__()，还需要定义__setitem__()和__delitem__()"
   ]
  },
  {
   "cell_type": "code",
   "execution_count": null,
   "metadata": {},
   "outputs": [],
   "source": [
    "#练习\n",
    "#编写一个不可改变的 自定义列表，要求记录列表中的每个元素被访问的次数"
   ]
  },
  {
   "cell_type": "code",
   "execution_count": 18,
   "metadata": {},
   "outputs": [
    {
     "data": {
      "text/plain": [
       "3"
      ]
     },
     "execution_count": 18,
     "metadata": {},
     "output_type": "execute_result"
    }
   ],
   "source": [
    "class CountList:\n",
    "    def __init__(self, *args):#参数数量可变\n",
    "        self.values = [x for x in args]\n",
    "        self.count = {}.fromkeys(range(len(self.values)),0)#创建一个字典来存储访问次数\n",
    "        \n",
    "    def __len__(self):\n",
    "        return len(self.values)\n",
    "    \n",
    "    def __getitem__(self, key):\n",
    "        self.count[key] += 1#每被访问一次＋1\n",
    "        return self.values[key]\n",
    "    \n",
    "c1 = CountList(1,3,5,7,9)\n",
    "c2 = CountList(2,4,6,8,10)\n",
    "#弹幕提示：这里不能用c1.values[1],因为c1[1]是从getitem调用从而count+1，后者直接找values从而不计数\n",
    "c1[1]"
   ]
  },
  {
   "cell_type": "code",
   "execution_count": 19,
   "metadata": {},
   "outputs": [
    {
     "data": {
      "text/plain": [
       "4"
      ]
     },
     "execution_count": 19,
     "metadata": {},
     "output_type": "execute_result"
    }
   ],
   "source": [
    "c2[1]"
   ]
  },
  {
   "cell_type": "code",
   "execution_count": 20,
   "metadata": {},
   "outputs": [
    {
     "data": {
      "text/plain": [
       "7"
      ]
     },
     "execution_count": 20,
     "metadata": {},
     "output_type": "execute_result"
    }
   ],
   "source": [
    "c1[1]+c2[1]"
   ]
  },
  {
   "cell_type": "code",
   "execution_count": 21,
   "metadata": {},
   "outputs": [
    {
     "data": {
      "text/plain": [
       "{0: 0, 1: 2, 2: 0, 3: 0, 4: 0}"
      ]
     },
     "execution_count": 21,
     "metadata": {},
     "output_type": "execute_result"
    }
   ],
   "source": [
    "c1.count"
   ]
  },
  {
   "cell_type": "markdown",
   "metadata": {},
   "source": [
    "048:魔法方法：迭代器\n",
    "iter()\n",
    "next()\n",
    "迭代器的魔法方法\n",
    "__iter__()\n",
    "__next__()"
   ]
  },
  {
   "cell_type": "code",
   "execution_count": 22,
   "metadata": {},
   "outputs": [
    {
     "name": "stdout",
     "output_type": "stream",
     "text": [
      "F\n",
      "i\n",
      "s\n",
      "h\n",
      "C\n"
     ]
    }
   ],
   "source": [
    "#通常使用for语句迭代\n",
    "for i in 'FishC':\n",
    "    print(i)\n",
    "#字符串是个容器，同时也是个迭代器"
   ]
  },
  {
   "cell_type": "code",
   "execution_count": 24,
   "metadata": {},
   "outputs": [
    {
     "name": "stdout",
     "output_type": "stream",
     "text": [
      "鱼C工作室 -> http://www.fishc.com\n",
      "鱼C论坛 -> http://bbs.fishc.com\n",
      "鱼C博客 -> http://blog.fishc.com\n",
      "支持小甲鱼 -> http://fishc.taobao.com\n"
     ]
    }
   ],
   "source": [
    "#字典和文件也是迭代操作\n",
    "links ={'鱼C工作室':'http://www.fishc.com',\\\n",
    "       '鱼C论坛':'http://bbs.fishc.com',\\\n",
    "       '鱼C博客':'http://blog.fishc.com',\\\n",
    "       '支持小甲鱼':'http://fishc.taobao.com'}\n",
    "\n",
    "for each in links:\n",
    "    print('%s -> %s'%(each,links[each]))"
   ]
  },
  {
   "cell_type": "code",
   "execution_count": 30,
   "metadata": {},
   "outputs": [
    {
     "data": {
      "text/plain": [
       "'C'"
      ]
     },
     "execution_count": 30,
     "metadata": {},
     "output_type": "execute_result"
    }
   ],
   "source": [
    "string = 'FishC'\n",
    "it =iter(string)\n",
    "next(it)\n",
    "next(it)\n",
    "next(it)\n",
    "next(it)\n",
    "next(it)"
   ]
  },
  {
   "cell_type": "code",
   "execution_count": 31,
   "metadata": {},
   "outputs": [
    {
     "ename": "StopIteration",
     "evalue": "",
     "output_type": "error",
     "traceback": [
      "\u001b[0;31m---------------------------------------------------------------------------\u001b[0m",
      "\u001b[0;31mStopIteration\u001b[0m                             Traceback (most recent call last)",
      "\u001b[0;32m<ipython-input-31-bc1ab118995a>\u001b[0m in \u001b[0;36m<module>\u001b[0;34m\u001b[0m\n\u001b[0;32m----> 1\u001b[0;31m \u001b[0mnext\u001b[0m\u001b[0;34m(\u001b[0m\u001b[0mit\u001b[0m\u001b[0;34m)\u001b[0m\u001b[0;34m\u001b[0m\u001b[0;34m\u001b[0m\u001b[0m\n\u001b[0m",
      "\u001b[0;31mStopIteration\u001b[0m: "
     ]
    }
   ],
   "source": [
    "next(it)"
   ]
  },
  {
   "cell_type": "code",
   "execution_count": 32,
   "metadata": {},
   "outputs": [
    {
     "name": "stdout",
     "output_type": "stream",
     "text": [
      "F\n",
      "i\n",
      "s\n",
      "h\n",
      "C\n"
     ]
    }
   ],
   "source": [
    "string = 'FishC'\n",
    "it =iter(string)\n",
    "while True:\n",
    "    try:\n",
    "        each = next(it)\n",
    "    except StopIteration:\n",
    "        break\n",
    "    print(each)"
   ]
  },
  {
   "cell_type": "code",
   "execution_count": 33,
   "metadata": {},
   "outputs": [
    {
     "name": "stdout",
     "output_type": "stream",
     "text": [
      "F\n",
      "i\n",
      "s\n",
      "h\n",
      "C\n"
     ]
    }
   ],
   "source": [
    "for each in string:\n",
    "    print(each)"
   ]
  },
  {
   "cell_type": "code",
   "execution_count": 38,
   "metadata": {},
   "outputs": [
    {
     "name": "stdout",
     "output_type": "stream",
     "text": [
      "1\n",
      "1\n",
      "2\n",
      "3\n",
      "5\n",
      "8\n",
      "13\n",
      "21\n",
      "34\n",
      "55\n",
      "89\n"
     ]
    }
   ],
   "source": [
    "class Fibs:\n",
    "    def __init__(self):\n",
    "        self.a = 0\n",
    "        self.b = 1\n",
    "    def __iter__(self):\n",
    "        return self\n",
    "    def __next__(self):\n",
    "        self.a, self.b = self.b,self.a +self.b\n",
    "        return self.a\n",
    "    \n",
    "fibs = Fibs()\n",
    "\n",
    "for each in fibs:\n",
    "    if each < 100:\n",
    "        print(each)\n",
    "    else:\n",
    "        break"
   ]
  },
  {
   "cell_type": "code",
   "execution_count": 39,
   "metadata": {},
   "outputs": [
    {
     "name": "stdout",
     "output_type": "stream",
     "text": [
      "1\n",
      "1\n",
      "2\n",
      "3\n",
      "5\n",
      "8\n"
     ]
    }
   ],
   "source": [
    "#加一个参数控制迭代范围\n",
    "class Fibs:\n",
    "    def __init__(self,n = 10):\n",
    "        self.a = 0\n",
    "        self.b = 1\n",
    "        self.n = n\n",
    "    def __iter__(self):\n",
    "        return self\n",
    "    def __next__(self):\n",
    "        self.a, self.b = self.b,self.a +self.b\n",
    "        if self.a > self.n:\n",
    "            raise StopIteration\n",
    "        return self.a\n",
    "    \n",
    "fibs = Fibs()\n",
    "\n",
    "for each in fibs:\n",
    "    print(each)"
   ]
  },
  {
   "cell_type": "code",
   "execution_count": 40,
   "metadata": {},
   "outputs": [
    {
     "name": "stdout",
     "output_type": "stream",
     "text": [
      "1\n",
      "1\n",
      "2\n",
      "3\n",
      "5\n",
      "8\n",
      "13\n",
      "21\n",
      "34\n",
      "55\n",
      "89\n"
     ]
    }
   ],
   "source": [
    "fibs = Fibs(100)\n",
    "\n",
    "for each in fibs:\n",
    "    print(each)"
   ]
  },
  {
   "cell_type": "markdown",
   "metadata": {},
   "source": [
    "049:生成器\n",
    "生成器仅需要普通的函数， yield\n",
    "协同程序：可以运行的独立函数调用，函数可以暂停或挂起并在需要时从程序离开的地方继续或重新开始\n",
    "#拓展阅读#《提高你的Python：解释yield和Generators》"
   ]
  },
  {
   "cell_type": "code",
   "execution_count": 2,
   "metadata": {},
   "outputs": [
    {
     "name": "stdout",
     "output_type": "stream",
     "text": [
      "Generator is activated!\n"
     ]
    },
    {
     "data": {
      "text/plain": [
       "1"
      ]
     },
     "execution_count": 2,
     "metadata": {},
     "output_type": "execute_result"
    }
   ],
   "source": [
    "def MyGen():\n",
    "    print('Generator is activated!')\n",
    "    yield 1\n",
    "    yield 2\n",
    "    \n",
    "myG = MyGen()\n",
    "next(myG)"
   ]
  },
  {
   "cell_type": "code",
   "execution_count": 3,
   "metadata": {},
   "outputs": [
    {
     "data": {
      "text/plain": [
       "2"
      ]
     },
     "execution_count": 3,
     "metadata": {},
     "output_type": "execute_result"
    }
   ],
   "source": [
    "next(myG)"
   ]
  },
  {
   "cell_type": "code",
   "execution_count": 4,
   "metadata": {},
   "outputs": [
    {
     "ename": "StopIteration",
     "evalue": "",
     "output_type": "error",
     "traceback": [
      "\u001b[0;31m---------------------------------------------------------------------------\u001b[0m",
      "\u001b[0;31mStopIteration\u001b[0m                             Traceback (most recent call last)",
      "\u001b[0;32m<ipython-input-4-e52b3adc9479>\u001b[0m in \u001b[0;36m<module>\u001b[0;34m\u001b[0m\n\u001b[0;32m----> 1\u001b[0;31m \u001b[0mnext\u001b[0m\u001b[0;34m(\u001b[0m\u001b[0mmyG\u001b[0m\u001b[0;34m)\u001b[0m\u001b[0;34m\u001b[0m\u001b[0;34m\u001b[0m\u001b[0m\n\u001b[0m",
      "\u001b[0;31mStopIteration\u001b[0m: "
     ]
    }
   ],
   "source": [
    "next(myG)"
   ]
  },
  {
   "cell_type": "code",
   "execution_count": 5,
   "metadata": {},
   "outputs": [
    {
     "name": "stdout",
     "output_type": "stream",
     "text": [
      "Generator is activated!\n",
      "1\n",
      "2\n"
     ]
    }
   ],
   "source": [
    "for i in MyGen():\n",
    "    print(i)"
   ]
  },
  {
   "cell_type": "code",
   "execution_count": 6,
   "metadata": {},
   "outputs": [
    {
     "name": "stdout",
     "output_type": "stream",
     "text": [
      "1 1 2 3 5 8 13 21 34 55 89 "
     ]
    }
   ],
   "source": [
    "def libs():\n",
    "    a = 0\n",
    "    b = 1\n",
    "    while True:\n",
    "        a, b = b ,a+b\n",
    "        yield a\n",
    "        \n",
    "for i in libs():\n",
    "    if i > 100:\n",
    "        break\n",
    "    print(i, end = ' ')#, end = ' '指的是不换行"
   ]
  },
  {
   "cell_type": "code",
   "execution_count": 7,
   "metadata": {},
   "outputs": [
    {
     "data": {
      "text/plain": [
       "[2,\n",
       " 4,\n",
       " 8,\n",
       " 10,\n",
       " 14,\n",
       " 16,\n",
       " 20,\n",
       " 22,\n",
       " 26,\n",
       " 28,\n",
       " 32,\n",
       " 34,\n",
       " 38,\n",
       " 40,\n",
       " 44,\n",
       " 46,\n",
       " 50,\n",
       " 52,\n",
       " 56,\n",
       " 58,\n",
       " 62,\n",
       " 64,\n",
       " 68,\n",
       " 70,\n",
       " 74,\n",
       " 76,\n",
       " 80,\n",
       " 82,\n",
       " 86,\n",
       " 88,\n",
       " 92,\n",
       " 94,\n",
       " 98]"
      ]
     },
     "execution_count": 7,
     "metadata": {},
     "output_type": "execute_result"
    }
   ],
   "source": [
    "a = [i for i in range(100) if not (i%2) and i%3]\n",
    "a"
   ]
  },
  {
   "cell_type": "code",
   "execution_count": 9,
   "metadata": {},
   "outputs": [
    {
     "data": {
      "text/plain": [
       "{0: True,\n",
       " 1: False,\n",
       " 2: True,\n",
       " 3: False,\n",
       " 4: True,\n",
       " 5: False,\n",
       " 6: True,\n",
       " 7: False,\n",
       " 8: True,\n",
       " 9: False}"
      ]
     },
     "execution_count": 9,
     "metadata": {},
     "output_type": "execute_result"
    }
   ],
   "source": [
    "b = {i:i%2 == 0 for i in range(10)}\n",
    "b"
   ]
  },
  {
   "cell_type": "code",
   "execution_count": 11,
   "metadata": {},
   "outputs": [
    {
     "data": {
      "text/plain": [
       "{1, 2, 3, 4, 5, 6, 7, 8, 9}"
      ]
     },
     "execution_count": 11,
     "metadata": {},
     "output_type": "execute_result"
    }
   ],
   "source": [
    "c = {i for i in [1,1,2,3,4,5,5,6,7,8,9,3,2,1]}\n",
    "c"
   ]
  },
  {
   "cell_type": "code",
   "execution_count": 13,
   "metadata": {},
   "outputs": [
    {
     "data": {
      "text/plain": [
       "\"i for i in 'I love fishC.com!'\""
      ]
     },
     "execution_count": 13,
     "metadata": {},
     "output_type": "execute_result"
    }
   ],
   "source": [
    "d = \"i for i in 'I love fishC.com!'\"\n",
    "d "
   ]
  },
  {
   "cell_type": "code",
   "execution_count": 16,
   "metadata": {},
   "outputs": [
    {
     "data": {
      "text/plain": [
       "<generator object <genexpr> at 0x109dc5c50>"
      ]
     },
     "execution_count": 16,
     "metadata": {},
     "output_type": "execute_result"
    }
   ],
   "source": [
    "e = (i for i in range(10))#元组推导器也是生成器\n",
    "e"
   ]
  },
  {
   "cell_type": "code",
   "execution_count": 18,
   "metadata": {},
   "outputs": [
    {
     "name": "stdout",
     "output_type": "stream",
     "text": [
      "0\n",
      "1\n",
      "2\n",
      "3\n",
      "4\n",
      "5\n",
      "6\n",
      "7\n",
      "8\n",
      "9\n"
     ]
    }
   ],
   "source": [
    "for i in e:\n",
    "    print(i)"
   ]
  },
  {
   "cell_type": "code",
   "execution_count": 20,
   "metadata": {},
   "outputs": [
    {
     "data": {
      "text/plain": [
       "2500"
      ]
     },
     "execution_count": 20,
     "metadata": {},
     "output_type": "execute_result"
    }
   ],
   "source": [
    "sum((i for i in range(100) if i%2))"
   ]
  },
  {
   "cell_type": "code",
   "execution_count": 21,
   "metadata": {},
   "outputs": [
    {
     "data": {
      "text/plain": [
       "2500"
      ]
     },
     "execution_count": 21,
     "metadata": {},
     "output_type": "execute_result"
    }
   ],
   "source": [
    "sum(i for i in range(100) if i%2)"
   ]
  },
  {
   "cell_type": "markdown",
   "metadata": {},
   "source": [
    "050：模块：模块就是程序\n",
    "什么是模块--封装\n",
    "· 容器 -> 数据的封装\n",
    "· 函数 -> 语句的封装\n",
    "· 类 -> 方法和属性的封装\n",
    "· 模块 -> 就是程序\n",
    "\n",
    "注意命名空间\n",
    "\n",
    "导入方法：\n",
    "1. import 文件名\n",
    "2. from 文件名 import 函数名\n",
    "3. import 文件名 as 新名字"
   ]
  },
  {
   "cell_type": "code",
   "execution_count": null,
   "metadata": {},
   "outputs": [],
   "source": [
    "#设置一个hello.py文件，放在调用文件同一目录\n",
    "def hi():\n",
    "    print('hi, everyone!')\n",
    "\n",
    "#在另一文件中 import hello\n",
    "hello.hi()"
   ]
  },
  {
   "cell_type": "code",
   "execution_count": 22,
   "metadata": {},
   "outputs": [
    {
     "name": "stdout",
     "output_type": "stream",
     "text": [
      "This is a testfuction, the result is  5\n"
     ]
    }
   ],
   "source": [
    "import testfunction\n",
    "\n",
    "testfunction.testfunction1(2,3)"
   ]
  },
  {
   "cell_type": "markdown",
   "metadata": {},
   "source": [
    "051：__name__ = '__main__'、搜索路径和包\n",
    "1. if __name__ = '__main__'\n",
    "2. 搜索路径\n",
    "3. 包（package）\n",
    "首先，创建一个文件夹用于存放包，文件夹的名字即包的名字\n",
    "在文件夹里创建一个__init__.py的模块文件，内容可以为空\n",
    "再将相关的模块放入文件夹中\n",
    "导入方式 import 文件夹名.py文件名"
   ]
  },
  {
   "cell_type": "code",
   "execution_count": null,
   "metadata": {},
   "outputs": [],
   "source": [
    "# if __name__ = '__main__'\n",
    "#如果是别的程序调用时就不使用这句"
   ]
  },
  {
   "cell_type": "code",
   "execution_count": 45,
   "metadata": {},
   "outputs": [
    {
     "name": "stdout",
     "output_type": "stream",
     "text": [
      "32摄氏度 = 89.60 华氏度\n",
      "99华氏度 = 37.22 摄氏度\n"
     ]
    }
   ],
   "source": [
    "import TemperatureConverision as tc\n",
    "print('32摄氏度 = %.2f 华氏度'% tc.c2f(32))\n",
    "print('99华氏度 = %.2f 摄氏度'% tc.f2c(99))\n",
    "#??我为什么没有test中的东西出来？"
   ]
  },
  {
   "cell_type": "code",
   "execution_count": 46,
   "metadata": {},
   "outputs": [
    {
     "data": {
      "text/plain": [
       "'__main__'"
      ]
     },
     "execution_count": 46,
     "metadata": {},
     "output_type": "execute_result"
    }
   ],
   "source": [
    "__name__"
   ]
  },
  {
   "cell_type": "code",
   "execution_count": 48,
   "metadata": {},
   "outputs": [
    {
     "data": {
      "text/plain": [
       "'TemperatureConverision'"
      ]
     },
     "execution_count": 48,
     "metadata": {},
     "output_type": "execute_result"
    }
   ],
   "source": [
    "tc.__name__"
   ]
  },
  {
   "cell_type": "code",
   "execution_count": 49,
   "metadata": {},
   "outputs": [
    {
     "data": {
      "text/plain": [
       "['/Users/huangzhan/Documents/机器学习/小甲鱼学习/testpycharm',\n",
       " '/opt/anaconda3/lib/python37.zip',\n",
       " '/opt/anaconda3/lib/python3.7',\n",
       " '/opt/anaconda3/lib/python3.7/lib-dynload',\n",
       " '',\n",
       " '/opt/anaconda3/lib/python3.7/site-packages',\n",
       " '/opt/anaconda3/lib/python3.7/site-packages/aeosa',\n",
       " '/opt/anaconda3/lib/python3.7/site-packages/IPython/extensions',\n",
       " '/Users/huangzhan/.ipython']"
      ]
     },
     "execution_count": 49,
     "metadata": {},
     "output_type": "execute_result"
    }
   ],
   "source": [
    "import sys\n",
    "sys.path\n",
    "#'/opt/anaconda3/lib/python3.7/site-packages'最佳存放地"
   ]
  },
  {
   "cell_type": "code",
   "execution_count": 50,
   "metadata": {},
   "outputs": [
    {
     "data": {
      "text/plain": [
       "['/Users/huangzhan/Documents/机器学习/小甲鱼学习/testpycharm',\n",
       " '/opt/anaconda3/lib/python37.zip',\n",
       " '/opt/anaconda3/lib/python3.7',\n",
       " '/opt/anaconda3/lib/python3.7/lib-dynload',\n",
       " '',\n",
       " '/opt/anaconda3/lib/python3.7/site-packages',\n",
       " '/opt/anaconda3/lib/python3.7/site-packages/aeosa',\n",
       " '/opt/anaconda3/lib/python3.7/site-packages/IPython/extensions',\n",
       " '/Users/huangzhan/.ipython',\n",
       " '/Users/huangzhan/Documents/机器学习/小甲鱼学习']"
      ]
     },
     "execution_count": 50,
     "metadata": {},
     "output_type": "execute_result"
    }
   ],
   "source": [
    "#将某路径加入搜索路径中，注意sys.path是一个列表\n",
    "sys.path.append('/Users/huangzhan/Documents/机器学习/小甲鱼学习')\n",
    "sys.path"
   ]
  },
  {
   "cell_type": "code",
   "execution_count": 51,
   "metadata": {},
   "outputs": [
    {
     "data": {
      "text/plain": [
       "93.2"
      ]
     },
     "execution_count": 51,
     "metadata": {},
     "output_type": "execute_result"
    }
   ],
   "source": [
    "import TemperatureConverision as tc\n",
    "\n",
    "tc.c2f(34)"
   ]
  },
  {
   "cell_type": "markdown",
   "metadata": {},
   "source": [
    "052：像极客一样思考\n",
    "用一种方法，最好只有一种方法来做一件事---使用现有模块\n",
    "python标准库：在Help->Python Docs可以查看，里面不仅包含枕边书，还有如何用C++写Python\n",
    "https://pypi.python.org/pypi 收集了全世界开发的模块\n",
    "\n",
    "PEP是Python Enhancement Proposals的缩写，增强建议书\n",
    "每一个PEP都有一个唯一的编号，PEP列表见PEP 0 \n",
    "https://www.python.org/dev/peps/"
   ]
  },
  {
   "cell_type": "code",
   "execution_count": 52,
   "metadata": {},
   "outputs": [
    {
     "name": "stdout",
     "output_type": "stream",
     "text": [
      "Tool for measuring execution time of small code snippets.\n",
      "\n",
      "This module avoids a number of common traps for measuring execution\n",
      "times.  See also Tim Peters' introduction to the Algorithms chapter in\n",
      "the Python Cookbook, published by O'Reilly.\n",
      "\n",
      "Library usage: see the Timer class.\n",
      "\n",
      "Command line usage:\n",
      "    python timeit.py [-n N] [-r N] [-s S] [-p] [-h] [--] [statement]\n",
      "\n",
      "Options:\n",
      "  -n/--number N: how many times to execute 'statement' (default: see below)\n",
      "  -r/--repeat N: how many times to repeat the timer (default 5)\n",
      "  -s/--setup S: statement to be executed once initially (default 'pass').\n",
      "                Execution time of this setup statement is NOT timed.\n",
      "  -p/--process: use time.process_time() (default is time.perf_counter())\n",
      "  -v/--verbose: print raw timing results; repeat for more digits precision\n",
      "  -u/--unit: set the output time unit (nsec, usec, msec, or sec)\n",
      "  -h/--help: print this usage message and exit\n",
      "  --: separate options from statement, use when statement starts with -\n",
      "  statement: statement to be timed (default 'pass')\n",
      "\n",
      "A multi-line statement may be given by specifying each line as a\n",
      "separate argument; indented lines are possible by enclosing an\n",
      "argument in quotes and using leading spaces.  Multiple -s options are\n",
      "treated similarly.\n",
      "\n",
      "If -n is not given, a suitable number of loops is calculated by trying\n",
      "successive powers of 10 until the total time is at least 0.2 seconds.\n",
      "\n",
      "Note: there is a certain baseline overhead associated with executing a\n",
      "pass statement.  It differs between versions.  The code here doesn't try\n",
      "to hide it, but you should be aware of it.  The baseline overhead can be\n",
      "measured by invoking the program without arguments.\n",
      "\n",
      "Classes:\n",
      "\n",
      "    Timer\n",
      "\n",
      "Functions:\n",
      "\n",
      "    timeit(string, string) -> float\n",
      "    repeat(string, string) -> list\n",
      "    default_timer() -> float\n",
      "\n",
      "\n",
      "<module 'timeit' from '/opt/anaconda3/lib/python3.7/timeit.py'>\n",
      "['Timer', 'timeit', 'repeat', 'default_timer']\n"
     ]
    }
   ],
   "source": [
    "#快速掌握一个模块\n",
    "import timeit\n",
    "print(timeit.__doc__)\n",
    "print(timeit)\n",
    "print(timeit.__all__)\n"
   ]
  },
  {
   "cell_type": "code",
   "execution_count": 53,
   "metadata": {},
   "outputs": [
    {
     "data": {
      "text/plain": [
       "timeit.Timer"
      ]
     },
     "execution_count": 53,
     "metadata": {},
     "output_type": "execute_result"
    }
   ],
   "source": [
    "#不是所有的模块都有all属性，只有有all属性的才能用from timeit import *\n",
    "#all属性是模块作者希望外部调用的函数名\n",
    "from timeit import *\n",
    "Timer"
   ]
  },
  {
   "cell_type": "code",
   "execution_count": 54,
   "metadata": {},
   "outputs": [
    {
     "ename": "NameError",
     "evalue": "name 'gc' is not defined",
     "output_type": "error",
     "traceback": [
      "\u001b[0;31m---------------------------------------------------------------------------\u001b[0m",
      "\u001b[0;31mNameError\u001b[0m                                 Traceback (most recent call last)",
      "\u001b[0;32m<ipython-input-54-c785b2e89196>\u001b[0m in \u001b[0;36m<module>\u001b[0;34m\u001b[0m\n\u001b[0;32m----> 1\u001b[0;31m \u001b[0mgc\u001b[0m\u001b[0;34m\u001b[0m\u001b[0;34m\u001b[0m\u001b[0m\n\u001b[0m",
      "\u001b[0;31mNameError\u001b[0m: name 'gc' is not defined"
     ]
    }
   ],
   "source": [
    "gc #这是因为from timeit import *没有提供调用"
   ]
  },
  {
   "cell_type": "code",
   "execution_count": 57,
   "metadata": {},
   "outputs": [
    {
     "data": {
      "text/plain": [
       "'/opt/anaconda3/lib/python3.7/timeit.py'"
      ]
     },
     "execution_count": 57,
     "metadata": {},
     "output_type": "execute_result"
    }
   ],
   "source": [
    "import timeit \n",
    "timeit.__file__"
   ]
  },
  {
   "cell_type": "code",
   "execution_count": 58,
   "metadata": {},
   "outputs": [
    {
     "name": "stdout",
     "output_type": "stream",
     "text": [
      "Help on module timeit:\n",
      "\n",
      "NAME\n",
      "    timeit - Tool for measuring execution time of small code snippets.\n",
      "\n",
      "MODULE REFERENCE\n",
      "    https://docs.python.org/3.7/library/timeit\n",
      "    \n",
      "    The following documentation is automatically generated from the Python\n",
      "    source files.  It may be incomplete, incorrect or include features that\n",
      "    are considered implementation detail and may vary between Python\n",
      "    implementations.  When in doubt, consult the module reference at the\n",
      "    location listed above.\n",
      "\n",
      "DESCRIPTION\n",
      "    This module avoids a number of common traps for measuring execution\n",
      "    times.  See also Tim Peters' introduction to the Algorithms chapter in\n",
      "    the Python Cookbook, published by O'Reilly.\n",
      "    \n",
      "    Library usage: see the Timer class.\n",
      "    \n",
      "    Command line usage:\n",
      "        python timeit.py [-n N] [-r N] [-s S] [-p] [-h] [--] [statement]\n",
      "    \n",
      "    Options:\n",
      "      -n/--number N: how many times to execute 'statement' (default: see below)\n",
      "      -r/--repeat N: how many times to repeat the timer (default 5)\n",
      "      -s/--setup S: statement to be executed once initially (default 'pass').\n",
      "                    Execution time of this setup statement is NOT timed.\n",
      "      -p/--process: use time.process_time() (default is time.perf_counter())\n",
      "      -v/--verbose: print raw timing results; repeat for more digits precision\n",
      "      -u/--unit: set the output time unit (nsec, usec, msec, or sec)\n",
      "      -h/--help: print this usage message and exit\n",
      "      --: separate options from statement, use when statement starts with -\n",
      "      statement: statement to be timed (default 'pass')\n",
      "    \n",
      "    A multi-line statement may be given by specifying each line as a\n",
      "    separate argument; indented lines are possible by enclosing an\n",
      "    argument in quotes and using leading spaces.  Multiple -s options are\n",
      "    treated similarly.\n",
      "    \n",
      "    If -n is not given, a suitable number of loops is calculated by trying\n",
      "    successive powers of 10 until the total time is at least 0.2 seconds.\n",
      "    \n",
      "    Note: there is a certain baseline overhead associated with executing a\n",
      "    pass statement.  It differs between versions.  The code here doesn't try\n",
      "    to hide it, but you should be aware of it.  The baseline overhead can be\n",
      "    measured by invoking the program without arguments.\n",
      "    \n",
      "    Classes:\n",
      "    \n",
      "        Timer\n",
      "    \n",
      "    Functions:\n",
      "    \n",
      "        timeit(string, string) -> float\n",
      "        repeat(string, string) -> list\n",
      "        default_timer() -> float\n",
      "\n",
      "CLASSES\n",
      "    builtins.object\n",
      "        Timer\n",
      "    \n",
      "    class Timer(builtins.object)\n",
      "     |  Timer(stmt='pass', setup='pass', timer=<built-in function perf_counter>, globals=None)\n",
      "     |  \n",
      "     |  Class for timing execution speed of small code snippets.\n",
      "     |  \n",
      "     |  The constructor takes a statement to be timed, an additional\n",
      "     |  statement used for setup, and a timer function.  Both statements\n",
      "     |  default to 'pass'; the timer function is platform-dependent (see\n",
      "     |  module doc string).  If 'globals' is specified, the code will be\n",
      "     |  executed within that namespace (as opposed to inside timeit's\n",
      "     |  namespace).\n",
      "     |  \n",
      "     |  To measure the execution time of the first statement, use the\n",
      "     |  timeit() method.  The repeat() method is a convenience to call\n",
      "     |  timeit() multiple times and return a list of results.\n",
      "     |  \n",
      "     |  The statements may contain newlines, as long as they don't contain\n",
      "     |  multi-line string literals.\n",
      "     |  \n",
      "     |  Methods defined here:\n",
      "     |  \n",
      "     |  __init__(self, stmt='pass', setup='pass', timer=<built-in function perf_counter>, globals=None)\n",
      "     |      Constructor.  See class doc string.\n",
      "     |  \n",
      "     |  autorange(self, callback=None)\n",
      "     |      Return the number of loops and time taken so that total time >= 0.2.\n",
      "     |      \n",
      "     |      Calls the timeit method with increasing numbers from the sequence\n",
      "     |      1, 2, 5, 10, 20, 50, ... until the time taken is at least 0.2\n",
      "     |      second.  Returns (number, time_taken).\n",
      "     |      \n",
      "     |      If *callback* is given and is not None, it will be called after\n",
      "     |      each trial with two arguments: ``callback(number, time_taken)``.\n",
      "     |  \n",
      "     |  print_exc(self, file=None)\n",
      "     |      Helper to print a traceback from the timed code.\n",
      "     |      \n",
      "     |      Typical use:\n",
      "     |      \n",
      "     |          t = Timer(...)       # outside the try/except\n",
      "     |          try:\n",
      "     |              t.timeit(...)    # or t.repeat(...)\n",
      "     |          except:\n",
      "     |              t.print_exc()\n",
      "     |      \n",
      "     |      The advantage over the standard traceback is that source lines\n",
      "     |      in the compiled template will be displayed.\n",
      "     |      \n",
      "     |      The optional file argument directs where the traceback is\n",
      "     |      sent; it defaults to sys.stderr.\n",
      "     |  \n",
      "     |  repeat(self, repeat=5, number=1000000)\n",
      "     |      Call timeit() a few times.\n",
      "     |      \n",
      "     |      This is a convenience function that calls the timeit()\n",
      "     |      repeatedly, returning a list of results.  The first argument\n",
      "     |      specifies how many times to call timeit(), defaulting to 5;\n",
      "     |      the second argument specifies the timer argument, defaulting\n",
      "     |      to one million.\n",
      "     |      \n",
      "     |      Note: it's tempting to calculate mean and standard deviation\n",
      "     |      from the result vector and report these.  However, this is not\n",
      "     |      very useful.  In a typical case, the lowest value gives a\n",
      "     |      lower bound for how fast your machine can run the given code\n",
      "     |      snippet; higher values in the result vector are typically not\n",
      "     |      caused by variability in Python's speed, but by other\n",
      "     |      processes interfering with your timing accuracy.  So the min()\n",
      "     |      of the result is probably the only number you should be\n",
      "     |      interested in.  After that, you should look at the entire\n",
      "     |      vector and apply common sense rather than statistics.\n",
      "     |  \n",
      "     |  timeit(self, number=1000000)\n",
      "     |      Time 'number' executions of the main statement.\n",
      "     |      \n",
      "     |      To be precise, this executes the setup statement once, and\n",
      "     |      then returns the time it takes to execute the main statement\n",
      "     |      a number of times, as a float measured in seconds.  The\n",
      "     |      argument is the number of times through the loop, defaulting\n",
      "     |      to one million.  The main statement, the setup statement and\n",
      "     |      the timer function to be used are passed to the constructor.\n",
      "     |  \n",
      "     |  ----------------------------------------------------------------------\n",
      "     |  Data descriptors defined here:\n",
      "     |  \n",
      "     |  __dict__\n",
      "     |      dictionary for instance variables (if defined)\n",
      "     |  \n",
      "     |  __weakref__\n",
      "     |      list of weak references to the object (if defined)\n",
      "\n",
      "FUNCTIONS\n",
      "    default_timer = perf_counter(...)\n",
      "        perf_counter() -> float\n",
      "        \n",
      "        Performance counter for benchmarking.\n",
      "    \n",
      "    repeat(stmt='pass', setup='pass', timer=<built-in function perf_counter>, repeat=5, number=1000000, globals=None)\n",
      "        Convenience function to create Timer object and call repeat method.\n",
      "    \n",
      "    timeit(stmt='pass', setup='pass', timer=<built-in function perf_counter>, number=1000000, globals=None)\n",
      "        Convenience function to create Timer object and call timeit method.\n",
      "\n",
      "DATA\n",
      "    __all__ = ['Timer', 'timeit', 'repeat', 'default_timer']\n",
      "\n",
      "FILE\n",
      "    /opt/anaconda3/lib/python3.7/timeit.py\n",
      "\n",
      "\n"
     ]
    }
   ],
   "source": [
    "help(timeit)"
   ]
  },
  {
   "cell_type": "markdown",
   "metadata": {},
   "source": [
    "053：论一只爬虫的自我修养1\n",
    "什么事网络爬虫：web spider\n",
    "# python 如何访问互联网？\n",
    "URL + lib => urllib\n",
    "URL的一般格式是：([]为可选项)\n",
    "protocol://hostname[:port]/path/[;parameters][query]#fragment\n",
    "这三部分分别是\n",
    "-- 第一部分协议：http,https,ftp,file,ed2k...\n",
    "-- 第二部分服务器命名或IP地址（有时要包含端口号，各种传输协议都有默认的端口号，如http的默认端口为80）\n",
    "-- 第三部分资源所在地址 目录或文件名\n",
    "\n",
    "urllib模块"
   ]
  },
  {
   "cell_type": "code",
   "execution_count": 60,
   "metadata": {},
   "outputs": [
    {
     "name": "stdout",
     "output_type": "stream",
     "text": [
      "b'<!DOCTYPE html>\\n<html lang=\"en\">\\n<head>\\n<meta charset=\"UTF-8\">\\n<meta name=\"viewport\" content=\"width=device-width, initial-scale=1.0\">\\n<meta name=\"keywords\" content=\"\\xe9\\xb1\\xbcC\\xe5\\xb7\\xa5\\xe4\\xbd\\x9c\\xe5\\xae\\xa4|\\xe5\\x85\\x8d\\xe8\\xb4\\xb9\\xe7\\xbc\\x96\\xe7\\xa8\\x8b\\xe8\\xa7\\x86\\xe9\\xa2\\x91\\xe6\\x95\\x99\\xe5\\xad\\xa6|Python\\xe6\\x95\\x99\\xe5\\xad\\xa6|Web\\xe5\\xbc\\x80\\xe5\\x8f\\x91\\xe6\\x95\\x99\\xe5\\xad\\xa6|\\xe5\\x85\\xa8\\xe6\\xa0\\x88\\xe5\\xbc\\x80\\xe5\\x8f\\x91\\xe6\\x95\\x99\\xe5\\xad\\xa6|C\\xe8\\xaf\\xad\\xe8\\xa8\\x80\\xe6\\x95\\x99\\xe5\\xad\\xa6|\\xe6\\xb1\\x87\\xe7\\xbc\\x96\\xe6\\x95\\x99\\xe5\\xad\\xa6|Win32\\xe5\\xbc\\x80\\xe5\\x8f\\x91|\\xe5\\x8a\\xa0\\xe5\\xaf\\x86\\xe4\\xb8\\x8e\\xe8\\xa7\\xa3\\xe5\\xaf\\x86|Linux\\xe6\\x95\\x99\\xe5\\xad\\xa6\">\\n<meta name=\"description\" content=\"\\xe9\\xb1\\xbcC\\xe5\\xb7\\xa5\\xe4\\xbd\\x9c\\xe5\\xae\\xa4\\xe4\\xb8\\xba\\xe5\\xa4\\xa7\\xe5\\xae\\xb6\\xe6\\x8f\\x90\\xe4\\xbe\\x9b\\xe6\\x9c\\x80\\xe6\\x9c\\x89\\xe8\\xb6\\xa3\\xe7\\x9a\\x84\\xe7\\xbc\\x96\\xe7\\xa8\\x8b\\xe8\\xa7\\x86\\xe9\\xa2\\x91\\xe6\\x95\\x99\\xe5\\xad\\xa6\\xe3\\x80\\x82\">\\n<meta name=\"author\" content=\"\\xe9\\xb1\\xbcC\\xe5\\xb7\\xa5\\xe4\\xbd\\x9c\\xe5\\xae\\xa4\">\\n<title>\\xe9\\xb1\\xbcC\\xe5\\xb7\\xa5\\xe4\\xbd\\x9c\\xe5\\xae\\xa4-\\xe5\\x85\\x8d\\xe8\\xb4\\xb9\\xe7\\xbc\\x96\\xe7\\xa8\\x8b\\xe8\\xa7\\x86\\xe9\\xa2\\x91\\xe6\\x95\\x99\\xe5\\xad\\xa6|Python\\xe6\\x95\\x99\\xe5\\xad\\xa6|Web\\xe5\\xbc\\x80\\xe5\\x8f\\x91\\xe6\\x95\\x99\\xe5\\xad\\xa6|\\xe5\\x85\\xa8\\xe6\\xa0\\x88\\xe5\\xbc\\x80\\xe5\\x8f\\x91\\xe6\\x95\\x99\\xe5\\xad\\xa6|C\\xe8\\xaf\\xad\\xe8\\xa8\\x80\\xe6\\x95\\x99\\xe5\\xad\\xa6|\\xe6\\xb1\\x87\\xe7\\xbc\\x96\\xe6\\x95\\x99\\xe5\\xad\\xa6|Win32\\xe5\\xbc\\x80\\xe5\\x8f\\x91|\\xe5\\x8a\\xa0\\xe5\\xaf\\x86\\xe4\\xb8\\x8e\\xe8\\xa7\\xa3\\xe5\\xaf\\x86|Linux\\xe6\\x95\\x99\\xe5\\xad\\xa6</title>\\n<link rel=\"shortcut icon\" type=\"image/x-icon\" href=\"img/favicon.ico\">\\n<link rel=\"stylesheet\" href=\"css/styles.css\">\\n<script src=\"js/jq.js\"></script>\\n<script src=\"js/fishcEgg.js\"></script>\\n<script>\\n        $(document).ready(function() {\\n            var windowHeight = document.documentElement.clientHeight || document.body.clientHeight;\\n\\n            createStoryJS({\\n                type: \\'timeline\\',\\n                width: \\'auto\\',\\n                height: windowHeight,\\n                source: \\'data.json\\',\\n                start_at_end: true, //OPTIONAL START AT LATEST DATE\\n                embed_id: \\'my-timeline\\'\\n            });\\n\\n            // \\xe6\\xb5\\x8f\\xe8\\xa7\\x88\\xe5\\x99\\xa8\\xe5\\x88\\xa4\\xe6\\x96\\xad\\xef\\xbc\\x8c\\xe5\\xa6\\x82\\xe6\\x9e\\x9c\\xe6\\x98\\xafIE\\xe5\\xbc\\xb9\\xe5\\x87\\xba\\xe6\\x8f\\x90\\xe7\\xa4\\xba\\xe6\\xa1\\x86\\n            function getExplore() {\\n                var Sys = {};\\n                var ua = navigator.userAgent.toLowerCase();\\n                var s;\\n                (s = ua.match(/rv:([\\\\d.]+)\\\\) like gecko/)) ? Sys.ie = s[1]:\\n                    (s = ua.match(/msie ([\\\\d\\\\.]+)/)) ? Sys.ie = s[1] :\\n                    (s = ua.match(/edge\\\\/([\\\\d\\\\.]+)/)) ? Sys.edge = s[1] :\\n                    (s = ua.match(/firefox\\\\/([\\\\d\\\\.]+)/)) ? Sys.firefox = s[1] :\\n                    (s = ua.match(/(?:opera|opr).([\\\\d\\\\.]+)/)) ? Sys.opera = s[1] :\\n                    (s = ua.match(/chrome\\\\/([\\\\d\\\\.]+)/)) ? Sys.chrome = s[1] :\\n                    (s = ua.match(/version\\\\/([\\\\d\\\\.]+).*safari/)) ? Sys.safari = s[1] : 0;\\n                // \\xe6\\xa0\\xb9\\xe6\\x8d\\xae\\xe5\\x85\\xb3\\xe7\\xb3\\xbb\\xe8\\xbf\\x9b\\xe8\\xa1\\x8c\\xe5\\x88\\xa4\\xe6\\x96\\xad\\n                if (Sys.ie) alert(\\'\\xe8\\xaf\\xb7\\xe4\\xbd\\xbf\\xe7\\x94\\xa8\\xe9\\x9d\\x9eIE\\xe6\\xb5\\x8f\\xe8\\xa7\\x88\\xe5\\x99\\xa8\\xe6\\x89\\x93\\xe5\\xbc\\x80\\xe6\\x9c\\xac\\xe4\\xb8\\xbb\\xe9\\xa1\\xb5\\');\\n\\n            }\\n            getExplore();\\n\\n        });\\n    </script>\\n<script src=\"https://cdnjs.cloudflare.com/ajax/libs/timelinejs/2.36.0/js/storyjs-embed.js\"></script>\\n</head>\\n<body>\\n<img src=\"img/tradeMark.png\" alt=\"trademark\" usemap=\"#myTrademark\" style=\"position:absolute; z-index: 9999; position: fixed; top: 15px; border: 0; right:0; display: block;\">\\n<map name=\"myTrademark\">\\n<area shape=\"poly\" coords=\"8,0,45,0,196,148,196,185\" href=\"http://fishc.taobao.com\" alt=\"TaoBao\" target=\"_blank\">\\n<area shape=\"poly\" coords=\"67,0,98,0,196,97,196,129\" href=\"http://bbs.fishc.com/forum.php\" alt=\"TaoBao\" target=\"_blank\">\\n</map>\\n<div id=\"my-timeline\"></div>\\n<div class=\"myICP\">\\n<a href=\"http://beian.miit.gov.cn/state/outPortal/loginPortal.action\" target=\"_blank\">\\xe7\\xb2\\xa4ICP\\xe5\\xa4\\x8718085999\\xe5\\x8f\\xb7-2</a>\\n</div>\\n<script>\\n        window.onload = function() {\\n            $(\".storyjs-embed.sized-embed\").css(\"padding-top\", \"0\");\\n            $(\".vco-storyjs .vco-feature .vco-slide\").css(\"padding-top\", \"0\");\\n        };\\n    </script>\\n</body>\\n</html>'\n"
     ]
    }
   ],
   "source": [
    "import urllib.request\n",
    "res=urllib.request.urlopen('http://www.fishc.com')\n",
    "html = res.read()\n",
    "print(html)\n",
    "#这和开发者工具Elements里面的内容是一样的"
   ]
  },
  {
   "cell_type": "code",
   "execution_count": 61,
   "metadata": {},
   "outputs": [
    {
     "name": "stdout",
     "output_type": "stream",
     "text": [
      "<!DOCTYPE html>\n",
      "<html lang=\"en\">\n",
      "<head>\n",
      "<meta charset=\"UTF-8\">\n",
      "<meta name=\"viewport\" content=\"width=device-width, initial-scale=1.0\">\n",
      "<meta name=\"keywords\" content=\"鱼C工作室|免费编程视频教学|Python教学|Web开发教学|全栈开发教学|C语言教学|汇编教学|Win32开发|加密与解密|Linux教学\">\n",
      "<meta name=\"description\" content=\"鱼C工作室为大家提供最有趣的编程视频教学。\">\n",
      "<meta name=\"author\" content=\"鱼C工作室\">\n",
      "<title>鱼C工作室-免费编程视频教学|Python教学|Web开发教学|全栈开发教学|C语言教学|汇编教学|Win32开发|加密与解密|Linux教学</title>\n",
      "<link rel=\"shortcut icon\" type=\"image/x-icon\" href=\"img/favicon.ico\">\n",
      "<link rel=\"stylesheet\" href=\"css/styles.css\">\n",
      "<script src=\"js/jq.js\"></script>\n",
      "<script src=\"js/fishcEgg.js\"></script>\n",
      "<script>\n",
      "        $(document).ready(function() {\n",
      "            var windowHeight = document.documentElement.clientHeight || document.body.clientHeight;\n",
      "\n",
      "            createStoryJS({\n",
      "                type: 'timeline',\n",
      "                width: 'auto',\n",
      "                height: windowHeight,\n",
      "                source: 'data.json',\n",
      "                start_at_end: true, //OPTIONAL START AT LATEST DATE\n",
      "                embed_id: 'my-timeline'\n",
      "            });\n",
      "\n",
      "            // 浏览器判断，如果是IE弹出提示框\n",
      "            function getExplore() {\n",
      "                var Sys = {};\n",
      "                var ua = navigator.userAgent.toLowerCase();\n",
      "                var s;\n",
      "                (s = ua.match(/rv:([\\d.]+)\\) like gecko/)) ? Sys.ie = s[1]:\n",
      "                    (s = ua.match(/msie ([\\d\\.]+)/)) ? Sys.ie = s[1] :\n",
      "                    (s = ua.match(/edge\\/([\\d\\.]+)/)) ? Sys.edge = s[1] :\n",
      "                    (s = ua.match(/firefox\\/([\\d\\.]+)/)) ? Sys.firefox = s[1] :\n",
      "                    (s = ua.match(/(?:opera|opr).([\\d\\.]+)/)) ? Sys.opera = s[1] :\n",
      "                    (s = ua.match(/chrome\\/([\\d\\.]+)/)) ? Sys.chrome = s[1] :\n",
      "                    (s = ua.match(/version\\/([\\d\\.]+).*safari/)) ? Sys.safari = s[1] : 0;\n",
      "                // 根据关系进行判断\n",
      "                if (Sys.ie) alert('请使用非IE浏览器打开本主页');\n",
      "\n",
      "            }\n",
      "            getExplore();\n",
      "\n",
      "        });\n",
      "    </script>\n",
      "<script src=\"https://cdnjs.cloudflare.com/ajax/libs/timelinejs/2.36.0/js/storyjs-embed.js\"></script>\n",
      "</head>\n",
      "<body>\n",
      "<img src=\"img/tradeMark.png\" alt=\"trademark\" usemap=\"#myTrademark\" style=\"position:absolute; z-index: 9999; position: fixed; top: 15px; border: 0; right:0; display: block;\">\n",
      "<map name=\"myTrademark\">\n",
      "<area shape=\"poly\" coords=\"8,0,45,0,196,148,196,185\" href=\"http://fishc.taobao.com\" alt=\"TaoBao\" target=\"_blank\">\n",
      "<area shape=\"poly\" coords=\"67,0,98,0,196,97,196,129\" href=\"http://bbs.fishc.com/forum.php\" alt=\"TaoBao\" target=\"_blank\">\n",
      "</map>\n",
      "<div id=\"my-timeline\"></div>\n",
      "<div class=\"myICP\">\n",
      "<a href=\"http://beian.miit.gov.cn/state/outPortal/loginPortal.action\" target=\"_blank\">粤ICP备18085999号-2</a>\n",
      "</div>\n",
      "<script>\n",
      "        window.onload = function() {\n",
      "            $(\".storyjs-embed.sized-embed\").css(\"padding-top\", \"0\");\n",
      "            $(\".vco-storyjs .vco-feature .vco-slide\").css(\"padding-top\", \"0\");\n",
      "        };\n",
      "    </script>\n",
      "</body>\n",
      "</html>\n"
     ]
    }
   ],
   "source": [
    "#要让它好阅读需要解码\n",
    "html = html.decode('utf-8')\n",
    "print(html)"
   ]
  },
  {
   "cell_type": "markdown",
   "metadata": {},
   "source": [
    "054：论一只爬虫的自我修养2：实战\n",
    "打开网页，保存其中一幅图片"
   ]
  },
  {
   "cell_type": "code",
   "execution_count": 64,
   "metadata": {},
   "outputs": [],
   "source": [
    "#download_cat.py\n",
    "import urllib.request\n",
    "res=urllib.request.urlopen('http://www.placekitten.com/g/500/600')\n",
    "cat_image = res.read()\n",
    "\n",
    "with open('cat_500_600.jpg','wb') as f:\n",
    "    f.write(cat_image)"
   ]
  },
  {
   "cell_type": "code",
   "execution_count": 65,
   "metadata": {},
   "outputs": [],
   "source": [
    "#download_cat.py\n",
    "import urllib.request\n",
    "req = urllib.request.Request('http://www.placekitten.com/g/500/600')\n",
    "res = urllib.request.urlopen(req)\n",
    "cat_image = res.read()\n",
    "\n",
    "with open('cat_500_600_2.jpg','wb') as f:\n",
    "    f.write(cat_image)"
   ]
  },
  {
   "cell_type": "code",
   "execution_count": 67,
   "metadata": {},
   "outputs": [
    {
     "data": {
      "text/plain": [
       "'http://placekitten.com/g/500/600'"
      ]
     },
     "execution_count": 67,
     "metadata": {},
     "output_type": "execute_result"
    }
   ],
   "source": [
    "res.geturl()"
   ]
  },
  {
   "cell_type": "code",
   "execution_count": 68,
   "metadata": {},
   "outputs": [
    {
     "data": {
      "text/plain": [
       "<bound method HTTPResponse.info of <http.client.HTTPResponse object at 0x109ea1790>>"
      ]
     },
     "execution_count": 68,
     "metadata": {},
     "output_type": "execute_result"
    }
   ],
   "source": [
    "res.info"
   ]
  },
  {
   "cell_type": "code",
   "execution_count": 69,
   "metadata": {},
   "outputs": [
    {
     "name": "stdout",
     "output_type": "stream",
     "text": [
      "<bound method HTTPResponse.info of <http.client.HTTPResponse object at 0x109ea1790>>\n"
     ]
    }
   ],
   "source": [
    "print(res.info)"
   ]
  },
  {
   "cell_type": "code",
   "execution_count": 71,
   "metadata": {},
   "outputs": [
    {
     "data": {
      "text/plain": [
       "200"
      ]
     },
     "execution_count": 71,
     "metadata": {},
     "output_type": "execute_result"
    }
   ],
   "source": [
    "res.getcode()#200指的是正常响应"
   ]
  },
  {
   "cell_type": "markdown",
   "metadata": {},
   "source": [
    "#用有道词典进行翻译\n",
    "#打开有道词典，\n",
    "右键->审查元素（打开后看到网页源代码）\n",
    "->找到Network选项 POST是提交数据，点击后->Preview可以看到输入的文本和翻译的文本--这就找到了我们需要的数据\n",
    "\n",
    "在header找到Request URL， Request Method，Request Header->User-Agent来识别是认为访问还是代码访问\n",
    "然后，在From data里i找到提交的主要内容"
   ]
  },
  {
   "cell_type": "code",
   "execution_count": 85,
   "metadata": {},
   "outputs": [
    {
     "name": "stdin",
     "output_type": "stream",
     "text": [
      "Please input what you want to translate: 你好\n"
     ]
    },
    {
     "name": "stdout",
     "output_type": "stream",
     "text": [
      "翻译结果：50\n"
     ]
    }
   ],
   "source": [
    "#translate_youdao.py\n",
    "import urllib.request\n",
    "import urllib.parse\n",
    "import json\n",
    "\n",
    "content = input('Please input what you want to translate:')\n",
    "\n",
    "url = 'http://fanyi.youdao.com/translate_o?smartresult=dict&smartresult=rule'\n",
    "data = {}\n",
    "data['i']=content\n",
    "data['from']='AUTO'\n",
    "data['to']='AUTO'\n",
    "data['smartresult']='dict'\n",
    "data['client']='fanyideskweb'\n",
    "data['salt']='15841847178767'\n",
    "data['sign']='d0150d618cfd8dca0ca1a535d14a3645'\n",
    "data['ts']='1584184717876'\n",
    "data['bv']='d6804c1aa00004e196e571fb66ad9bca'\n",
    "data['doctype']='json'\n",
    "data['version']='2.1'\n",
    "data['keyfrom']='fanyi.web'\n",
    "data['action']='FY_BY_REALTlME'\n",
    "data = urllib.parse.urlencode(data).encode('utf-8')\n",
    "\n",
    "res = urllib.request.urlopen(url,data)\n",
    "html = res.read().decode('utf-8')\n",
    "\n",
    "target = json.loads(html)\n",
    "print('翻译结果：%s'%(target['errorCode']))\n",
    "\n",
    "#print(html)#因为有道设置了防护，所以不能读出原内容，但是输出内容和点击页面内容一致"
   ]
  },
  {
   "cell_type": "code",
   "execution_count": 82,
   "metadata": {},
   "outputs": [],
   "source": [
    "#注意上面是个json结构，也就是个字典\n",
    "#可以把它更易读\n",
    "import json\n",
    "target = json.loads(html)"
   ]
  },
  {
   "cell_type": "code",
   "execution_count": 84,
   "metadata": {},
   "outputs": [
    {
     "name": "stdout",
     "output_type": "stream",
     "text": [
      "<class 'dict'>\n"
     ]
    },
    {
     "data": {
      "text/plain": [
       "50"
      ]
     },
     "execution_count": 84,
     "metadata": {},
     "output_type": "execute_result"
    }
   ],
   "source": [
    "print(type(target))\n",
    "target['errorCode']"
   ]
  },
  {
   "cell_type": "markdown",
   "metadata": {},
   "source": [
    "055: 论一只网络爬虫的自我修养3--隐藏\n",
    "服务器检查连接 检查header->user agent\n",
    "-- 修改Request 里的headesr参数\n",
    "-- Request.add_hearder()"
   ]
  },
  {
   "cell_type": "code",
   "execution_count": null,
   "metadata": {},
   "outputs": [],
   "source": [
    "#translate_google.py---没成功\n",
    "import urllib.request\n",
    "import urllib.parse\n",
    "import json\n",
    "\n",
    "content = input('Please input what you want to translate:')\n",
    "url = 'https://translate.google.com/translate_a/single?client=webapp&sl=auto&tl=zh-CN&hl=zh-CN&dt=at&dt=bd&dt=ex&dt=ld&dt=md&dt=qca&dt=rw&dt=rm&dt=ss&dt=t&source=bh&ssel=0&tsel=0&kc=1&tk=345990.258180&q=Google%20is%20the%20best'\n",
    "\n",
    "#第一种方法输入header\n",
    "header = {}\n",
    "header['User-Agent'] = 'Mozilla/5.0 (Macintosh; Intel Mac OS X 10_13_6) AppleWebKit/537.36 (KHTML, like Gecko) Chrome/80.0.3987.132 Safari/537.36'\n",
    "\n",
    "data = {}\n",
    "data['client']='webapp'\n",
    "data['sl']='auto'\n",
    "data['tl']='zh-CN'\n",
    "data['hl']='zh-CN'\n",
    "data['dt']='at'\n",
    "data['dt']='bd'\n",
    "data['dt']='ex'\n",
    "data['dt']='ld'\n",
    "data['dt']='md'\n",
    "data['dt']='qca'\n",
    "data['dt']='rw'\n",
    "data['dt']='rm'\n",
    "data['dt']='ss'\n",
    "data['dt']='t'\n",
    "data['source']='bh'\n",
    "data['ssel']='0'\n",
    "data['tsel']='0'\n",
    "data['kc']='1'\n",
    "data['tk']='345990.258180'\n",
    "data['q']='Google%20is%20the%20best'\n",
    "data = urllib.parse.urlencode(data).encode('utf-8')\n",
    "\n",
    "\n",
    "req = urllib.request.Request(url,data,header)\n",
    "#第二种方法输入header\n",
    "#req.add_header('User-Agent','Mozilla/5.0 (Macintosh; Intel Mac OS X 10_13_6) AppleWebKit/537.36 (KHTML, like Gecko) Chrome/80.0.3987.132 Safari/537.36')\n",
    "\n",
    "res = urllib.request.urlopen(req)\n",
    "#res = urllib.request.urlopen(url,data)\n",
    "html = res.read().decode('utf-8')\n",
    "print(html)"
   ]
  },
  {
   "cell_type": "code",
   "execution_count": null,
   "metadata": {},
   "outputs": [],
   "source": [
    "\n",
    "target = json.loads(html)\n",
    "print('翻译结果：%s'%(target['errorCode']))\n",
    "\n",
    "#print(html)#因为有道设置了防护，所以不能读出原内容，但是输出内容和点击页面内容一致\n",
    "req.headers"
   ]
  },
  {
   "cell_type": "code",
   "execution_count": 1,
   "metadata": {},
   "outputs": [
    {
     "name": "stdin",
     "output_type": "stream",
     "text": [
      "Please input what you want to translate(输入\"q!\"退出程序): love\n"
     ]
    },
    {
     "name": "stdout",
     "output_type": "stream",
     "text": [
      "翻译结果：50\n"
     ]
    },
    {
     "name": "stdin",
     "output_type": "stream",
     "text": [
      "Please input what you want to translate(输入\"q!\"退出程序): if\n"
     ]
    },
    {
     "name": "stdout",
     "output_type": "stream",
     "text": [
      "翻译结果：50\n"
     ]
    },
    {
     "name": "stdin",
     "output_type": "stream",
     "text": [
      "Please input what you want to translate(输入\"q!\"退出程序): ss\n"
     ]
    },
    {
     "name": "stdout",
     "output_type": "stream",
     "text": [
      "翻译结果：50\n"
     ]
    },
    {
     "name": "stdin",
     "output_type": "stream",
     "text": [
      "Please input what you want to translate(输入\"q!\"退出程序): !q\n"
     ]
    },
    {
     "name": "stdout",
     "output_type": "stream",
     "text": [
      "翻译结果：50\n"
     ]
    },
    {
     "name": "stdin",
     "output_type": "stream",
     "text": [
      "Please input what you want to translate(输入\"q!\"退出程序): q!\n"
     ]
    }
   ],
   "source": [
    "#让爬虫更像人--延长访问时间 --使用代理\n",
    "#translate_youdao.py\n",
    "import urllib.request\n",
    "import urllib.parse\n",
    "import json\n",
    "import time\n",
    "\n",
    "while True: \n",
    "    content = input('Please input what you want to translate(输入\"q!\"退出程序):')\n",
    "    if content == 'q!':\n",
    "        break\n",
    "\n",
    "    url = 'http://fanyi.youdao.com/translate_o?smartresult=dict&smartresult=rule'\n",
    "\n",
    "    #第一种方法输入header\n",
    "    header = {}\n",
    "    header['User-Agent'] = 'Mozilla/5.0 (Macintosh; Intel Mac OS X 10_13_6) AppleWebKit/537.36 (KHTML, like Gecko) Chrome/80.0.3987.132 Safari/537.36'\n",
    "\n",
    "    data = {}\n",
    "    data['i']=content\n",
    "    data['from']='AUTO'\n",
    "    data['to']='AUTO'\n",
    "    data['smartresult']='dict'\n",
    "    data['client']='fanyideskweb'\n",
    "    data['salt']='15841847178767'\n",
    "    data['sign']='d0150d618cfd8dca0ca1a535d14a3645'\n",
    "    data['ts']='1584184717876'\n",
    "    data['bv']='d6804c1aa00004e196e571fb66ad9bca'\n",
    "    data['doctype']='json'\n",
    "    data['version']='2.1'\n",
    "    data['keyfrom']='fanyi.web'\n",
    "    data['action']='FY_BY_REALTlME'\n",
    "    data = urllib.parse.urlencode(data).encode('utf-8')\n",
    "\n",
    "    req = urllib.request.Request(url,data,header)\n",
    "    #第二种方法输入header\n",
    "    #req.add_header('User-Agent','Mozilla/5.0 (Macintosh; Intel Mac OS X 10_13_6) AppleWebKit/537.36 (KHTML, like Gecko) Chrome/80.0.3987.132 Safari/537.36')\n",
    "\n",
    "    res = urllib.request.urlopen(req)\n",
    "    #res = urllib.request.urlopen(url,data)\n",
    "    html = res.read().decode('utf-8')\n",
    "    #print(html)\n",
    "    target = json.loads(html)\n",
    "    print('翻译结果：%s'%(target['errorCode']))\n",
    "    time.sleep(5)\n",
    "\n",
    "    #print(html)#因为有道设置了防护，所以不能读出原内容，但是输出内容和点击页面内容一致"
   ]
  },
  {
   "cell_type": "markdown",
   "metadata": {},
   "source": [
    "****代理****\n",
    "步骤：\n",
    "1. 参数是一个字典{'类型'，'代理IP:端口号'}\n",
    "    proxy_support  = urllib.request.ProxyHandler({})\n",
    "2. 定制创建一个opener\n",
    "    opener = urllib.request.build_opener(proxy_support)\n",
    "3a. 安装opener -- 一劳永逸，之后一直可以使用这个opener\n",
    "    urllib.request.install_opener(opener)\n",
    "3b. 调用opener -- 使用一次\n",
    "    opener.open(url)"
   ]
  },
  {
   "cell_type": "code",
   "execution_count": null,
   "metadata": {},
   "outputs": [],
   "source": [
    "#proxy_eg.py---注意，ip不可用所以会报错\n",
    "import urllib.request\n",
    "import random\n",
    "\n",
    "#搜索代理ip\n",
    "url = 'http://www.whatismyip.com.tw'#这个网站能够显示我当前使用的ip\n",
    "\n",
    "#建立一个ip list,自动采集一个ip\n",
    "iplist = ['119.6.144.73:81','183.203.208.166:8118','111.1.32.28:81']\n",
    "\n",
    "proxy_support = urllib.request.ProxyHandler({'http':random.choice(iplist)})\n",
    "\n",
    "opener = urllib.request.build_opener(proxy_support)\n",
    "#可以修改opener的headers\n",
    "opener.addhearders = [('User-Agent','Mozilla/5.0 (Macintosh; Intel Mac OS X 10_13_6) AppleWebKit/537.36 (KHTML, like Gecko) Chrome/80.0.3987.132 Safari/537.36')]\n",
    "\n",
    "urllib.request.install_opener(opener)\n",
    "\n",
    "response = urllib.request.urlopen(url)\n",
    "html = response.read().decode('utf-8')\n",
    "print(html)"
   ]
  },
  {
   "cell_type": "markdown",
   "metadata": {},
   "source": [
    "056: 论一只爬虫的自我修养4\n",
    "首先需要在网站上踩点：找到页面的规律，看URL的变化规律；也可以通过开发者工具，查看没有规律的页面信息，找到变量，使其符合这一规律\n",
    "然后找到要下载的图片地址，用下载猫图的方式保存图片即可"
   ]
  },
  {
   "cell_type": "code",
   "execution_count": 2,
   "metadata": {},
   "outputs": [
    {
     "ename": "HTTPError",
     "evalue": "HTTP Error 404: Not Found",
     "output_type": "error",
     "traceback": [
      "\u001b[0;31m---------------------------------------------------------------------------\u001b[0m",
      "\u001b[0;31mHTTPError\u001b[0m                                 Traceback (most recent call last)",
      "\u001b[0;32m<ipython-input-2-1357444733dc>\u001b[0m in \u001b[0;36m<module>\u001b[0;34m\u001b[0m\n\u001b[1;32m     57\u001b[0m \u001b[0;34m\u001b[0m\u001b[0m\n\u001b[1;32m     58\u001b[0m \u001b[0;32mif\u001b[0m \u001b[0m__name__\u001b[0m \u001b[0;34m==\u001b[0m \u001b[0;34m'__main__'\u001b[0m\u001b[0;34m:\u001b[0m\u001b[0;34m\u001b[0m\u001b[0;34m\u001b[0m\u001b[0m\n\u001b[0;32m---> 59\u001b[0;31m     \u001b[0mdownload_mm\u001b[0m\u001b[0;34m(\u001b[0m\u001b[0;34m)\u001b[0m\u001b[0;34m\u001b[0m\u001b[0;34m\u001b[0m\u001b[0m\n\u001b[0m",
      "\u001b[0;32m<ipython-input-2-1357444733dc>\u001b[0m in \u001b[0;36mdownload_mm\u001b[0;34m(folder, pages)\u001b[0m\n\u001b[1;32m     53\u001b[0m         \u001b[0mpage_num\u001b[0m \u001b[0;34m-=\u001b[0m \u001b[0mi\u001b[0m\u001b[0;34m\u001b[0m\u001b[0;34m\u001b[0m\u001b[0m\n\u001b[1;32m     54\u001b[0m         \u001b[0mpage_url\u001b[0m \u001b[0;34m=\u001b[0m \u001b[0murl\u001b[0m \u001b[0;34m+\u001b[0m \u001b[0;34m'/page-'\u001b[0m \u001b[0;34m+\u001b[0m \u001b[0mstr\u001b[0m\u001b[0;34m(\u001b[0m\u001b[0mpage_num\u001b[0m\u001b[0;34m)\u001b[0m\u001b[0;34m+\u001b[0m \u001b[0;34m'#comments'\u001b[0m\u001b[0;34m\u001b[0m\u001b[0;34m\u001b[0m\u001b[0m\n\u001b[0;32m---> 55\u001b[0;31m         \u001b[0minfos_addrs\u001b[0m \u001b[0;34m=\u001b[0m \u001b[0mfind_infos\u001b[0m\u001b[0;34m(\u001b[0m\u001b[0mpage_url\u001b[0m\u001b[0;34m)\u001b[0m\u001b[0;34m\u001b[0m\u001b[0;34m\u001b[0m\u001b[0m\n\u001b[0m\u001b[1;32m     56\u001b[0m         \u001b[0msave_infos\u001b[0m\u001b[0;34m(\u001b[0m\u001b[0mfolder\u001b[0m\u001b[0;34m,\u001b[0m\u001b[0minfos_addrs\u001b[0m\u001b[0;34m)\u001b[0m\u001b[0;34m\u001b[0m\u001b[0;34m\u001b[0m\u001b[0m\n\u001b[1;32m     57\u001b[0m \u001b[0;34m\u001b[0m\u001b[0m\n",
      "\u001b[0;32m<ipython-input-2-1357444733dc>\u001b[0m in \u001b[0;36mfind_infos\u001b[0;34m(url)\u001b[0m\n\u001b[1;32m     19\u001b[0m \u001b[0;34m\u001b[0m\u001b[0m\n\u001b[1;32m     20\u001b[0m \u001b[0;32mdef\u001b[0m \u001b[0mfind_infos\u001b[0m\u001b[0;34m(\u001b[0m\u001b[0murl\u001b[0m\u001b[0;34m)\u001b[0m\u001b[0;34m:\u001b[0m\u001b[0;34m\u001b[0m\u001b[0;34m\u001b[0m\u001b[0m\n\u001b[0;32m---> 21\u001b[0;31m     \u001b[0mhtml\u001b[0m \u001b[0;34m=\u001b[0m \u001b[0murl_open\u001b[0m\u001b[0;34m(\u001b[0m\u001b[0murl\u001b[0m\u001b[0;34m)\u001b[0m\u001b[0;34m.\u001b[0m\u001b[0mdecode\u001b[0m\u001b[0;34m(\u001b[0m\u001b[0;34m'utf-8'\u001b[0m\u001b[0;34m)\u001b[0m\u001b[0;34m\u001b[0m\u001b[0;34m\u001b[0m\u001b[0m\n\u001b[0m\u001b[1;32m     22\u001b[0m     \u001b[0minfos_addrs\u001b[0m \u001b[0;34m=\u001b[0m \u001b[0;34m[\u001b[0m\u001b[0;34m]\u001b[0m\u001b[0;34m\u001b[0m\u001b[0;34m\u001b[0m\u001b[0m\n\u001b[1;32m     23\u001b[0m \u001b[0;34m\u001b[0m\u001b[0m\n",
      "\u001b[0;32m<ipython-input-2-1357444733dc>\u001b[0m in \u001b[0;36murl_open\u001b[0;34m(url)\u001b[0m\n\u001b[1;32m      5\u001b[0m     \u001b[0mreq\u001b[0m \u001b[0;34m=\u001b[0m \u001b[0murllib\u001b[0m\u001b[0;34m.\u001b[0m\u001b[0mrequest\u001b[0m\u001b[0;34m.\u001b[0m\u001b[0mRequest\u001b[0m\u001b[0;34m(\u001b[0m\u001b[0murl\u001b[0m\u001b[0;34m)\u001b[0m\u001b[0;34m\u001b[0m\u001b[0;34m\u001b[0m\u001b[0m\n\u001b[1;32m      6\u001b[0m     \u001b[0mreq\u001b[0m\u001b[0;34m.\u001b[0m\u001b[0madd_header\u001b[0m\u001b[0;34m(\u001b[0m\u001b[0;34m'User-Agent'\u001b[0m\u001b[0;34m,\u001b[0m\u001b[0;34m'Mozilla/5.0 (Macintosh; Intel Mac OS X 10_13_6) AppleWebKit/537.36 (KHTML, like Gecko) Chrome/80.0.3987.132 Safari/537.36'\u001b[0m\u001b[0;34m)\u001b[0m\u001b[0;34m\u001b[0m\u001b[0;34m\u001b[0m\u001b[0m\n\u001b[0;32m----> 7\u001b[0;31m     \u001b[0mres\u001b[0m \u001b[0;34m=\u001b[0m \u001b[0murllib\u001b[0m\u001b[0;34m.\u001b[0m\u001b[0mrequest\u001b[0m\u001b[0;34m.\u001b[0m\u001b[0murlopen\u001b[0m\u001b[0;34m(\u001b[0m\u001b[0mreq\u001b[0m\u001b[0;34m)\u001b[0m\u001b[0;34m\u001b[0m\u001b[0;34m\u001b[0m\u001b[0m\n\u001b[0m\u001b[1;32m      8\u001b[0m     \u001b[0mhtml\u001b[0m \u001b[0;34m=\u001b[0m \u001b[0mres\u001b[0m\u001b[0;34m.\u001b[0m\u001b[0mread\u001b[0m\u001b[0;34m(\u001b[0m\u001b[0;34m)\u001b[0m\u001b[0;31m#二进制代码形式，在调用的函数中decode\u001b[0m\u001b[0;34m\u001b[0m\u001b[0;34m\u001b[0m\u001b[0m\n\u001b[1;32m      9\u001b[0m \u001b[0;34m\u001b[0m\u001b[0m\n",
      "\u001b[0;32m/opt/anaconda3/lib/python3.7/urllib/request.py\u001b[0m in \u001b[0;36murlopen\u001b[0;34m(url, data, timeout, cafile, capath, cadefault, context)\u001b[0m\n\u001b[1;32m    220\u001b[0m     \u001b[0;32melse\u001b[0m\u001b[0;34m:\u001b[0m\u001b[0;34m\u001b[0m\u001b[0;34m\u001b[0m\u001b[0m\n\u001b[1;32m    221\u001b[0m         \u001b[0mopener\u001b[0m \u001b[0;34m=\u001b[0m \u001b[0m_opener\u001b[0m\u001b[0;34m\u001b[0m\u001b[0;34m\u001b[0m\u001b[0m\n\u001b[0;32m--> 222\u001b[0;31m     \u001b[0;32mreturn\u001b[0m \u001b[0mopener\u001b[0m\u001b[0;34m.\u001b[0m\u001b[0mopen\u001b[0m\u001b[0;34m(\u001b[0m\u001b[0murl\u001b[0m\u001b[0;34m,\u001b[0m \u001b[0mdata\u001b[0m\u001b[0;34m,\u001b[0m \u001b[0mtimeout\u001b[0m\u001b[0;34m)\u001b[0m\u001b[0;34m\u001b[0m\u001b[0;34m\u001b[0m\u001b[0m\n\u001b[0m\u001b[1;32m    223\u001b[0m \u001b[0;34m\u001b[0m\u001b[0m\n\u001b[1;32m    224\u001b[0m \u001b[0;32mdef\u001b[0m \u001b[0minstall_opener\u001b[0m\u001b[0;34m(\u001b[0m\u001b[0mopener\u001b[0m\u001b[0;34m)\u001b[0m\u001b[0;34m:\u001b[0m\u001b[0;34m\u001b[0m\u001b[0;34m\u001b[0m\u001b[0m\n",
      "\u001b[0;32m/opt/anaconda3/lib/python3.7/urllib/request.py\u001b[0m in \u001b[0;36mopen\u001b[0;34m(self, fullurl, data, timeout)\u001b[0m\n\u001b[1;32m    529\u001b[0m         \u001b[0;32mfor\u001b[0m \u001b[0mprocessor\u001b[0m \u001b[0;32min\u001b[0m \u001b[0mself\u001b[0m\u001b[0;34m.\u001b[0m\u001b[0mprocess_response\u001b[0m\u001b[0;34m.\u001b[0m\u001b[0mget\u001b[0m\u001b[0;34m(\u001b[0m\u001b[0mprotocol\u001b[0m\u001b[0;34m,\u001b[0m \u001b[0;34m[\u001b[0m\u001b[0;34m]\u001b[0m\u001b[0;34m)\u001b[0m\u001b[0;34m:\u001b[0m\u001b[0;34m\u001b[0m\u001b[0;34m\u001b[0m\u001b[0m\n\u001b[1;32m    530\u001b[0m             \u001b[0mmeth\u001b[0m \u001b[0;34m=\u001b[0m \u001b[0mgetattr\u001b[0m\u001b[0;34m(\u001b[0m\u001b[0mprocessor\u001b[0m\u001b[0;34m,\u001b[0m \u001b[0mmeth_name\u001b[0m\u001b[0;34m)\u001b[0m\u001b[0;34m\u001b[0m\u001b[0;34m\u001b[0m\u001b[0m\n\u001b[0;32m--> 531\u001b[0;31m             \u001b[0mresponse\u001b[0m \u001b[0;34m=\u001b[0m \u001b[0mmeth\u001b[0m\u001b[0;34m(\u001b[0m\u001b[0mreq\u001b[0m\u001b[0;34m,\u001b[0m \u001b[0mresponse\u001b[0m\u001b[0;34m)\u001b[0m\u001b[0;34m\u001b[0m\u001b[0;34m\u001b[0m\u001b[0m\n\u001b[0m\u001b[1;32m    532\u001b[0m \u001b[0;34m\u001b[0m\u001b[0m\n\u001b[1;32m    533\u001b[0m         \u001b[0;32mreturn\u001b[0m \u001b[0mresponse\u001b[0m\u001b[0;34m\u001b[0m\u001b[0;34m\u001b[0m\u001b[0m\n",
      "\u001b[0;32m/opt/anaconda3/lib/python3.7/urllib/request.py\u001b[0m in \u001b[0;36mhttp_response\u001b[0;34m(self, request, response)\u001b[0m\n\u001b[1;32m    639\u001b[0m         \u001b[0;32mif\u001b[0m \u001b[0;32mnot\u001b[0m \u001b[0;34m(\u001b[0m\u001b[0;36m200\u001b[0m \u001b[0;34m<=\u001b[0m \u001b[0mcode\u001b[0m \u001b[0;34m<\u001b[0m \u001b[0;36m300\u001b[0m\u001b[0;34m)\u001b[0m\u001b[0;34m:\u001b[0m\u001b[0;34m\u001b[0m\u001b[0;34m\u001b[0m\u001b[0m\n\u001b[1;32m    640\u001b[0m             response = self.parent.error(\n\u001b[0;32m--> 641\u001b[0;31m                 'http', request, response, code, msg, hdrs)\n\u001b[0m\u001b[1;32m    642\u001b[0m \u001b[0;34m\u001b[0m\u001b[0m\n\u001b[1;32m    643\u001b[0m         \u001b[0;32mreturn\u001b[0m \u001b[0mresponse\u001b[0m\u001b[0;34m\u001b[0m\u001b[0;34m\u001b[0m\u001b[0m\n",
      "\u001b[0;32m/opt/anaconda3/lib/python3.7/urllib/request.py\u001b[0m in \u001b[0;36merror\u001b[0;34m(self, proto, *args)\u001b[0m\n\u001b[1;32m    561\u001b[0m             \u001b[0mhttp_err\u001b[0m \u001b[0;34m=\u001b[0m \u001b[0;36m0\u001b[0m\u001b[0;34m\u001b[0m\u001b[0;34m\u001b[0m\u001b[0m\n\u001b[1;32m    562\u001b[0m         \u001b[0margs\u001b[0m \u001b[0;34m=\u001b[0m \u001b[0;34m(\u001b[0m\u001b[0mdict\u001b[0m\u001b[0;34m,\u001b[0m \u001b[0mproto\u001b[0m\u001b[0;34m,\u001b[0m \u001b[0mmeth_name\u001b[0m\u001b[0;34m)\u001b[0m \u001b[0;34m+\u001b[0m \u001b[0margs\u001b[0m\u001b[0;34m\u001b[0m\u001b[0;34m\u001b[0m\u001b[0m\n\u001b[0;32m--> 563\u001b[0;31m         \u001b[0mresult\u001b[0m \u001b[0;34m=\u001b[0m \u001b[0mself\u001b[0m\u001b[0;34m.\u001b[0m\u001b[0m_call_chain\u001b[0m\u001b[0;34m(\u001b[0m\u001b[0;34m*\u001b[0m\u001b[0margs\u001b[0m\u001b[0;34m)\u001b[0m\u001b[0;34m\u001b[0m\u001b[0;34m\u001b[0m\u001b[0m\n\u001b[0m\u001b[1;32m    564\u001b[0m         \u001b[0;32mif\u001b[0m \u001b[0mresult\u001b[0m\u001b[0;34m:\u001b[0m\u001b[0;34m\u001b[0m\u001b[0;34m\u001b[0m\u001b[0m\n\u001b[1;32m    565\u001b[0m             \u001b[0;32mreturn\u001b[0m \u001b[0mresult\u001b[0m\u001b[0;34m\u001b[0m\u001b[0;34m\u001b[0m\u001b[0m\n",
      "\u001b[0;32m/opt/anaconda3/lib/python3.7/urllib/request.py\u001b[0m in \u001b[0;36m_call_chain\u001b[0;34m(self, chain, kind, meth_name, *args)\u001b[0m\n\u001b[1;32m    501\u001b[0m         \u001b[0;32mfor\u001b[0m \u001b[0mhandler\u001b[0m \u001b[0;32min\u001b[0m \u001b[0mhandlers\u001b[0m\u001b[0;34m:\u001b[0m\u001b[0;34m\u001b[0m\u001b[0;34m\u001b[0m\u001b[0m\n\u001b[1;32m    502\u001b[0m             \u001b[0mfunc\u001b[0m \u001b[0;34m=\u001b[0m \u001b[0mgetattr\u001b[0m\u001b[0;34m(\u001b[0m\u001b[0mhandler\u001b[0m\u001b[0;34m,\u001b[0m \u001b[0mmeth_name\u001b[0m\u001b[0;34m)\u001b[0m\u001b[0;34m\u001b[0m\u001b[0;34m\u001b[0m\u001b[0m\n\u001b[0;32m--> 503\u001b[0;31m             \u001b[0mresult\u001b[0m \u001b[0;34m=\u001b[0m \u001b[0mfunc\u001b[0m\u001b[0;34m(\u001b[0m\u001b[0;34m*\u001b[0m\u001b[0margs\u001b[0m\u001b[0;34m)\u001b[0m\u001b[0;34m\u001b[0m\u001b[0;34m\u001b[0m\u001b[0m\n\u001b[0m\u001b[1;32m    504\u001b[0m             \u001b[0;32mif\u001b[0m \u001b[0mresult\u001b[0m \u001b[0;32mis\u001b[0m \u001b[0;32mnot\u001b[0m \u001b[0;32mNone\u001b[0m\u001b[0;34m:\u001b[0m\u001b[0;34m\u001b[0m\u001b[0;34m\u001b[0m\u001b[0m\n\u001b[1;32m    505\u001b[0m                 \u001b[0;32mreturn\u001b[0m \u001b[0mresult\u001b[0m\u001b[0;34m\u001b[0m\u001b[0;34m\u001b[0m\u001b[0m\n",
      "\u001b[0;32m/opt/anaconda3/lib/python3.7/urllib/request.py\u001b[0m in \u001b[0;36mhttp_error_302\u001b[0;34m(self, req, fp, code, msg, headers)\u001b[0m\n\u001b[1;32m    753\u001b[0m         \u001b[0mfp\u001b[0m\u001b[0;34m.\u001b[0m\u001b[0mclose\u001b[0m\u001b[0;34m(\u001b[0m\u001b[0;34m)\u001b[0m\u001b[0;34m\u001b[0m\u001b[0;34m\u001b[0m\u001b[0m\n\u001b[1;32m    754\u001b[0m \u001b[0;34m\u001b[0m\u001b[0m\n\u001b[0;32m--> 755\u001b[0;31m         \u001b[0;32mreturn\u001b[0m \u001b[0mself\u001b[0m\u001b[0;34m.\u001b[0m\u001b[0mparent\u001b[0m\u001b[0;34m.\u001b[0m\u001b[0mopen\u001b[0m\u001b[0;34m(\u001b[0m\u001b[0mnew\u001b[0m\u001b[0;34m,\u001b[0m \u001b[0mtimeout\u001b[0m\u001b[0;34m=\u001b[0m\u001b[0mreq\u001b[0m\u001b[0;34m.\u001b[0m\u001b[0mtimeout\u001b[0m\u001b[0;34m)\u001b[0m\u001b[0;34m\u001b[0m\u001b[0;34m\u001b[0m\u001b[0m\n\u001b[0m\u001b[1;32m    756\u001b[0m \u001b[0;34m\u001b[0m\u001b[0m\n\u001b[1;32m    757\u001b[0m     \u001b[0mhttp_error_301\u001b[0m \u001b[0;34m=\u001b[0m \u001b[0mhttp_error_303\u001b[0m \u001b[0;34m=\u001b[0m \u001b[0mhttp_error_307\u001b[0m \u001b[0;34m=\u001b[0m \u001b[0mhttp_error_302\u001b[0m\u001b[0;34m\u001b[0m\u001b[0;34m\u001b[0m\u001b[0m\n",
      "\u001b[0;32m/opt/anaconda3/lib/python3.7/urllib/request.py\u001b[0m in \u001b[0;36mopen\u001b[0;34m(self, fullurl, data, timeout)\u001b[0m\n\u001b[1;32m    529\u001b[0m         \u001b[0;32mfor\u001b[0m \u001b[0mprocessor\u001b[0m \u001b[0;32min\u001b[0m \u001b[0mself\u001b[0m\u001b[0;34m.\u001b[0m\u001b[0mprocess_response\u001b[0m\u001b[0;34m.\u001b[0m\u001b[0mget\u001b[0m\u001b[0;34m(\u001b[0m\u001b[0mprotocol\u001b[0m\u001b[0;34m,\u001b[0m \u001b[0;34m[\u001b[0m\u001b[0;34m]\u001b[0m\u001b[0;34m)\u001b[0m\u001b[0;34m:\u001b[0m\u001b[0;34m\u001b[0m\u001b[0;34m\u001b[0m\u001b[0m\n\u001b[1;32m    530\u001b[0m             \u001b[0mmeth\u001b[0m \u001b[0;34m=\u001b[0m \u001b[0mgetattr\u001b[0m\u001b[0;34m(\u001b[0m\u001b[0mprocessor\u001b[0m\u001b[0;34m,\u001b[0m \u001b[0mmeth_name\u001b[0m\u001b[0;34m)\u001b[0m\u001b[0;34m\u001b[0m\u001b[0;34m\u001b[0m\u001b[0m\n\u001b[0;32m--> 531\u001b[0;31m             \u001b[0mresponse\u001b[0m \u001b[0;34m=\u001b[0m \u001b[0mmeth\u001b[0m\u001b[0;34m(\u001b[0m\u001b[0mreq\u001b[0m\u001b[0;34m,\u001b[0m \u001b[0mresponse\u001b[0m\u001b[0;34m)\u001b[0m\u001b[0;34m\u001b[0m\u001b[0;34m\u001b[0m\u001b[0m\n\u001b[0m\u001b[1;32m    532\u001b[0m \u001b[0;34m\u001b[0m\u001b[0m\n\u001b[1;32m    533\u001b[0m         \u001b[0;32mreturn\u001b[0m \u001b[0mresponse\u001b[0m\u001b[0;34m\u001b[0m\u001b[0;34m\u001b[0m\u001b[0m\n",
      "\u001b[0;32m/opt/anaconda3/lib/python3.7/urllib/request.py\u001b[0m in \u001b[0;36mhttp_response\u001b[0;34m(self, request, response)\u001b[0m\n\u001b[1;32m    639\u001b[0m         \u001b[0;32mif\u001b[0m \u001b[0;32mnot\u001b[0m \u001b[0;34m(\u001b[0m\u001b[0;36m200\u001b[0m \u001b[0;34m<=\u001b[0m \u001b[0mcode\u001b[0m \u001b[0;34m<\u001b[0m \u001b[0;36m300\u001b[0m\u001b[0;34m)\u001b[0m\u001b[0;34m:\u001b[0m\u001b[0;34m\u001b[0m\u001b[0;34m\u001b[0m\u001b[0m\n\u001b[1;32m    640\u001b[0m             response = self.parent.error(\n\u001b[0;32m--> 641\u001b[0;31m                 'http', request, response, code, msg, hdrs)\n\u001b[0m\u001b[1;32m    642\u001b[0m \u001b[0;34m\u001b[0m\u001b[0m\n\u001b[1;32m    643\u001b[0m         \u001b[0;32mreturn\u001b[0m \u001b[0mresponse\u001b[0m\u001b[0;34m\u001b[0m\u001b[0;34m\u001b[0m\u001b[0m\n",
      "\u001b[0;32m/opt/anaconda3/lib/python3.7/urllib/request.py\u001b[0m in \u001b[0;36merror\u001b[0;34m(self, proto, *args)\u001b[0m\n\u001b[1;32m    567\u001b[0m         \u001b[0;32mif\u001b[0m \u001b[0mhttp_err\u001b[0m\u001b[0;34m:\u001b[0m\u001b[0;34m\u001b[0m\u001b[0;34m\u001b[0m\u001b[0m\n\u001b[1;32m    568\u001b[0m             \u001b[0margs\u001b[0m \u001b[0;34m=\u001b[0m \u001b[0;34m(\u001b[0m\u001b[0mdict\u001b[0m\u001b[0;34m,\u001b[0m \u001b[0;34m'default'\u001b[0m\u001b[0;34m,\u001b[0m \u001b[0;34m'http_error_default'\u001b[0m\u001b[0;34m)\u001b[0m \u001b[0;34m+\u001b[0m \u001b[0morig_args\u001b[0m\u001b[0;34m\u001b[0m\u001b[0;34m\u001b[0m\u001b[0m\n\u001b[0;32m--> 569\u001b[0;31m             \u001b[0;32mreturn\u001b[0m \u001b[0mself\u001b[0m\u001b[0;34m.\u001b[0m\u001b[0m_call_chain\u001b[0m\u001b[0;34m(\u001b[0m\u001b[0;34m*\u001b[0m\u001b[0margs\u001b[0m\u001b[0;34m)\u001b[0m\u001b[0;34m\u001b[0m\u001b[0;34m\u001b[0m\u001b[0m\n\u001b[0m\u001b[1;32m    570\u001b[0m \u001b[0;34m\u001b[0m\u001b[0m\n\u001b[1;32m    571\u001b[0m \u001b[0;31m# XXX probably also want an abstract factory that knows when it makes\u001b[0m\u001b[0;34m\u001b[0m\u001b[0;34m\u001b[0m\u001b[0;34m\u001b[0m\u001b[0m\n",
      "\u001b[0;32m/opt/anaconda3/lib/python3.7/urllib/request.py\u001b[0m in \u001b[0;36m_call_chain\u001b[0;34m(self, chain, kind, meth_name, *args)\u001b[0m\n\u001b[1;32m    501\u001b[0m         \u001b[0;32mfor\u001b[0m \u001b[0mhandler\u001b[0m \u001b[0;32min\u001b[0m \u001b[0mhandlers\u001b[0m\u001b[0;34m:\u001b[0m\u001b[0;34m\u001b[0m\u001b[0;34m\u001b[0m\u001b[0m\n\u001b[1;32m    502\u001b[0m             \u001b[0mfunc\u001b[0m \u001b[0;34m=\u001b[0m \u001b[0mgetattr\u001b[0m\u001b[0;34m(\u001b[0m\u001b[0mhandler\u001b[0m\u001b[0;34m,\u001b[0m \u001b[0mmeth_name\u001b[0m\u001b[0;34m)\u001b[0m\u001b[0;34m\u001b[0m\u001b[0;34m\u001b[0m\u001b[0m\n\u001b[0;32m--> 503\u001b[0;31m             \u001b[0mresult\u001b[0m \u001b[0;34m=\u001b[0m \u001b[0mfunc\u001b[0m\u001b[0;34m(\u001b[0m\u001b[0;34m*\u001b[0m\u001b[0margs\u001b[0m\u001b[0;34m)\u001b[0m\u001b[0;34m\u001b[0m\u001b[0;34m\u001b[0m\u001b[0m\n\u001b[0m\u001b[1;32m    504\u001b[0m             \u001b[0;32mif\u001b[0m \u001b[0mresult\u001b[0m \u001b[0;32mis\u001b[0m \u001b[0;32mnot\u001b[0m \u001b[0;32mNone\u001b[0m\u001b[0;34m:\u001b[0m\u001b[0;34m\u001b[0m\u001b[0;34m\u001b[0m\u001b[0m\n\u001b[1;32m    505\u001b[0m                 \u001b[0;32mreturn\u001b[0m \u001b[0mresult\u001b[0m\u001b[0;34m\u001b[0m\u001b[0;34m\u001b[0m\u001b[0m\n",
      "\u001b[0;32m/opt/anaconda3/lib/python3.7/urllib/request.py\u001b[0m in \u001b[0;36mhttp_error_default\u001b[0;34m(self, req, fp, code, msg, hdrs)\u001b[0m\n\u001b[1;32m    647\u001b[0m \u001b[0;32mclass\u001b[0m \u001b[0mHTTPDefaultErrorHandler\u001b[0m\u001b[0;34m(\u001b[0m\u001b[0mBaseHandler\u001b[0m\u001b[0;34m)\u001b[0m\u001b[0;34m:\u001b[0m\u001b[0;34m\u001b[0m\u001b[0;34m\u001b[0m\u001b[0m\n\u001b[1;32m    648\u001b[0m     \u001b[0;32mdef\u001b[0m \u001b[0mhttp_error_default\u001b[0m\u001b[0;34m(\u001b[0m\u001b[0mself\u001b[0m\u001b[0;34m,\u001b[0m \u001b[0mreq\u001b[0m\u001b[0;34m,\u001b[0m \u001b[0mfp\u001b[0m\u001b[0;34m,\u001b[0m \u001b[0mcode\u001b[0m\u001b[0;34m,\u001b[0m \u001b[0mmsg\u001b[0m\u001b[0;34m,\u001b[0m \u001b[0mhdrs\u001b[0m\u001b[0;34m)\u001b[0m\u001b[0;34m:\u001b[0m\u001b[0;34m\u001b[0m\u001b[0;34m\u001b[0m\u001b[0m\n\u001b[0;32m--> 649\u001b[0;31m         \u001b[0;32mraise\u001b[0m \u001b[0mHTTPError\u001b[0m\u001b[0;34m(\u001b[0m\u001b[0mreq\u001b[0m\u001b[0;34m.\u001b[0m\u001b[0mfull_url\u001b[0m\u001b[0;34m,\u001b[0m \u001b[0mcode\u001b[0m\u001b[0;34m,\u001b[0m \u001b[0mmsg\u001b[0m\u001b[0;34m,\u001b[0m \u001b[0mhdrs\u001b[0m\u001b[0;34m,\u001b[0m \u001b[0mfp\u001b[0m\u001b[0;34m)\u001b[0m\u001b[0;34m\u001b[0m\u001b[0;34m\u001b[0m\u001b[0m\n\u001b[0m\u001b[1;32m    650\u001b[0m \u001b[0;34m\u001b[0m\u001b[0m\n\u001b[1;32m    651\u001b[0m \u001b[0;32mclass\u001b[0m \u001b[0mHTTPRedirectHandler\u001b[0m\u001b[0;34m(\u001b[0m\u001b[0mBaseHandler\u001b[0m\u001b[0;34m)\u001b[0m\u001b[0;34m:\u001b[0m\u001b[0;34m\u001b[0m\u001b[0;34m\u001b[0m\u001b[0m\n",
      "\u001b[0;31mHTTPError\u001b[0m: HTTP Error 404: Not Found"
     ]
    }
   ],
   "source": [
    "import urllib.request\n",
    "import os #创建文件夹保存图片\n",
    "import random\n",
    "\n",
    "def url_open(url):\n",
    "    req = urllib.request.Request(url)\n",
    "    req.add_header('User-Agent','Mozilla/5.0 (Macintosh; Intel Mac OS X 10_13_6) AppleWebKit/537.36 (KHTML, like Gecko) Chrome/80.0.3987.132 Safari/537.36')\n",
    "    \n",
    "    #建立一个ip list,自动采集一个ip\n",
    "    iplist = ['119.6.144.73:81','183.203.208.166:8118','111.1.32.28:81']\n",
    "    proxy_support = urllib.request.ProxyHandler({'http':random.choice(iplist)})\n",
    "    opener = urllib.request.build_opener(proxy_support)\n",
    "    urllib.request.install_opener(opener)\n",
    "    res = urllib.request.urlopen(url)\n",
    "\n",
    "    #res = urllib.request.urlopen(req)#不用代理时\n",
    "    html = res.read()#二进制代码形式，在调用的函数中decode\n",
    "    \n",
    "    return html\n",
    "    \n",
    "def get_page(url):\n",
    "    html = url_open(url).decode('utf-8')\n",
    "    #print(html)\n",
    "    \n",
    "    a = html.find('current-comment-page')+23  #查找+23个偏移\n",
    "    b = html.find(']',a)\n",
    "    return html[a:b]\n",
    "    \n",
    "def find_infos(url):\n",
    "    html = url_open(url).decode('utf-8')\n",
    "    infos_addrs = []\n",
    "    \n",
    "    a = html.find('img src=')\n",
    "    b = html.find('.jpg',a,a + 255)\n",
    "    if b != -1:\n",
    "        infos_addrs.append(html[a+9,b+4])\n",
    "    else:\n",
    "        b = a+9\n",
    "        \n",
    "    a = html.find('img src=',b)\n",
    "    \n",
    "    #for each in infos_addrs:\n",
    "    #    print(each)\n",
    "    return infos_addrs\n",
    "\n",
    "def save_imgs(folder,infos_addrs):\n",
    "    for each in infos_addrs:\n",
    "        filename = each.split('/')[-1]\n",
    "        with open(filename,'wb') as f:\n",
    "            img = url_open(each)\n",
    "            f.write(img)\n",
    "        \n",
    "#主函数\n",
    "def download_mm(folder = 'ooxx', pages = 10):\n",
    "    os.mkdir(folder)\n",
    "    os.chdir(folder)\n",
    "    \n",
    "    url = 'http://jiandan.net/ooxx'\n",
    "    page_num = int(get_page(url))\n",
    "\n",
    "    for i in range(pages):\n",
    "        page_num -= i\n",
    "        page_url = url + '/page-' + str(page_num)+ '#comments'\n",
    "        infos_addrs = find_infos(page_url)\n",
    "        save_infos(folder,infos_addrs)\n",
    "            \n",
    "if __name__ == '__main__':\n",
    "    download_mm()"
   ]
  },
  {
   "cell_type": "code",
   "execution_count": null,
   "metadata": {},
   "outputs": [],
   "source": [
    "#用代理时可能会有其他图片乱入"
   ]
  },
  {
   "cell_type": "markdown",
   "metadata": {},
   "source": [
    "057：论一只爬虫的自我修养5 --正则表达式\n",
    "在踩点时我们要定位字符串位置，但这一过程用find不仅没有通用性，且极易无效\n",
    "所以我们希望通过特征查找字符串————正则表达式\n",
    "\n",
    "正则表达式本身就是一个问题：描述复杂规则的工具"
   ]
  },
  {
   "cell_type": "code",
   "execution_count": 3,
   "metadata": {},
   "outputs": [
    {
     "data": {
      "text/plain": [
       "<re.Match object; span=(7, 12), match='FishC'>"
      ]
     },
     "execution_count": 3,
     "metadata": {},
     "output_type": "execute_result"
    }
   ],
   "source": [
    "import re\n",
    "re.search(r'FishC','I love FishC.com')#r 表示原始表达式，也避免了不必要的拓展搜索"
   ]
  },
  {
   "cell_type": "code",
   "execution_count": 4,
   "metadata": {},
   "outputs": [
    {
     "data": {
      "text/plain": [
       "7"
      ]
     },
     "execution_count": 4,
     "metadata": {},
     "output_type": "execute_result"
    }
   ],
   "source": [
    "'I love FishC.com'.find('FishC')"
   ]
  },
  {
   "cell_type": "code",
   "execution_count": 5,
   "metadata": {},
   "outputs": [
    {
     "data": {
      "text/plain": [
       "<re.Match object; span=(0, 1), match='I'>"
      ]
     },
     "execution_count": 5,
     "metadata": {},
     "output_type": "execute_result"
    }
   ],
   "source": [
    "#但以下这种情况find不能使用\n",
    "re.search(r'.', 'I love FishC.com')#.可以匹配任何字符"
   ]
  },
  {
   "cell_type": "code",
   "execution_count": 6,
   "metadata": {},
   "outputs": [
    {
     "data": {
      "text/plain": [
       "<re.Match object; span=(7, 12), match='FishC'>"
      ]
     },
     "execution_count": 6,
     "metadata": {},
     "output_type": "execute_result"
    }
   ],
   "source": [
    "re.search(r'FishC','I love FishC.com')#r 表示原始表达式，也避免了不必要的拓展搜索"
   ]
  },
  {
   "cell_type": "code",
   "execution_count": 7,
   "metadata": {},
   "outputs": [
    {
     "data": {
      "text/plain": [
       "<re.Match object; span=(12, 13), match='.'>"
      ]
     },
     "execution_count": 7,
     "metadata": {},
     "output_type": "execute_result"
    }
   ],
   "source": [
    "re.search(r'\\.', 'I love FishC.com')#\\能够剥夺原始元字符"
   ]
  },
  {
   "cell_type": "code",
   "execution_count": 8,
   "metadata": {},
   "outputs": [
    {
     "data": {
      "text/plain": [
       "<re.Match object; span=(7, 8), match='1'>"
      ]
     },
     "execution_count": 8,
     "metadata": {},
     "output_type": "execute_result"
    }
   ],
   "source": [
    "re.search(r'\\d', 'I love 12 3 FishC.com')#\\d 匹配数字"
   ]
  },
  {
   "cell_type": "code",
   "execution_count": 11,
   "metadata": {},
   "outputs": [
    {
     "data": {
      "text/plain": [
       "<re.Match object; span=(7, 11), match='12 3'>"
      ]
     },
     "execution_count": 11,
     "metadata": {},
     "output_type": "execute_result"
    }
   ],
   "source": [
    "re.search(r'\\d\\d \\d', 'I love 12 3 FishC.com')#.可以匹配任何字符"
   ]
  },
  {
   "cell_type": "code",
   "execution_count": 12,
   "metadata": {},
   "outputs": [
    {
     "data": {
      "text/plain": [
       "<re.Match object; span=(0, 15), match='192.168.111.123'>"
      ]
     },
     "execution_count": 12,
     "metadata": {},
     "output_type": "execute_result"
    }
   ],
   "source": [
    "re.search(r'\\d\\d\\d.\\d\\d\\d.\\d\\d\\d.\\d\\d\\d','192.168.111.123')"
   ]
  },
  {
   "cell_type": "code",
   "execution_count": 13,
   "metadata": {},
   "outputs": [],
   "source": [
    "re.search(r'\\d\\d\\d.\\d\\d\\d.\\d\\d\\d.\\d\\d\\d','192.168.1.1')"
   ]
  },
  {
   "cell_type": "code",
   "execution_count": 14,
   "metadata": {},
   "outputs": [
    {
     "data": {
      "text/plain": [
       "<re.Match object; span=(3, 4), match='o'>"
      ]
     },
     "execution_count": 14,
     "metadata": {},
     "output_type": "execute_result"
    }
   ],
   "source": [
    "#字符类\n",
    "re.search(r'[aeiou]','I love 12 3 FishC.com')#对大小写敏感，可以关闭大小写敏感模式或是修改字符类，或者"
   ]
  },
  {
   "cell_type": "code",
   "execution_count": 15,
   "metadata": {},
   "outputs": [
    {
     "data": {
      "text/plain": [
       "<re.Match object; span=(0, 1), match='I'>"
      ]
     },
     "execution_count": 15,
     "metadata": {},
     "output_type": "execute_result"
    }
   ],
   "source": [
    "re.search(r'[aeiouAEIOU]','I love 12 3 FishC.com')"
   ]
  },
  {
   "cell_type": "code",
   "execution_count": 16,
   "metadata": {},
   "outputs": [
    {
     "data": {
      "text/plain": [
       "<re.Match object; span=(2, 3), match='l'>"
      ]
     },
     "execution_count": 16,
     "metadata": {},
     "output_type": "execute_result"
    }
   ],
   "source": [
    "re.search(r'[a-z]','I love 12 3 FishC.com')"
   ]
  },
  {
   "cell_type": "code",
   "execution_count": 17,
   "metadata": {},
   "outputs": [
    {
     "data": {
      "text/plain": [
       "<re.Match object; span=(7, 8), match='1'>"
      ]
     },
     "execution_count": 17,
     "metadata": {},
     "output_type": "execute_result"
    }
   ],
   "source": [
    "re.search(r'[0-9]','I love 12 3 FishC.com')"
   ]
  },
  {
   "cell_type": "code",
   "execution_count": 18,
   "metadata": {},
   "outputs": [
    {
     "data": {
      "text/plain": [
       "<re.Match object; span=(9, 14), match='abbbc'>"
      ]
     },
     "execution_count": 18,
     "metadata": {},
     "output_type": "execute_result"
    }
   ],
   "source": [
    "re.search(r'ab{3}c','I love 12abbbc 3 FishC.com')#{3}指的是前面的字符重复3次"
   ]
  },
  {
   "cell_type": "code",
   "execution_count": 19,
   "metadata": {},
   "outputs": [],
   "source": [
    "re.search(r'ab{3，10}c','I love 12abbbc 3 FishC.com')#{3，10}指的是前面的字符重复次数从3-10次范围内\n",
    "#找不到所以没有输出"
   ]
  },
  {
   "cell_type": "code",
   "execution_count": 20,
   "metadata": {},
   "outputs": [
    {
     "data": {
      "text/plain": [
       "<re.Match object; span=(0, 1), match='1'>"
      ]
     },
     "execution_count": 20,
     "metadata": {},
     "output_type": "execute_result"
    }
   ],
   "source": [
    "#现在，需要找到188\n",
    "re.search(r'[0-255]','188')#只能找到1"
   ]
  },
  {
   "cell_type": "code",
   "execution_count": 21,
   "metadata": {},
   "outputs": [],
   "source": [
    "#改进\n",
    "re.search(r'[0-2][0-5][0-5]','188')#超出范围"
   ]
  },
  {
   "cell_type": "code",
   "execution_count": 22,
   "metadata": {},
   "outputs": [
    {
     "data": {
      "text/plain": [
       "<re.Match object; span=(0, 3), match='188'>"
      ]
     },
     "execution_count": 22,
     "metadata": {},
     "output_type": "execute_result"
    }
   ],
   "source": [
    "#改进\n",
    "re.search(r'[01]\\d\\d|2[0-4]\\d|25[0-5]','188')"
   ]
  },
  {
   "cell_type": "code",
   "execution_count": 27,
   "metadata": {},
   "outputs": [
    {
     "data": {
      "text/plain": [
       "<re.Match object; span=(0, 11), match='192.168.1.1'>"
      ]
     },
     "execution_count": 27,
     "metadata": {},
     "output_type": "execute_result"
    }
   ],
   "source": [
    "#改进\n",
    "re.search(r'(([01]{0,1}\\d{0,1}\\d|2[0-4]\\d|25[0-5])\\.){3}([01]{0,1}\\d{0,1}\\d|2[0-4]\\d|25[0-5])','192.168.1.1')"
   ]
  },
  {
   "cell_type": "markdown",
   "metadata": {},
   "source": [
    "拓展阅读：Python的正则表达式"
   ]
  },
  {
   "cell_type": "markdown",
   "metadata": {},
   "source": [
    "058：论一只爬虫的自我修养6 --正则表达式2\n",
    "Python3正则表示符号列表，学会查表\n",
    "元字符：. ^ $ * + ? {} [] \\ | ()"
   ]
  },
  {
   "cell_type": "code",
   "execution_count": 28,
   "metadata": {},
   "outputs": [
    {
     "data": {
      "text/plain": [
       "<re.Match object; span=(7, 12), match='FishC'>"
      ]
     },
     "execution_count": 28,
     "metadata": {},
     "output_type": "execute_result"
    }
   ],
   "source": [
    "import re\n",
    "re.search(r'Fish(C|D)','I love FishC.com')"
   ]
  },
  {
   "cell_type": "code",
   "execution_count": 29,
   "metadata": {},
   "outputs": [],
   "source": [
    "#脱字符^--匹配字符串的开始位置\n",
    "import re\n",
    "re.search(r'^FishC','I love FishC.com')#不在开头"
   ]
  },
  {
   "cell_type": "code",
   "execution_count": 30,
   "metadata": {},
   "outputs": [
    {
     "data": {
      "text/plain": [
       "<re.Match object; span=(0, 5), match='FishC'>"
      ]
     },
     "execution_count": 30,
     "metadata": {},
     "output_type": "execute_result"
    }
   ],
   "source": [
    "re.search(r'^FishC','FishC.com')"
   ]
  },
  {
   "cell_type": "code",
   "execution_count": 32,
   "metadata": {},
   "outputs": [],
   "source": [
    "#$--匹配字符串的结束位置\n",
    "re.search(r'FishC$','FishC.com')#不在结束位置，所以没法匹配"
   ]
  },
  {
   "cell_type": "code",
   "execution_count": 33,
   "metadata": {},
   "outputs": [
    {
     "data": {
      "text/plain": [
       "<re.Match object; span=(7, 12), match='FishC'>"
      ]
     },
     "execution_count": 33,
     "metadata": {},
     "output_type": "execute_result"
    }
   ],
   "source": [
    "re.search(r'FishC','I love FishC')"
   ]
  },
  {
   "cell_type": "code",
   "execution_count": null,
   "metadata": {},
   "outputs": [],
   "source": [
    "#\\:\n",
    "###可以将普通字符变成特殊字符\\d；\n",
    "###也可以解除元字符的特殊功能\\.;\n",
    "###\\1-99表示对应序号对应的子组所匹配的字符串；\n",
    "###\\0开头或三位数表示八进制，表示八进制ASC码对应的字符"
   ]
  },
  {
   "cell_type": "code",
   "execution_count": 35,
   "metadata": {},
   "outputs": [],
   "source": [
    "re.search(r'(FishC)\\1','I love FishC')#(FishC)\\1表示FishC为一个组，从序号为1（从0计算起）"
   ]
  },
  {
   "cell_type": "code",
   "execution_count": 36,
   "metadata": {},
   "outputs": [
    {
     "data": {
      "text/plain": [
       "<re.Match object; span=(0, 10), match='FishCFishC'>"
      ]
     },
     "execution_count": 36,
     "metadata": {},
     "output_type": "execute_result"
    }
   ],
   "source": [
    "re.search(r'(FishC)\\1','FishCFishC')#r'(FishC)\\1'=r'FishCFishC'"
   ]
  },
  {
   "cell_type": "code",
   "execution_count": 38,
   "metadata": {},
   "outputs": [
    {
     "data": {
      "text/plain": [
       "<re.Match object; span=(0, 6), match='FishC0'>"
      ]
     },
     "execution_count": 38,
     "metadata": {},
     "output_type": "execute_result"
    }
   ],
   "source": [
    "re.search(r'(FishC)\\060','FishC0FishC')#060是0的八进制ASC码，也就是r'(FishC)\\060' = r'FishC0'"
   ]
  },
  {
   "cell_type": "code",
   "execution_count": 39,
   "metadata": {},
   "outputs": [
    {
     "data": {
      "text/plain": [
       "<re.Match object; span=(6, 12), match='FishCa'>"
      ]
     },
     "execution_count": 39,
     "metadata": {},
     "output_type": "execute_result"
    }
   ],
   "source": [
    "re.search(r'(FishC)\\141','FishC0FishCa')#141是0的八进制ASC码，也就是r'(FishC)\\141' = r'FishCa'"
   ]
  },
  {
   "cell_type": "code",
   "execution_count": 42,
   "metadata": {},
   "outputs": [
    {
     "data": {
      "text/plain": [
       "<re.Match object; span=(12, 13), match='.'>"
      ]
     },
     "execution_count": 42,
     "metadata": {},
     "output_type": "execute_result"
    }
   ],
   "source": [
    "#[...]字符类，一个集合，但[.] = \\.\n",
    "re.search(r'\\.','I love FishC.com')"
   ]
  },
  {
   "cell_type": "code",
   "execution_count": 43,
   "metadata": {},
   "outputs": [
    {
     "data": {
      "text/plain": [
       "<re.Match object; span=(12, 13), match='.'>"
      ]
     },
     "execution_count": 43,
     "metadata": {},
     "output_type": "execute_result"
    }
   ],
   "source": [
    "re.search(r'[.]','I love FishC.com')"
   ]
  },
  {
   "cell_type": "code",
   "execution_count": 44,
   "metadata": {},
   "outputs": [
    {
     "data": {
      "text/plain": [
       "['l', 'o', 'v', 'e', 'i', 's', 'h', 'c', 'o', 'm']"
      ]
     },
     "execution_count": 44,
     "metadata": {},
     "output_type": "execute_result"
    }
   ],
   "source": [
    "re.findall(r'[a-z]','I love FishC.com')#findall找到其中所有包含的字母"
   ]
  },
  {
   "cell_type": "code",
   "execution_count": 45,
   "metadata": {},
   "outputs": [
    {
     "name": "stderr",
     "output_type": "stream",
     "text": [
      "ERROR:root:Internal Python error in the inspect module.\n",
      "Below is the traceback from this internal error.\n",
      "\n"
     ]
    },
    {
     "name": "stdout",
     "output_type": "stream",
     "text": [
      "Traceback (most recent call last):\n",
      "  File \"/opt/anaconda3/lib/python3.7/site-packages/IPython/core/interactiveshell.py\", line 3326, in run_code\n",
      "    exec(code_obj, self.user_global_ns, self.user_ns)\n",
      "  File \"<ipython-input-45-4afdf3d16f7b>\", line 1, in <module>\n",
      "    re.search(r'[\\]','I love FishC')\n",
      "  File \"/opt/anaconda3/lib/python3.7/re.py\", line 183, in search\n",
      "    return _compile(pattern, flags).search(string)\n",
      "  File \"/opt/anaconda3/lib/python3.7/re.py\", line 286, in _compile\n",
      "    p = sre_compile.compile(pattern, flags)\n",
      "  File \"/opt/anaconda3/lib/python3.7/sre_compile.py\", line 764, in compile\n",
      "    p = sre_parse.parse(p, flags)\n",
      "  File \"/opt/anaconda3/lib/python3.7/sre_parse.py\", line 930, in parse\n",
      "    p = _parse_sub(source, pattern, flags & SRE_FLAG_VERBOSE, 0)\n",
      "  File \"/opt/anaconda3/lib/python3.7/sre_parse.py\", line 426, in _parse_sub\n",
      "    not nested and not items))\n",
      "  File \"/opt/anaconda3/lib/python3.7/sre_parse.py\", line 532, in _parse\n",
      "    source.tell() - here)\n",
      "re.error: unterminated character set at position 0\n",
      "\n",
      "During handling of the above exception, another exception occurred:\n",
      "\n",
      "Traceback (most recent call last):\n",
      "  File \"/opt/anaconda3/lib/python3.7/site-packages/IPython/core/interactiveshell.py\", line 2040, in showtraceback\n",
      "    stb = value._render_traceback_()\n",
      "AttributeError: 'error' object has no attribute '_render_traceback_'\n",
      "\n",
      "During handling of the above exception, another exception occurred:\n",
      "\n",
      "Traceback (most recent call last):\n",
      "  File \"/opt/anaconda3/lib/python3.7/site-packages/IPython/core/ultratb.py\", line 1101, in get_records\n",
      "    return _fixed_getinnerframes(etb, number_of_lines_of_context, tb_offset)\n",
      "  File \"/opt/anaconda3/lib/python3.7/site-packages/IPython/core/ultratb.py\", line 319, in wrapped\n",
      "    return f(*args, **kwargs)\n",
      "  File \"/opt/anaconda3/lib/python3.7/site-packages/IPython/core/ultratb.py\", line 353, in _fixed_getinnerframes\n",
      "    records = fix_frame_records_filenames(inspect.getinnerframes(etb, context))\n",
      "  File \"/opt/anaconda3/lib/python3.7/inspect.py\", line 1502, in getinnerframes\n",
      "    frameinfo = (tb.tb_frame,) + getframeinfo(tb, context)\n",
      "  File \"/opt/anaconda3/lib/python3.7/inspect.py\", line 1460, in getframeinfo\n",
      "    filename = getsourcefile(frame) or getfile(frame)\n",
      "  File \"/opt/anaconda3/lib/python3.7/inspect.py\", line 696, in getsourcefile\n",
      "    if getattr(getmodule(object, filename), '__loader__', None) is not None:\n",
      "  File \"/opt/anaconda3/lib/python3.7/inspect.py\", line 725, in getmodule\n",
      "    file = getabsfile(object, _filename)\n",
      "  File \"/opt/anaconda3/lib/python3.7/inspect.py\", line 709, in getabsfile\n",
      "    return os.path.normcase(os.path.abspath(_filename))\n",
      "  File \"/opt/anaconda3/lib/python3.7/posixpath.py\", line 383, in abspath\n",
      "    cwd = os.getcwd()\n",
      "FileNotFoundError: [Errno 2] No such file or directory\n"
     ]
    },
    {
     "ename": "error",
     "evalue": "unterminated character set at position 0",
     "output_type": "error",
     "traceback": [
      "\u001b[0;31m---------------------------------------------------------------------------\u001b[0m"
     ]
    }
   ],
   "source": [
    "re.search(r'[\\]','I love FishC')"
   ]
  },
  {
   "cell_type": "code",
   "execution_count": 46,
   "metadata": {},
   "outputs": [
    {
     "data": {
      "text/plain": [
       "<re.Match object; span=(12, 13), match='\\n'>"
      ]
     },
     "execution_count": 46,
     "metadata": {},
     "output_type": "execute_result"
    }
   ],
   "source": [
    "re.search(r'[\\n]','I love FishC\\n')"
   ]
  },
  {
   "cell_type": "code",
   "execution_count": 47,
   "metadata": {},
   "outputs": [
    {
     "data": {
      "text/plain": [
       "<re.Match object; span=(0, 1), match='I'>"
      ]
     },
     "execution_count": 47,
     "metadata": {},
     "output_type": "execute_result"
    }
   ],
   "source": [
    "re.search(r'[^a-z]','I love FishC.com')#[]里的^表示取反"
   ]
  },
  {
   "cell_type": "code",
   "execution_count": 48,
   "metadata": {},
   "outputs": [
    {
     "data": {
      "text/plain": [
       "<re.Match object; span=(2, 3), match='l'>"
      ]
     },
     "execution_count": 48,
     "metadata": {},
     "output_type": "execute_result"
    }
   ],
   "source": [
    "re.search(r'[a-z^]','I love FishC.com')#[]里的^表示^本身"
   ]
  },
  {
   "cell_type": "code",
   "execution_count": 49,
   "metadata": {},
   "outputs": [
    {
     "data": {
      "text/plain": [
       "<re.Match object; span=(7, 14), match='FishCCC'>"
      ]
     },
     "execution_count": 49,
     "metadata": {},
     "output_type": "execute_result"
    }
   ],
   "source": [
    "#{}前面字符次数\n",
    "re.search(r'FishC{3}','I love FishCCC.com')#[]里的^表示取反\n",
    "#注意：等号右边的比较好\n",
    "#{0,} = *\n",
    "#{1,} = +\n",
    "#{0,1} = ?"
   ]
  },
  {
   "cell_type": "code",
   "execution_count": null,
   "metadata": {},
   "outputs": [],
   "source": [
    "#注意在正则表达式里不能随意加空格，比如说，前后"
   ]
  },
  {
   "cell_type": "code",
   "execution_count": 50,
   "metadata": {},
   "outputs": [
    {
     "data": {
      "text/plain": [
       "<re.Match object; span=(0, 44), match='<html><title>I love fishC.com</title></html>'>"
      ]
     },
     "execution_count": 50,
     "metadata": {},
     "output_type": "execute_result"
    }
   ],
   "source": [
    "#贪婪\n",
    "s = '<html><title>I love fishC.com</title></html>'\n",
    "re.search(r'<.+>',s)#这里已经是贪婪模式了"
   ]
  },
  {
   "cell_type": "code",
   "execution_count": 52,
   "metadata": {},
   "outputs": [
    {
     "data": {
      "text/plain": [
       "<re.Match object; span=(0, 6), match='<html>'>"
      ]
     },
     "execution_count": 52,
     "metadata": {},
     "output_type": "execute_result"
    }
   ],
   "source": [
    "re.search(r'<.+?>',s)#这里是非贪婪模式"
   ]
  },
  {
   "cell_type": "markdown",
   "metadata": {},
   "source": [
    "059：论一只爬虫的自我修养7 --正则表达式3\n",
    "\\\n",
    "\\序号\n",
    "\\A 匹配输入字符的开始位置==^ 默认情况下\n",
    "\\Z 匹配输入字符的结束位置==$ 默认情况下\n",
    "\\b\n",
    "\\B\n",
    "\\d 数字 或 八位bytes类型\n",
    "\\D 非unicode数字\n",
    "\\s unicode str \n",
    "\\S\n",
    "\\w 单词字母\n",
    "\\W\n",
    "转义符号"
   ]
  },
  {
   "cell_type": "code",
   "execution_count": 54,
   "metadata": {},
   "outputs": [
    {
     "data": {
      "text/plain": [
       "['FishC', 'FishC']"
      ]
     },
     "execution_count": 54,
     "metadata": {},
     "output_type": "execute_result"
    }
   ],
   "source": [
    "import re\n",
    "re.findall(r'\\bFishC\\b','FishC, FishC_I love FishC.com')\n",
    "#\\b单词边界:空格，.，!，但_,或后面紧接其他字符则不属于单词边界"
   ]
  },
  {
   "cell_type": "code",
   "execution_count": null,
   "metadata": {},
   "outputs": [],
   "source": []
  },
  {
   "cell_type": "code",
   "execution_count": null,
   "metadata": {},
   "outputs": [],
   "source": [
    "#\\B则是匹配非单词边界"
   ]
  },
  {
   "cell_type": "code",
   "execution_count": 55,
   "metadata": {},
   "outputs": [
    {
     "data": {
      "text/plain": [
       "['我',\n",
       " '爱',\n",
       " '鱼',\n",
       " 'C',\n",
       " '工',\n",
       " '作',\n",
       " '室',\n",
       " 'F',\n",
       " 'i',\n",
       " 's',\n",
       " 'h',\n",
       " 'C',\n",
       " 'F',\n",
       " 'i',\n",
       " 's',\n",
       " 'h',\n",
       " 'C',\n",
       " '_',\n",
       " 'I',\n",
       " 'l',\n",
       " 'o',\n",
       " 'v',\n",
       " 'e',\n",
       " 'F',\n",
       " 'i',\n",
       " 's',\n",
       " 'h',\n",
       " 'C',\n",
       " 'c',\n",
       " 'o',\n",
       " 'm']"
      ]
     },
     "execution_count": 55,
     "metadata": {},
     "output_type": "execute_result"
    }
   ],
   "source": [
    "re.findall(r'\\w','我爱鱼C工作室 FishC, FishC_I love FishC.com')"
   ]
  },
  {
   "cell_type": "code",
   "execution_count": 56,
   "metadata": {},
   "outputs": [
    {
     "data": {
      "text/plain": [
       "re.Pattern"
      ]
     },
     "execution_count": 56,
     "metadata": {},
     "output_type": "execute_result"
    }
   ],
   "source": [
    "#编译正则表达式，先变成模式对象\n",
    "p = re.compile(r'[A-Z]')#变成模块\n",
    "type(p)"
   ]
  },
  {
   "cell_type": "code",
   "execution_count": 57,
   "metadata": {},
   "outputs": [
    {
     "data": {
      "text/plain": [
       "<re.Match object; span=(0, 1), match='I'>"
      ]
     },
     "execution_count": 57,
     "metadata": {},
     "output_type": "execute_result"
    }
   ],
   "source": [
    "p.search('I love FishC.com!')"
   ]
  },
  {
   "cell_type": "code",
   "execution_count": 58,
   "metadata": {},
   "outputs": [
    {
     "data": {
      "text/plain": [
       "['I', 'F', 'C']"
      ]
     },
     "execution_count": 58,
     "metadata": {},
     "output_type": "execute_result"
    }
   ],
   "source": [
    "p.findall('I love FishC.com!')"
   ]
  },
  {
   "cell_type": "raw",
   "metadata": {},
   "source": [
    "##### 编译标志\n",
    "ASCII,A 只能符合ASCII字符，忽略Unicode\n",
    "DOTALL,S 使得.匹配任何字符，忽略换行符\n",
    "IGNORECASE，I 不区分大小写\n",
    "LOCALE,L 支持当前的语言设置\n",
    "MULTILINE,M 多行匹配，影响^和$\n",
    "VERBOSE,X(for extended) 启用详细的正则表达式"
   ]
  },
  {
   "cell_type": "code",
   "execution_count": null,
   "metadata": {},
   "outputs": [],
   "source": [
    "#VERBOSE,X(for extended) 启用详细的正则表达式：支持tab 支持空格 支持换行"
   ]
  },
  {
   "cell_type": "markdown",
   "metadata": {},
   "source": [
    "060：论一只爬虫的自我修养8 --正则表达式4\n",
    "search()\n",
    "模块级别的search（pattern，string，flag=0）\n",
    "编译后的模式对象search(string[,pos[,endpods]])---[,pos[,endpods]]开始位置和结束位置\n",
    "并不会返回一个字符串，而是返回一个匹配对象"
   ]
  },
  {
   "cell_type": "code",
   "execution_count": 61,
   "metadata": {},
   "outputs": [
    {
     "data": {
      "text/plain": [
       "<re.Match object; span=(0, 5), match='FishC'>"
      ]
     },
     "execution_count": 61,
     "metadata": {},
     "output_type": "execute_result"
    }
   ],
   "source": [
    "import re\n",
    "result = re.search(r'(\\w+)(\\w+)','FishC, FishC_I love FishC.com')\n",
    "result"
   ]
  },
  {
   "cell_type": "code",
   "execution_count": 62,
   "metadata": {},
   "outputs": [
    {
     "data": {
      "text/plain": [
       "'FishC'"
      ]
     },
     "execution_count": 62,
     "metadata": {},
     "output_type": "execute_result"
    }
   ],
   "source": [
    "result.group()#利用group方法可以捕获search中匹配的词组"
   ]
  },
  {
   "cell_type": "code",
   "execution_count": 65,
   "metadata": {},
   "outputs": [
    {
     "data": {
      "text/plain": [
       "'FishC'"
      ]
     },
     "execution_count": 65,
     "metadata": {},
     "output_type": "execute_result"
    }
   ],
   "source": [
    "result.group(0)"
   ]
  },
  {
   "cell_type": "code",
   "execution_count": 66,
   "metadata": {},
   "outputs": [
    {
     "data": {
      "text/plain": [
       "'Fish'"
      ]
     },
     "execution_count": 66,
     "metadata": {},
     "output_type": "execute_result"
    }
   ],
   "source": [
    "result.group(1)"
   ]
  },
  {
   "cell_type": "code",
   "execution_count": 69,
   "metadata": {},
   "outputs": [
    {
     "data": {
      "text/plain": [
       "'C'"
      ]
     },
     "execution_count": 69,
     "metadata": {},
     "output_type": "execute_result"
    }
   ],
   "source": [
    "result.group(2)"
   ]
  },
  {
   "cell_type": "code",
   "execution_count": 70,
   "metadata": {},
   "outputs": [
    {
     "name": "stderr",
     "output_type": "stream",
     "text": [
      "ERROR:root:Internal Python error in the inspect module.\n",
      "Below is the traceback from this internal error.\n",
      "\n"
     ]
    },
    {
     "name": "stdout",
     "output_type": "stream",
     "text": [
      "Traceback (most recent call last):\n",
      "  File \"/opt/anaconda3/lib/python3.7/site-packages/IPython/core/interactiveshell.py\", line 3326, in run_code\n",
      "    exec(code_obj, self.user_global_ns, self.user_ns)\n",
      "  File \"<ipython-input-70-7e9c3490d97d>\", line 1, in <module>\n",
      "    result.group(3)\n",
      "IndexError: no such group\n",
      "\n",
      "During handling of the above exception, another exception occurred:\n",
      "\n",
      "Traceback (most recent call last):\n",
      "  File \"/opt/anaconda3/lib/python3.7/site-packages/IPython/core/interactiveshell.py\", line 2040, in showtraceback\n",
      "    stb = value._render_traceback_()\n",
      "AttributeError: 'IndexError' object has no attribute '_render_traceback_'\n",
      "\n",
      "During handling of the above exception, another exception occurred:\n",
      "\n",
      "Traceback (most recent call last):\n",
      "  File \"/opt/anaconda3/lib/python3.7/site-packages/IPython/core/ultratb.py\", line 1101, in get_records\n",
      "    return _fixed_getinnerframes(etb, number_of_lines_of_context, tb_offset)\n",
      "  File \"/opt/anaconda3/lib/python3.7/site-packages/IPython/core/ultratb.py\", line 319, in wrapped\n",
      "    return f(*args, **kwargs)\n",
      "  File \"/opt/anaconda3/lib/python3.7/site-packages/IPython/core/ultratb.py\", line 353, in _fixed_getinnerframes\n",
      "    records = fix_frame_records_filenames(inspect.getinnerframes(etb, context))\n",
      "  File \"/opt/anaconda3/lib/python3.7/inspect.py\", line 1502, in getinnerframes\n",
      "    frameinfo = (tb.tb_frame,) + getframeinfo(tb, context)\n",
      "  File \"/opt/anaconda3/lib/python3.7/inspect.py\", line 1460, in getframeinfo\n",
      "    filename = getsourcefile(frame) or getfile(frame)\n",
      "  File \"/opt/anaconda3/lib/python3.7/inspect.py\", line 696, in getsourcefile\n",
      "    if getattr(getmodule(object, filename), '__loader__', None) is not None:\n",
      "  File \"/opt/anaconda3/lib/python3.7/inspect.py\", line 725, in getmodule\n",
      "    file = getabsfile(object, _filename)\n",
      "  File \"/opt/anaconda3/lib/python3.7/inspect.py\", line 709, in getabsfile\n",
      "    return os.path.normcase(os.path.abspath(_filename))\n",
      "  File \"/opt/anaconda3/lib/python3.7/posixpath.py\", line 383, in abspath\n",
      "    cwd = os.getcwd()\n",
      "FileNotFoundError: [Errno 2] No such file or directory\n"
     ]
    },
    {
     "ename": "IndexError",
     "evalue": "no such group",
     "output_type": "error",
     "traceback": [
      "\u001b[0;31m---------------------------------------------------------------------------\u001b[0m"
     ]
    }
   ],
   "source": [
    "result.group(3)"
   ]
  },
  {
   "cell_type": "code",
   "execution_count": 71,
   "metadata": {},
   "outputs": [
    {
     "data": {
      "text/plain": [
       "0"
      ]
     },
     "execution_count": 71,
     "metadata": {},
     "output_type": "execute_result"
    }
   ],
   "source": [
    "result.start()#返回开始位置"
   ]
  },
  {
   "cell_type": "code",
   "execution_count": 72,
   "metadata": {},
   "outputs": [
    {
     "data": {
      "text/plain": [
       "5"
      ]
     },
     "execution_count": 72,
     "metadata": {},
     "output_type": "execute_result"
    }
   ],
   "source": [
    "result.end()#返回结束位置"
   ]
  },
  {
   "cell_type": "code",
   "execution_count": 73,
   "metadata": {},
   "outputs": [
    {
     "data": {
      "text/plain": [
       "(0, 5)"
      ]
     },
     "execution_count": 73,
     "metadata": {},
     "output_type": "execute_result"
    }
   ],
   "source": [
    "result.span()"
   ]
  },
  {
   "cell_type": "code",
   "execution_count": null,
   "metadata": {},
   "outputs": [],
   "source": [
    "#findall 在正则表达式没有词组的情况下找到字母并返回；如果包含了词组,它将词组组合为元组的形式返回"
   ]
  },
  {
   "cell_type": "code",
   "execution_count": null,
   "metadata": {},
   "outputs": [],
   "source": [
    "import urllib.request\n",
    "import re\n",
    "\n",
    "def url_open(url):\n",
    "    req = urllib.request.Request(url)\n",
    "    req.add_header('User-Agent','Mozilla/5.0 (Macintosh; Intel Mac OS X 10_13_6) AppleWebKit/537.36 (KHTML, like Gecko) Chrome/80.0.3987.132 Safari/537.36')\n",
    "    res = urllib.request.urlopen(req)\n",
    "    html = res.read().decode('utf-8')\n",
    "    \n",
    "    return html\n",
    "\n",
    "def get_img(html):\n",
    "    #正则表达式\n",
    "    #p = r'<img class = \"BDE_Image\" src = \"[^\"]\"+\\.jpg\"'\n",
    "    #p = r'<img class = \"BDE_Image\" src = (\"[^\"]\"+\\.jpg)\"'\n",
    "    p = r'(([0,1]?\\d?\\d|2[0-4]\\d|25[0-5])\\.){3}([0,1]?\\d?\\d|2[0-4]\\d|25[0-5])'\n",
    "\n",
    "    iplist = re.findall(p,html)\n",
    "     \n",
    "    for each in iplist:\n",
    "        print(each)\n",
    "        #filename = each.split('/')[-1]\n",
    "        #urllib.request.urlretrieve(each,filename,None)\n",
    "\n",
    "if __name__ == '__main__':\n",
    "    url = 'https://cn-proxy.com'\n",
    "    get_img(url_open(url))"
   ]
  },
  {
   "cell_type": "markdown",
   "metadata": {},
   "source": [
    "061：论一只爬虫的自我修养9：异常处理\n",
    "URLError\n",
    "包含HTTPError"
   ]
  },
  {
   "cell_type": "code",
   "execution_count": 7,
   "metadata": {},
   "outputs": [
    {
     "name": "stdout",
     "output_type": "stream",
     "text": [
      "Bad Gateway\n"
     ]
    }
   ],
   "source": [
    "#URLError\n",
    "import urllib.request\n",
    "import urllib.error\n",
    "req = urllib.request.Request('http://sttt-fishC.com')\n",
    "try:\n",
    "    urllib.request.urlopen(req)\n",
    "except urllib.error.URLError as e:\n",
    "    print(e.reason)"
   ]
  },
  {
   "cell_type": "code",
   "execution_count": 10,
   "metadata": {},
   "outputs": [
    {
     "name": "stdout",
     "output_type": "stream",
     "text": [
      "502\n",
      "b'Unable to round-trip http request to upstream: lookup sttt-fishC.com on 127.0.0.1:53: no such host\\x00\\x01\\x01\\x01\\x01\\x01\\x01\\x01\\x01\\x01\\x01\\x01\\x01\\x15\\x10\\x05\\x13\\x00'\n"
     ]
    }
   ],
   "source": [
    "#HTTPError\n",
    "req = urllib.request.Request('http://sttt-fishC.com')\n",
    "try:\n",
    "    urllib.request.urlopen(req)\n",
    "except urllib.error.HTTPError as e:\n",
    "    print(e.code)\n",
    "    print(e.read())"
   ]
  },
  {
   "cell_type": "code",
   "execution_count": null,
   "metadata": {},
   "outputs": [],
   "source": [
    "#处理异常的第一种写法\n",
    "from urllib.request import Request,urlopen\n",
    "from urllib.error import URLError,HTTPError\n",
    "req = urllib.request.Request(someURL)\n",
    "try:\n",
    "    urllib.request.urlopen(req)\n",
    "except urllib.error.HTTPError as e:##HTTPError要写在URLError前面\n",
    "    print(e.code)\n",
    "    print(e.read())\n",
    "except urllib.error.URLError as e:\n",
    "    print(e.reason)"
   ]
  },
  {
   "cell_type": "code",
   "execution_count": null,
   "metadata": {},
   "outputs": [],
   "source": [
    "#处理异常的第二种写法\n",
    "from urllib.request import Request,urlopen\n",
    "from urllib.error import URLError,HTTPError\n",
    "req = Request(someURL)\n",
    "try:\n",
    "    res = urlopen(req)\n",
    "except URLError as e:##HTTPError要写在URLError前面\n",
    "    if hasattr(e,'reason'):\n",
    "        print(e.reason)\n",
    "    elif hasattr(e,'code'):\n",
    "        print(e.code)\n",
    "else:\n",
    "    #everything is fine\n",
    "    "
   ]
  },
  {
   "cell_type": "markdown",
   "metadata": {},
   "source": [
    "061：论一只爬虫的自我修养10：安装scapy"
   ]
  },
  {
   "cell_type": "code",
   "execution_count": null,
   "metadata": {},
   "outputs": [],
   "source": [
    "#Lib\\site-packages\\sitecustomize.py\n",
    "import sys\n",
    "sys.setdefaultencoding('gd2312')"
   ]
  },
  {
   "cell_type": "markdown",
   "metadata": {},
   "source": [
    "062：论一只爬虫的自我修养11：scapy框架之初窥门径\n",
    "利用scrapy抓取一个网站需要四个步骤：\n",
    "1， 创建一个scrapy项目；\n",
    "2， 定义Item容器：Item是用于保存爬取到的数据的容器，与字典类似，并提供了额外保护机制避免拼写错误导致的未定义字段错误\n",
    "3， 编写爬虫\n",
    "4， 存储内容\n",
    "\n",
    "了解scrapy框架\n",
    "\n",
    "www.dmoz.org 开放式分类目录的网站 已经进不去了 作为例子"
   ]
  },
  {
   "cell_type": "raw",
   "metadata": {},
   "source": [
    "#创建一个scrapy项目；以下是在terminal的指令\n",
    "cd Desktop\n",
    "scrapy startproject name\n",
    "在桌面上生成了一个叫做name的文件夹"
   ]
  },
  {
   "cell_type": "raw",
   "metadata": {},
   "source": [
    "这个文件夹的配置如下：\n",
    "name/\n",
    "    scrapy.cfg #项目的配置文件\n",
    "    name/ #子文件夹\n",
    "        __init__.py\n",
    "        item.py #容器\n",
    "        pipelines.py\n",
    "        settings.py\n",
    "        spider.py\n",
    "        spider/ #文件夹，需要我们完成\n",
    "            __init__.py\n",
    "            ..."
   ]
  },
  {
   "cell_type": "code",
   "execution_count": null,
   "metadata": {},
   "outputs": [],
   "source": [
    "#定义Item容器 在items.py里：\n",
    "import scrapy\n",
    "\n",
    "class DomzItem(scrapy.Item):\n",
    "    # define the fields for your item here like:\n",
    "    # name = scrapy.Field()\n",
    "    title = scrapy.Field()\n",
    "    link = scrapy.Field()\n",
    "    desc = scrapy.Field()"
   ]
  },
  {
   "cell_type": "code",
   "execution_count": null,
   "metadata": {},
   "outputs": [],
   "source": [
    "#编写爬虫 在spiders的文件夹里\n",
    "#Spider是用户编写用于从网站上爬取数据的类\n",
    "#其中包含：\n",
    "#·用于下载的初始URL，\n",
    "#·跟进网页中链接\n",
    "#·分析页面内容，\n",
    "#·以及提取生成item的方法\n",
    "\n",
    "#在spiders的文件夹里创建一个dmoz_spider.py\n",
    "import scrapy\n",
    "\n",
    "class DmozSpider(scrapy.Spider):\n",
    "    name = 'domz'\n",
    "    allowed_domains = ['dmoz.org']\n",
    "    start_url = ['http://www.dmoz.org/Computers/Programming/Languages/Python/Books/','http://www.dmoz.org/Computers/Programming/Languages/Python/Resources/']\n",
    "    \n",
    "    def parse(self,response):#分区方法 接受后分析处理\n",
    "        filename = response.url.split('/')[-2]\n",
    "        with open(filename,'wb') as f:\n",
    "            f.write(response.body)"
   ]
  },
  {
   "cell_type": "raw",
   "metadata": {},
   "source": [
    "#在terminal里 先爬后取\n",
    "cd name\n",
    "scrapy crawl dmoz ##name = 'domz'\n",
    "#会在 name文件夹里新建两个books和resources两个文件，里面是网页内容\n",
    "#后取，从books和resources两个文件里提取内容\n",
    "#在scrapy中使用一种基于XPath和CSS的表达式机制：Scrapy Selectors\n",
    "\n",
    "###Selector是一个选择器，它有四个基本的方法：\n",
    "# xpath():传入xpath表达式，返回该表达式所对应的节点的selector list列表\n",
    "# css():传入css表达式吗，返回该表达式所对应的所有节点的selectorlist列表\n",
    "# extract():序列化该节点为Unicode字符串并返回list\n",
    "# re():根据传入的正则表达式对数据进行提取，返回Unicode字符串list列表\n",
    "\n",
    "#terminal中先到根目录\n",
    "scrapy shell \"http://www.dmoz.org/Computers/Programming/Languages/Python/Books/\"\n",
    "\n",
    "response.body\n",
    "response.headers"
   ]
  },
  {
   "cell_type": "raw",
   "metadata": {},
   "source": [
    "# XPath是一门在网页中查找特定信息的语言。比正则表达式更容易\n",
    "/html/head/title:选择HTML文档中的<head>标签内的<title>元素\n",
    "/html/head/title、text():选择<title>元素的文字\n",
    "//td:选择所有的<td>元素\n",
    "//div[@class = 'mine']:选择所有具有class='mine'属性的div元素\n",
    "\n",
    "#其中response.xpath() == reponse.selector.xpath()"
   ]
  },
  {
   "cell_type": "code",
   "execution_count": null,
   "metadata": {},
   "outputs": [],
   "source": [
    "#全在terminal中\n",
    "response.xpath('//title')\n",
    "response.xpath('//title').extract()\n",
    "response.xpath('//title/text()').extract()\n",
    "\n",
    "#在审查元素（开发者工具）中定位\n",
    "sel.xpath('//ul/li')\n",
    "sel.xpath('//ul/li/text()').extract()\n",
    "sel.xpath('//ul/li/a/text()').extract()\n",
    "sel.xpath('//ul/li/a/@href').extract()\n",
    "\n",
    "#用循环提取\n",
    "sites = sel.xpath('//ul/li')\n",
    "for site in sites:\n",
    "    title = site.xpath('a/text()').extract()\n",
    "    print(title)\n",
    "\n",
    "#在增加一个过滤字符\n",
    "sites = sel.xpath('//ul[@class = \"directory-url\"]/li')\n",
    "for site in sites:\n",
    "    title = site.xpath('a/text()').extract()\n",
    "    print(title)\n",
    "\n"
   ]
  },
  {
   "cell_type": "code",
   "execution_count": null,
   "metadata": {},
   "outputs": [],
   "source": [
    "#下面修改domz_spider.py的代码\n",
    "import scrapy\n",
    "\n",
    "from name.items import DomzItem\n",
    "\n",
    "class DmozSpider(scrapy.Spider):\n",
    "    name = 'domz'\n",
    "    allowed_domains = ['dmoz.org']\n",
    "    start_url = ['http://www.dmoz.org/Computers/Programming/Languages/Python/Books/','http://www.dmoz.org/Computers/Programming/Languages/Python/Resources/']\n",
    "    \n",
    "    def parse(self,response):#分区方法 接受后分析处理\n",
    "        sel = scrapy.slector.Selector(response)\n",
    "        sites = sel.xpath('//ul[@class = \"directory-url\"]/li')\n",
    "        items = []\n",
    "        for site in sites:\n",
    "            item = DmozItem()\n",
    "            item['title'] = site.xpath('a/text()').extract()\n",
    "            item['link'] = site.xpath('a/@hrf').extract()\n",
    "            item['desc'] = site.xpath('text()').extract()\n",
    "            #print(item['title'],item['link'],item['desc'])\n",
    "            items.append(item)\n",
    "            \n",
    "        return items"
   ]
  },
  {
   "cell_type": "code",
   "execution_count": null,
   "metadata": {},
   "outputs": [],
   "source": [
    "#在terminal里测试print(item['title'],item['link'],item['desc'])\n",
    "scrapy crawl dmoz"
   ]
  },
  {
   "cell_type": "code",
   "execution_count": null,
   "metadata": {},
   "outputs": [],
   "source": [
    "#在terminal里\n",
    "cd Desktop\\name\n",
    "scrapy crawl dmoz \n",
    "\n",
    "#有四种形式方便导出,如json\n",
    "scrapy crawl dmoz -o items.json -t json\n",
    "#创建了一个items.json文件在最外层name文件夹里\n"
   ]
  },
  {
   "cell_type": "markdown",
   "metadata": {},
   "source": [
    "064：GUI的终极选择：Tkinter1\n",
    "为TCL（工具命令语言）设计的\n",
    "TK + interface = TKinter"
   ]
  },
  {
   "cell_type": "code",
   "execution_count": 6,
   "metadata": {},
   "outputs": [],
   "source": [
    "#tk1.py\n",
    "import tkinter as tk\n",
    "\n",
    "app = tk.Tk() #注意小写的k\n",
    "# top level, root窗口\n",
    "app.title('FishC Demo')\n",
    "\n",
    "theLabel = tk.Label(app, text = 'my second window!')#Label显示文本\n",
    "theLabel.pack()\n",
    "\n",
    "app.mainloop()#主事件循环\n"
   ]
  },
  {
   "cell_type": "code",
   "execution_count": 13,
   "metadata": {},
   "outputs": [
    {
     "name": "stdout",
     "output_type": "stream",
     "text": [
      "互联网的广大朋友们大家好~\n"
     ]
    }
   ],
   "source": [
    "#tk2.py--将GUI分装成类\n",
    "import tkinter as tk\n",
    "\n",
    "class APP:\n",
    "    def __init__(self,master):\n",
    "        frame = tk.Frame(master)\n",
    "        frame.pack(side = tk.LEFT,padx = 100,pady = 100)#自动调整位置\n",
    "        \n",
    "        self.hi_there = tk.Button(frame,text = 'Say Hi', bg = 'black', fg = 'blue', command = self.say_hi)\n",
    "        self.hi_there.pack()\n",
    "        \n",
    "    def say_hi(self):\n",
    "        print('互联网的广大朋友们大家好~')\n",
    "        \n",
    "root = tk.Tk() \n",
    "app = APP(root)\n",
    "\n",
    "root.mainloop()#主事件循环\n",
    "\n"
   ]
  },
  {
   "cell_type": "markdown",
   "metadata": {},
   "source": [
    "065：GUI的终极选择：Tkinter2--加图片"
   ]
  },
  {
   "cell_type": "code",
   "execution_count": 1,
   "metadata": {},
   "outputs": [],
   "source": [
    "#tk_1.py\n",
    "from tkinter import *#这样就不用满屏tk了\n",
    "\n",
    "root = Tk() \n",
    "\n",
    "textLabel = Label(root, \n",
    "                  text = 'This is forbidden \\n if you do not reach 18!',\n",
    "                  justify = LEFT,\n",
    "                  padx = 10)\n",
    "textLabel.pack(side = LEFT)\n",
    "\n",
    "photo = PhotoImage(file = \"basic1.png\")\n",
    "#注意这里只支持gif和png\n",
    "imgLabel = Label(root,image = photo)\n",
    "imgLabel.pack(side = RIGHT)\n",
    "\n",
    "mainloop()#主事件循环\n",
    "\n"
   ]
  },
  {
   "cell_type": "code",
   "execution_count": 3,
   "metadata": {},
   "outputs": [],
   "source": [
    "#将图片作为背景，文字显示在上面\n",
    "#tk_2.py\n",
    "from tkinter import *#这样就不用满屏tk了\n",
    "\n",
    "root = Tk() \n",
    "\n",
    "photo = PhotoImage(file = \"basic1.png\")\n",
    "#注意这里只支持gif和png\n",
    "imgLabel = Label(root,\n",
    "                 text='哈哈哈哈',\n",
    "                 justify = LEFT,\n",
    "                 image = photo,\n",
    "                 compound = CENTER,\n",
    "                 #font = '微软雅黑'，20\n",
    "                 fg = 'blue')\n",
    "imgLabel.pack()\n",
    "\n",
    "mainloop()#主事件循环"
   ]
  },
  {
   "cell_type": "code",
   "execution_count": 4,
   "metadata": {},
   "outputs": [],
   "source": [
    "#Button\n",
    "#上面的框架放文字和图片，下面的框架放button\n",
    "#tk_3.py\n",
    "from tkinter import *#这样就不用满屏tk了\n",
    "\n",
    "def callback():\n",
    "    var.set(\"I don't believe you!\")\n",
    "\n",
    "root = Tk() \n",
    "\n",
    "frame1 = Frame(root)\n",
    "frame2 = Frame(root)\n",
    "\n",
    "var = StringVar()\n",
    "var.set('What you download contains teenage-forbidden context!')\n",
    "textLabel = Label(frame1,\n",
    "                 textvariable = var,\n",
    "                 justify = LEFT)\n",
    "textLabel.pack()\n",
    "\n",
    "'''\n",
    "photo = PhotoImage(file = \"basic1.png\")\n",
    "#注意这里只支持gif和png\n",
    "imgLabel = Label(frame1,\n",
    "                 text='哈哈哈哈',\n",
    "                 justify = LEFT,\n",
    "                 image = photo,\n",
    "                 compound = CENTER,\n",
    "                 #font = '微软雅黑'，20\n",
    "                 fg = 'blue')\n",
    "imgLabel.pack(side = LEFT)'''\n",
    "\n",
    "theButton = Button(frame2, text = 'I am already over 18!',command = callback)\n",
    "theButton.pack()\n",
    "\n",
    "frame1.pack(padx = 10)\n",
    "frame2.pack(padx = 10)\n",
    "\n",
    "mainloop()#主事件循环"
   ]
  },
  {
   "cell_type": "markdown",
   "metadata": {},
   "source": [
    "065：GUI的终极选择：Tkinter3--check box"
   ]
  },
  {
   "cell_type": "code",
   "execution_count": 7,
   "metadata": {},
   "outputs": [],
   "source": [
    "from tkinter import *\n",
    "\n",
    "root = Tk()\n",
    "\n",
    "v = IntVar()\n",
    "\n",
    "c = Checkbutton(root,text = 'Test！！',variable = v)\n",
    "c.pack()\n",
    "\n",
    "l = Label(root,textvariable = v)#这里可以改变选中的状态\n",
    "l.pack()\n",
    "\n",
    "mainloop()"
   ]
  },
  {
   "cell_type": "code",
   "execution_count": 8,
   "metadata": {},
   "outputs": [],
   "source": [
    "from tkinter import *\n",
    "\n",
    "root = Tk()\n",
    "\n",
    "GIRLS = ['西施','貂蝉','王昭君','杨玉环']\n",
    "\n",
    "v = []\n",
    "\n",
    "for girl in GIRLS:\n",
    "    v.append(IntVar())\n",
    "    b = Checkbutton(root, text = girl, variable = v[-1])\n",
    "    b.pack()\n",
    "\n",
    "mainloop()"
   ]
  },
  {
   "cell_type": "code",
   "execution_count": 9,
   "metadata": {},
   "outputs": [],
   "source": [
    "from tkinter import *\n",
    "\n",
    "root = Tk()\n",
    "\n",
    "v = IntVar()#多个按钮只需要一个变量\n",
    "\n",
    "Radiobutton(root,text = 'One！！',variable = v, value = 1).pack()\n",
    "Radiobutton(root,text = 'Two！！',variable = v, value = 2).pack()\n",
    "Radiobutton(root,text = 'Three！！',variable = v, value = 3).pack()\n",
    "\n",
    "mainloop()"
   ]
  },
  {
   "cell_type": "code",
   "execution_count": 11,
   "metadata": {},
   "outputs": [],
   "source": [
    "from tkinter import *\n",
    "\n",
    "root = Tk()\n",
    "\n",
    "LANGS = [('Python',1),('Per1',2),('Ruby',3),('Lua',4)]\n",
    "\n",
    "v = IntVar()\n",
    "v.set(1)\n",
    "\n",
    "for lang, num in LANGS:\n",
    "    b = Radiobutton(root,text = lang, variable = v, value = num, indicatoron = False)\n",
    "    b.pack(fill = X)#(anchor = W)\n",
    "    \n",
    "mainloop()"
   ]
  },
  {
   "cell_type": "code",
   "execution_count": 12,
   "metadata": {},
   "outputs": [],
   "source": [
    "from tkinter import *\n",
    "\n",
    "root = Tk()\n",
    "\n",
    "group = LabelFrame(root,text = 'The best language is?', padx = 5, pady = 5)\n",
    "group.pack(padx = 10,pady = 10)     \n",
    "\n",
    "LANGS = [('Python',1),('Per1',2),('Ruby',3),('Lua',4)]\n",
    "\n",
    "v = IntVar()\n",
    "\n",
    "for lang, num in LANGS:\n",
    "    b = Radiobutton(group,text = lang, variable = v, value = num, indicatoron = False)\n",
    "    b.pack(anchor = W)\n",
    "    \n",
    "mainloop()"
   ]
  },
  {
   "cell_type": "code",
   "execution_count": null,
   "metadata": {},
   "outputs": [],
   "source": []
  }
 ],
 "metadata": {
  "kernelspec": {
   "display_name": "Python 3",
   "language": "python",
   "name": "python3"
  },
  "language_info": {
   "codemirror_mode": {
    "name": "ipython",
    "version": 3
   },
   "file_extension": ".py",
   "mimetype": "text/x-python",
   "name": "python",
   "nbconvert_exporter": "python",
   "pygments_lexer": "ipython3",
   "version": "3.7.4"
  }
 },
 "nbformat": 4,
 "nbformat_minor": 4
}
